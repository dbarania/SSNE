{
 "cells": [
  {
   "cell_type": "code",
   "metadata": {
    "ExecuteTime": {
     "end_time": "2025-03-04T21:06:47.703970Z",
     "start_time": "2025-03-04T21:06:47.700088Z"
    }
   },
   "source": [
    "import torch\n",
    "import numpy as np"
   ],
   "outputs": [],
   "execution_count": 115
  },
  {
   "cell_type": "markdown",
   "metadata": {},
   "source": [
    "Tensory w PyTorchu to specjalne struktury danych które przypominają tablice/macierze. Używamy ich do przechowywania wejśc/wyjść z sieci jak również wag modelu.\n",
    "Tensory przypominają swoją budową tablice numpy https://numpy.org/, z zasadniczą różnicą ktorą jest łatwa możliwość przechowywania i operowania na tensorach na kartach graficznych "
   ]
  },
  {
   "cell_type": "markdown",
   "metadata": {},
   "source": [
    "Tensory mogą być tworzone w różny sposób:\n",
    "1. Ze standardowych tablic"
   ]
  },
  {
   "cell_type": "code",
   "metadata": {
    "ExecuteTime": {
     "end_time": "2025-03-04T21:06:47.719332Z",
     "start_time": "2025-03-04T21:06:47.713791Z"
    }
   },
   "source": [
    "data = [[1, 2],[3, 4]]\n",
    "x_data = torch.tensor(data)\n",
    "x_data"
   ],
   "outputs": [
    {
     "data": {
      "text/plain": [
       "tensor([[1, 2],\n",
       "        [3, 4]])"
      ]
     },
     "execution_count": 116,
     "metadata": {},
     "output_type": "execute_result"
    }
   ],
   "execution_count": 116
  },
  {
   "cell_type": "markdown",
   "metadata": {
    "ExecuteTime": {
     "end_time": "2021-10-02T07:40:32.096100Z",
     "start_time": "2021-10-02T07:40:32.090797Z"
    }
   },
   "source": [
    "2. Na poodstawie tablic numpy"
   ]
  },
  {
   "cell_type": "code",
   "metadata": {
    "ExecuteTime": {
     "end_time": "2025-03-04T21:06:47.794035Z",
     "start_time": "2025-03-04T21:06:47.787843Z"
    }
   },
   "source": [
    "np_array = np.array(data)\n",
    "x_np = torch.from_numpy(np_array)\n",
    "x_np"
   ],
   "outputs": [
    {
     "data": {
      "text/plain": [
       "tensor([[1, 2],\n",
       "        [3, 4]])"
      ]
     },
     "execution_count": 117,
     "metadata": {},
     "output_type": "execute_result"
    }
   ],
   "execution_count": 117
  },
  {
   "cell_type": "markdown",
   "metadata": {},
   "source": [
    "3. Na podstawie innych tensorów"
   ]
  },
  {
   "cell_type": "code",
   "metadata": {
    "scrolled": true,
    "ExecuteTime": {
     "end_time": "2025-03-04T21:06:48.039422Z",
     "start_time": "2025-03-04T21:06:48.033271Z"
    }
   },
   "source": [
    "x_ones = torch.ones_like(x_data) # retains the properties of x_data\n",
    "print(f\"Ones Tensor: \\n {x_ones} \\n\")\n",
    "\n",
    "x_rand = torch.rand_like(x_data, dtype=torch.float) # overrides the datatype of x_data\n",
    "print(f\"Random Tensor: \\n {x_rand} \\n\")"
   ],
   "outputs": [
    {
     "name": "stdout",
     "output_type": "stream",
     "text": [
      "Ones Tensor: \n",
      " tensor([[1, 1],\n",
      "        [1, 1]]) \n",
      "\n",
      "Random Tensor: \n",
      " tensor([[0.7514, 0.6148],\n",
      "        [0.6534, 0.1867]]) \n",
      "\n"
     ]
    }
   ],
   "execution_count": 118
  },
  {
   "cell_type": "markdown",
   "metadata": {},
   "source": [
    "4. Z losowymi lub stałymi wartościami"
   ]
  },
  {
   "cell_type": "code",
   "metadata": {
    "ExecuteTime": {
     "end_time": "2025-03-04T21:06:48.128076Z",
     "start_time": "2025-03-04T21:06:48.120161Z"
    }
   },
   "source": [
    "shape = (2,3,)\n",
    "rand_tensor = torch.rand(shape)\n",
    "print(f\"Random Tensor: \\n {rand_tensor} \\n\")\n",
    "ones_tensor = torch.ones(shape)\n",
    "print(f\"Ones Tensor: \\n {ones_tensor} \\n\")\n",
    "zeros_tensor = torch.zeros(shape)\n",
    "print(f\"Zeros Tensor: \\n {zeros_tensor} \\n\")"
   ],
   "outputs": [
    {
     "name": "stdout",
     "output_type": "stream",
     "text": [
      "Random Tensor: \n",
      " tensor([[0.7513, 0.0736, 0.2647],\n",
      "        [0.0942, 0.8855, 0.4186]]) \n",
      "\n",
      "Ones Tensor: \n",
      " tensor([[1., 1., 1.],\n",
      "        [1., 1., 1.]]) \n",
      "\n",
      "Zeros Tensor: \n",
      " tensor([[0., 0., 0.],\n",
      "        [0., 0., 0.]]) \n",
      "\n"
     ]
    }
   ],
   "execution_count": 119
  },
  {
   "cell_type": "markdown",
   "metadata": {},
   "source": [
    "### Atrybuty tensorów"
   ]
  },
  {
   "cell_type": "code",
   "metadata": {
    "ExecuteTime": {
     "end_time": "2025-03-04T21:06:48.258360Z",
     "start_time": "2025-03-04T21:06:48.253598Z"
    }
   },
   "source": [
    "tensor = torch.rand(3,4)\n",
    "\n",
    "print(f\"Shape of tensor: {tensor.shape}\")\n",
    "print(f\"Datatype of tensor: {tensor.dtype}\")\n",
    "print(f\"Device tensor is stored on: {tensor.device}\")"
   ],
   "outputs": [
    {
     "name": "stdout",
     "output_type": "stream",
     "text": [
      "Shape of tensor: torch.Size([3, 4])\n",
      "Datatype of tensor: torch.float32\n",
      "Device tensor is stored on: cpu\n"
     ]
    }
   ],
   "execution_count": 120
  },
  {
   "cell_type": "markdown",
   "metadata": {},
   "source": [
    "### Operacje na tensorach"
   ]
  },
  {
   "cell_type": "markdown",
   "metadata": {},
   "source": [
    "Nie ma co się bać dokumentacji! (Jest bardzo przyjemnie napisana) Wszystkie operacje na tensorach są opisane tutaj: https://pytorch.org/docs/stable/torch.html\n",
    "Standardowo operacje są uruchamiane na CPU, ale można przenosić tensory, całe modele i **wszystkie operacje** na GPU (co zazwyczaj jest szybsze) za pomocą prostej komendy. Przetestujemy to w kolejnych częściach laboratorium"
   ]
  },
  {
   "cell_type": "markdown",
   "metadata": {},
   "source": [
    "#### Standardowe indeksowanie i slicing"
   ]
  },
  {
   "cell_type": "code",
   "metadata": {
    "ExecuteTime": {
     "end_time": "2025-03-04T21:06:48.379306Z",
     "start_time": "2025-03-04T21:06:48.371880Z"
    }
   },
   "source": [
    "tensor = torch.rand(4, 4)\n",
    "print('First row: ', tensor[0])\n",
    "print('First column: ', tensor[:, 0])\n",
    "print('Last column:', tensor[:, -1])\n",
    "tensor[:,1] = 0\n",
    "print(tensor)"
   ],
   "outputs": [
    {
     "name": "stdout",
     "output_type": "stream",
     "text": [
      "First row:  tensor([0.9854, 0.4646, 0.0994, 0.9451])\n",
      "First column:  tensor([0.9854, 0.0830, 0.7733, 0.6605])\n",
      "Last column: tensor([0.9451, 0.8820, 0.5753, 0.8454])\n",
      "tensor([[0.9854, 0.0000, 0.0994, 0.9451],\n",
      "        [0.0830, 0.0000, 0.9968, 0.8820],\n",
      "        [0.7733, 0.0000, 0.4359, 0.5753],\n",
      "        [0.6605, 0.0000, 0.9637, 0.8454]])\n"
     ]
    }
   ],
   "execution_count": 121
  },
  {
   "cell_type": "markdown",
   "metadata": {},
   "source": [
    "#### Transponowanie tensorów"
   ]
  },
  {
   "cell_type": "code",
   "metadata": {
    "ExecuteTime": {
     "end_time": "2025-03-04T21:06:48.468942Z",
     "start_time": "2025-03-04T21:06:48.462382Z"
    }
   },
   "source": [
    "tensor = torch.ones(4, 3)\n",
    "tensor[:,1] = 0\n",
    "tensor[:,2] = 2\n",
    "tensor[3,:] = 3\n",
    "print(tensor)\n",
    "print(f\"Tensor shape:{tensor.shape}\\n\")\n",
    "tensor2 = tensor.T\n",
    "print(tensor2)\n",
    "print(f\"Transposed tensor shape:{tensor2.shape}\")"
   ],
   "outputs": [
    {
     "name": "stdout",
     "output_type": "stream",
     "text": [
      "tensor([[1., 0., 2.],\n",
      "        [1., 0., 2.],\n",
      "        [1., 0., 2.],\n",
      "        [3., 3., 3.]])\n",
      "Tensor shape:torch.Size([4, 3])\n",
      "\n",
      "tensor([[1., 1., 1., 3.],\n",
      "        [0., 0., 0., 3.],\n",
      "        [2., 2., 2., 3.]])\n",
      "Transposed tensor shape:torch.Size([3, 4])\n"
     ]
    }
   ],
   "execution_count": 122
  },
  {
   "cell_type": "markdown",
   "metadata": {},
   "source": [
    "#### Zmiana wymiarów"
   ]
  },
  {
   "cell_type": "code",
   "metadata": {
    "ExecuteTime": {
     "end_time": "2025-03-04T21:06:48.520811Z",
     "start_time": "2025-03-04T21:06:48.513290Z"
    }
   },
   "source": [
    "tensor = torch.arange(10)\n",
    "print(tensor)\n",
    "print(f\"Tensor shape:{tensor.shape}\\n\")\n",
    "\n",
    "tensor2 = tensor.unsqueeze(dim=0)\n",
    "print(tensor2)\n",
    "print(f\"Tensor shape:{tensor2.shape}\\n\")\n",
    "\n",
    "tensor3 = tensor.unsqueeze(dim=1)\n",
    "print(tensor3)\n",
    "print(f\"Tensor shape:{tensor3.shape}\\n\")\n",
    "\n",
    "tensor4 = tensor.view(5,2)\n",
    "print(tensor4)\n",
    "print(f\"Tensor shape:{tensor4.shape}\\n\")"
   ],
   "outputs": [
    {
     "name": "stdout",
     "output_type": "stream",
     "text": [
      "tensor([0, 1, 2, 3, 4, 5, 6, 7, 8, 9])\n",
      "Tensor shape:torch.Size([10])\n",
      "\n",
      "tensor([[0, 1, 2, 3, 4, 5, 6, 7, 8, 9]])\n",
      "Tensor shape:torch.Size([1, 10])\n",
      "\n",
      "tensor([[0],\n",
      "        [1],\n",
      "        [2],\n",
      "        [3],\n",
      "        [4],\n",
      "        [5],\n",
      "        [6],\n",
      "        [7],\n",
      "        [8],\n",
      "        [9]])\n",
      "Tensor shape:torch.Size([10, 1])\n",
      "\n",
      "tensor([[0, 1],\n",
      "        [2, 3],\n",
      "        [4, 5],\n",
      "        [6, 7],\n",
      "        [8, 9]])\n",
      "Tensor shape:torch.Size([5, 2])\n",
      "\n"
     ]
    }
   ],
   "execution_count": 123
  },
  {
   "cell_type": "markdown",
   "metadata": {},
   "source": [
    "#### Łączenie tensorów"
   ]
  },
  {
   "cell_type": "code",
   "metadata": {
    "ExecuteTime": {
     "end_time": "2025-03-04T21:06:48.587808Z",
     "start_time": "2025-03-04T21:06:48.581742Z"
    }
   },
   "source": [
    "tensor = torch.ones(4, 3)\n",
    "tensor[:,1] = 0\n",
    "tensor[:,2] = 2\n",
    "tensor[3,:] = 3\n",
    "t1 = torch.cat([tensor, tensor, tensor], dim=1)\n",
    "print(t1)"
   ],
   "outputs": [
    {
     "name": "stdout",
     "output_type": "stream",
     "text": [
      "tensor([[1., 0., 2., 1., 0., 2., 1., 0., 2.],\n",
      "        [1., 0., 2., 1., 0., 2., 1., 0., 2.],\n",
      "        [1., 0., 2., 1., 0., 2., 1., 0., 2.],\n",
      "        [3., 3., 3., 3., 3., 3., 3., 3., 3.]])\n"
     ]
    }
   ],
   "execution_count": 124
  },
  {
   "cell_type": "code",
   "metadata": {
    "ExecuteTime": {
     "end_time": "2025-03-04T21:06:48.716020Z",
     "start_time": "2025-03-04T21:06:48.710540Z"
    }
   },
   "source": [
    "t1 = torch.cat([tensor, tensor, tensor], dim=0)\n",
    "print(t1)"
   ],
   "outputs": [
    {
     "name": "stdout",
     "output_type": "stream",
     "text": [
      "tensor([[1., 0., 2.],\n",
      "        [1., 0., 2.],\n",
      "        [1., 0., 2.],\n",
      "        [3., 3., 3.],\n",
      "        [1., 0., 2.],\n",
      "        [1., 0., 2.],\n",
      "        [1., 0., 2.],\n",
      "        [3., 3., 3.],\n",
      "        [1., 0., 2.],\n",
      "        [1., 0., 2.],\n",
      "        [1., 0., 2.],\n",
      "        [3., 3., 3.]])\n"
     ]
    }
   ],
   "execution_count": 125
  },
  {
   "cell_type": "code",
   "metadata": {
    "ExecuteTime": {
     "end_time": "2025-03-04T21:06:48.784637Z",
     "start_time": "2025-03-04T21:06:48.779405Z"
    }
   },
   "source": [
    "t1 = torch.stack([tensor, tensor, tensor])\n",
    "print(t1)"
   ],
   "outputs": [
    {
     "name": "stdout",
     "output_type": "stream",
     "text": [
      "tensor([[[1., 0., 2.],\n",
      "         [1., 0., 2.],\n",
      "         [1., 0., 2.],\n",
      "         [3., 3., 3.]],\n",
      "\n",
      "        [[1., 0., 2.],\n",
      "         [1., 0., 2.],\n",
      "         [1., 0., 2.],\n",
      "         [3., 3., 3.]],\n",
      "\n",
      "        [[1., 0., 2.],\n",
      "         [1., 0., 2.],\n",
      "         [1., 0., 2.],\n",
      "         [3., 3., 3.]]])\n"
     ]
    }
   ],
   "execution_count": 126
  },
  {
   "cell_type": "code",
   "metadata": {
    "ExecuteTime": {
     "end_time": "2025-03-04T21:06:48.868468Z",
     "start_time": "2025-03-04T21:06:48.862757Z"
    }
   },
   "source": [
    "tensor = torch.rand(5,4)\n",
    "t1 = torch.stack([tensor, tensor, tensor],dim=0)\n",
    "print(t1.shape)\n",
    "t1 = torch.stack([tensor, tensor, tensor],dim=1)\n",
    "print(t1.shape)\n",
    "t1 = torch.stack([tensor, tensor, tensor],dim=2)\n",
    "print(t1.shape)"
   ],
   "outputs": [
    {
     "name": "stdout",
     "output_type": "stream",
     "text": [
      "torch.Size([3, 5, 4])\n",
      "torch.Size([5, 3, 4])\n",
      "torch.Size([5, 4, 3])\n"
     ]
    }
   ],
   "execution_count": 127
  },
  {
   "cell_type": "code",
   "metadata": {
    "ExecuteTime": {
     "end_time": "2025-03-04T21:06:48.925726Z",
     "start_time": "2025-03-04T21:06:48.921357Z"
    }
   },
   "source": [
    "# t1 = torch.stack([tensor, tensor, tensor],dim=3)\n",
    "# print(t1.shape)"
   ],
   "outputs": [],
   "execution_count": 128
  },
  {
   "cell_type": "markdown",
   "metadata": {},
   "source": [
    "#### Operacje arytmetyczne"
   ]
  },
  {
   "cell_type": "code",
   "metadata": {
    "ExecuteTime": {
     "end_time": "2025-03-04T21:06:48.998239Z",
     "start_time": "2025-03-04T21:06:48.990153Z"
    }
   },
   "source": [
    "tensor = torch.ones(4, 4)\n",
    "tensor[:,1] = 0\n",
    "tensor[:,2] = 2\n",
    "tensor[3,:] = 3\n",
    "\n",
    "print(tensor)\n",
    "print(tensor+2)\n",
    "print(tensor*5)"
   ],
   "outputs": [
    {
     "name": "stdout",
     "output_type": "stream",
     "text": [
      "tensor([[1., 0., 2., 1.],\n",
      "        [1., 0., 2., 1.],\n",
      "        [1., 0., 2., 1.],\n",
      "        [3., 3., 3., 3.]])\n",
      "tensor([[3., 2., 4., 3.],\n",
      "        [3., 2., 4., 3.],\n",
      "        [3., 2., 4., 3.],\n",
      "        [5., 5., 5., 5.]])\n",
      "tensor([[ 5.,  0., 10.,  5.],\n",
      "        [ 5.,  0., 10.,  5.],\n",
      "        [ 5.,  0., 10.,  5.],\n",
      "        [15., 15., 15., 15.]])\n"
     ]
    }
   ],
   "execution_count": 129
  },
  {
   "cell_type": "markdown",
   "metadata": {},
   "source": [
    "#### Operacje na elementach"
   ]
  },
  {
   "cell_type": "code",
   "metadata": {
    "ExecuteTime": {
     "end_time": "2025-03-04T21:06:49.068688Z",
     "start_time": "2025-03-04T21:06:49.063369Z"
    }
   },
   "source": [
    "tensor * tensor"
   ],
   "outputs": [
    {
     "data": {
      "text/plain": [
       "tensor([[1., 0., 4., 1.],\n",
       "        [1., 0., 4., 1.],\n",
       "        [1., 0., 4., 1.],\n",
       "        [9., 9., 9., 9.]])"
      ]
     },
     "execution_count": 130,
     "metadata": {},
     "output_type": "execute_result"
    }
   ],
   "execution_count": 130
  },
  {
   "cell_type": "code",
   "metadata": {
    "ExecuteTime": {
     "end_time": "2025-03-04T21:06:49.145240Z",
     "start_time": "2025-03-04T21:06:49.139548Z"
    }
   },
   "source": [
    "tensor + tensor"
   ],
   "outputs": [
    {
     "data": {
      "text/plain": [
       "tensor([[2., 0., 4., 2.],\n",
       "        [2., 0., 4., 2.],\n",
       "        [2., 0., 4., 2.],\n",
       "        [6., 6., 6., 6.]])"
      ]
     },
     "execution_count": 131,
     "metadata": {},
     "output_type": "execute_result"
    }
   ],
   "execution_count": 131
  },
  {
   "cell_type": "code",
   "metadata": {
    "ExecuteTime": {
     "end_time": "2025-03-04T21:06:49.244440Z",
     "start_time": "2025-03-04T21:06:49.237122Z"
    }
   },
   "source": [
    "rand_tensor = torch.rand(4,4)*10\n",
    "print(rand_tensor)\n",
    "print(rand_tensor / tensor)"
   ],
   "outputs": [
    {
     "name": "stdout",
     "output_type": "stream",
     "text": [
      "tensor([[4.6600, 3.9526, 2.2025, 9.7617],\n",
      "        [9.3065, 4.3377, 7.7223, 9.0591],\n",
      "        [3.3132, 8.0139, 1.5716, 9.7875],\n",
      "        [1.2265, 0.7207, 3.0853, 6.6198]])\n",
      "tensor([[4.6600,    inf, 1.1013, 9.7617],\n",
      "        [9.3065,    inf, 3.8611, 9.0591],\n",
      "        [3.3132,    inf, 0.7858, 9.7875],\n",
      "        [0.4088, 0.2402, 1.0284, 2.2066]])\n"
     ]
    }
   ],
   "execution_count": 132
  },
  {
   "cell_type": "code",
   "metadata": {
    "ExecuteTime": {
     "end_time": "2025-03-04T21:06:49.358726Z",
     "start_time": "2025-03-04T21:06:49.353067Z"
    }
   },
   "source": [
    "rand_tensor = torch.rand(4,4)*10\n",
    "print(rand_tensor // tensor)\n",
    "print((tensor / tensor).type())"
   ],
   "outputs": [
    {
     "name": "stdout",
     "output_type": "stream",
     "text": [
      "tensor([[2., inf, 2., 1.],\n",
      "        [3., inf, 3., 8.],\n",
      "        [2., inf, 4., 3.],\n",
      "        [2., 2., 2., 1.]])\n",
      "torch.FloatTensor\n"
     ]
    }
   ],
   "execution_count": 133
  },
  {
   "cell_type": "markdown",
   "metadata": {},
   "source": [
    "### Mini zadanie na plusa, mozna wysłać po zajęciach"
   ]
  },
  {
   "cell_type": "markdown",
   "metadata": {},
   "source": [
    "Stwórz macierz dwuwymiarową której wartości będą kolejnymi numerami od 1 do zadanej liczby x. Nie uzywaj pętli."
   ]
  },
  {
   "cell_type": "markdown",
   "metadata": {},
   "source": [
    "Hint: https://pytorch.org/docs/stable/torch.html"
   ]
  },
  {
   "cell_type": "markdown",
   "metadata": {},
   "source": [
    "### Operacje macierzowe"
   ]
  },
  {
   "cell_type": "code",
   "metadata": {
    "ExecuteTime": {
     "end_time": "2025-03-04T21:06:49.577247Z",
     "start_time": "2025-03-04T21:06:49.570440Z"
    }
   },
   "source": [
    "tensor = torch.ones(4, 3)\n",
    "tensor[1,:] = 0\n",
    "print(tensor)\n",
    "print(tensor.T)"
   ],
   "outputs": [
    {
     "name": "stdout",
     "output_type": "stream",
     "text": [
      "tensor([[1., 1., 1.],\n",
      "        [0., 0., 0.],\n",
      "        [1., 1., 1.],\n",
      "        [1., 1., 1.]])\n",
      "tensor([[1., 0., 1., 1.],\n",
      "        [1., 0., 1., 1.],\n",
      "        [1., 0., 1., 1.]])\n"
     ]
    }
   ],
   "execution_count": 134
  },
  {
   "cell_type": "code",
   "metadata": {
    "ExecuteTime": {
     "end_time": "2025-03-04T21:06:49.674822Z",
     "start_time": "2025-03-04T21:06:49.667840Z"
    }
   },
   "source": [
    "y1 = tensor.matmul(tensor.T)\n",
    "print(y1,\"\\n\")\n",
    "y2 = tensor @ tensor.T\n",
    "print(y2)"
   ],
   "outputs": [
    {
     "name": "stdout",
     "output_type": "stream",
     "text": [
      "tensor([[3., 0., 3., 3.],\n",
      "        [0., 0., 0., 0.],\n",
      "        [3., 0., 3., 3.],\n",
      "        [3., 0., 3., 3.]]) \n",
      "\n",
      "tensor([[3., 0., 3., 3.],\n",
      "        [0., 0., 0., 0.],\n",
      "        [3., 0., 3., 3.],\n",
      "        [3., 0., 3., 3.]])\n"
     ]
    }
   ],
   "execution_count": 135
  },
  {
   "cell_type": "markdown",
   "metadata": {},
   "source": [
    "### Zaawansowany przykład - regresja"
   ]
  },
  {
   "cell_type": "markdown",
   "metadata": {},
   "source": [
    "Dla wszystkich którzy potrzebują powtórki z matmy: https://mml-book.github.io/"
   ]
  },
  {
   "cell_type": "code",
   "metadata": {
    "ExecuteTime": {
     "end_time": "2025-03-04T21:06:49.728470Z",
     "start_time": "2025-03-04T21:06:49.723759Z"
    }
   },
   "source": [
    "apples_kg_ordered = [2,4,7,3,13]\n",
    "plums_kg_ordered = [3,8,9,1,1]\n",
    "prices = [11.97 , 28.05, 38.98, 10.96, 41.1]"
   ],
   "outputs": [],
   "execution_count": 136
  },
  {
   "cell_type": "code",
   "metadata": {
    "ExecuteTime": {
     "end_time": "2025-03-04T21:06:49.829012Z",
     "start_time": "2025-03-04T21:06:49.820094Z"
    }
   },
   "source": [
    "X = torch.tensor([apples_kg_ordered,plums_kg_ordered])\n",
    "Y = torch.tensor(prices)\n",
    "print(X)\n",
    "print(Y)"
   ],
   "outputs": [
    {
     "name": "stdout",
     "output_type": "stream",
     "text": [
      "tensor([[ 2,  4,  7,  3, 13],\n",
      "        [ 3,  8,  9,  1,  1]])\n",
      "tensor([11.9700, 28.0500, 38.9800, 10.9600, 41.1000])\n"
     ]
    }
   ],
   "execution_count": 137
  },
  {
   "cell_type": "code",
   "metadata": {
    "ExecuteTime": {
     "end_time": "2025-03-04T21:06:49.885326Z",
     "start_time": "2025-03-04T21:06:49.880382Z"
    }
   },
   "source": [
    "X = X.T.float()\n",
    "X"
   ],
   "outputs": [
    {
     "data": {
      "text/plain": [
       "tensor([[ 2.,  3.],\n",
       "        [ 4.,  8.],\n",
       "        [ 7.,  9.],\n",
       "        [ 3.,  1.],\n",
       "        [13.,  1.]])"
      ]
     },
     "execution_count": 138,
     "metadata": {},
     "output_type": "execute_result"
    }
   ],
   "execution_count": 138
  },
  {
   "cell_type": "code",
   "metadata": {
    "ExecuteTime": {
     "end_time": "2025-03-04T21:06:49.980299Z",
     "start_time": "2025-03-04T21:06:49.974064Z"
    }
   },
   "source": [
    "theta = torch.inverse((X.T@X))@X.T@Y\n",
    "theta "
   ],
   "outputs": [
    {
     "data": {
      "text/plain": [
       "tensor([3.0065, 1.9963])"
      ]
     },
     "execution_count": 139,
     "metadata": {},
     "output_type": "execute_result"
    }
   ],
   "execution_count": 139
  },
  {
   "cell_type": "code",
   "metadata": {
    "ExecuteTime": {
     "end_time": "2025-03-04T21:06:50.066024Z",
     "start_time": "2025-03-04T21:06:50.060946Z"
    }
   },
   "source": [
    "X @ theta"
   ],
   "outputs": [
    {
     "data": {
      "text/plain": [
       "tensor([12.0020, 27.9967, 39.0126, 11.0159, 41.0810])"
      ]
     },
     "execution_count": 140,
     "metadata": {},
     "output_type": "execute_result"
    }
   ],
   "execution_count": 140
  },
  {
   "cell_type": "markdown",
   "metadata": {},
   "source": [
    "# Automatyczne obliczanie gradientu"
   ]
  },
  {
   "cell_type": "markdown",
   "metadata": {},
   "source": [
    "Do automatycznego obliczania gradientu służy wbudowany pakiet torch.autograd, który umożliwia automatyczne obliczanie gradientu dla dowolnego grafu (ciągu obliczeń)"
   ]
  },
  {
   "cell_type": "code",
   "metadata": {
    "ExecuteTime": {
     "end_time": "2025-03-04T21:06:50.173835Z",
     "start_time": "2025-03-04T21:06:50.169083Z"
    }
   },
   "source": [
    "x = torch.ones(5, requires_grad=True)\n",
    "print(x)"
   ],
   "outputs": [
    {
     "name": "stdout",
     "output_type": "stream",
     "text": [
      "tensor([1., 1., 1., 1., 1.], requires_grad=True)\n"
     ]
    }
   ],
   "execution_count": 141
  },
  {
   "cell_type": "code",
   "metadata": {
    "ExecuteTime": {
     "end_time": "2025-03-04T21:06:50.263588Z",
     "start_time": "2025-03-04T21:06:50.258625Z"
    }
   },
   "source": [
    "y = x + 2\n",
    "y"
   ],
   "outputs": [
    {
     "data": {
      "text/plain": [
       "tensor([3., 3., 3., 3., 3.], grad_fn=<AddBackward0>)"
      ]
     },
     "execution_count": 142,
     "metadata": {},
     "output_type": "execute_result"
    }
   ],
   "execution_count": 142
  },
  {
   "cell_type": "code",
   "metadata": {
    "ExecuteTime": {
     "end_time": "2025-03-04T21:06:50.315274Z",
     "start_time": "2025-03-04T21:06:50.308986Z"
    }
   },
   "source": [
    "y = x * 2\n",
    "y"
   ],
   "outputs": [
    {
     "data": {
      "text/plain": [
       "tensor([2., 2., 2., 2., 2.], grad_fn=<MulBackward0>)"
      ]
     },
     "execution_count": 143,
     "metadata": {},
     "output_type": "execute_result"
    }
   ],
   "execution_count": 143
  },
  {
   "cell_type": "code",
   "metadata": {
    "ExecuteTime": {
     "end_time": "2025-03-04T21:06:50.363471Z",
     "start_time": "2025-03-04T21:06:50.358659Z"
    }
   },
   "source": [
    "y = x @ x.T\n",
    "y"
   ],
   "outputs": [
    {
     "data": {
      "text/plain": [
       "tensor(5., grad_fn=<DotBackward0>)"
      ]
     },
     "execution_count": 144,
     "metadata": {},
     "output_type": "execute_result"
    }
   ],
   "execution_count": 144
  },
  {
   "cell_type": "code",
   "metadata": {
    "ExecuteTime": {
     "end_time": "2025-03-04T21:06:50.415940Z",
     "start_time": "2025-03-04T21:06:50.411255Z"
    }
   },
   "source": [
    "y = x - 2\n",
    "y"
   ],
   "outputs": [
    {
     "data": {
      "text/plain": [
       "tensor([-1., -1., -1., -1., -1.], grad_fn=<SubBackward0>)"
      ]
     },
     "execution_count": 145,
     "metadata": {},
     "output_type": "execute_result"
    }
   ],
   "execution_count": 145
  },
  {
   "cell_type": "code",
   "metadata": {
    "ExecuteTime": {
     "end_time": "2025-03-04T21:06:50.456015Z",
     "start_time": "2025-03-04T21:06:50.451369Z"
    }
   },
   "source": [
    "y.grad_fn.next_functions[0][0]"
   ],
   "outputs": [
    {
     "data": {
      "text/plain": [
       "<AccumulateGrad at 0x1a013c5fbb0>"
      ]
     },
     "execution_count": 146,
     "metadata": {},
     "output_type": "execute_result"
    }
   ],
   "execution_count": 146
  },
  {
   "cell_type": "code",
   "metadata": {
    "ExecuteTime": {
     "end_time": "2025-03-04T21:06:50.495294Z",
     "start_time": "2025-03-04T21:06:50.489980Z"
    }
   },
   "source": [
    "y.grad_fn.next_functions[0][0].variable"
   ],
   "outputs": [
    {
     "data": {
      "text/plain": [
       "tensor([1., 1., 1., 1., 1.], requires_grad=True)"
      ]
     },
     "execution_count": 147,
     "metadata": {},
     "output_type": "execute_result"
    }
   ],
   "execution_count": 147
  },
  {
   "cell_type": "code",
   "metadata": {
    "ExecuteTime": {
     "end_time": "2025-03-04T21:06:50.546024Z",
     "start_time": "2025-03-04T21:06:50.541693Z"
    }
   },
   "source": [
    "z = y * y * 3"
   ],
   "outputs": [],
   "execution_count": 148
  },
  {
   "cell_type": "code",
   "metadata": {
    "ExecuteTime": {
     "end_time": "2025-03-04T21:06:50.622473Z",
     "start_time": "2025-03-04T21:06:50.617102Z"
    }
   },
   "source": [
    "a = z.mean()\n",
    "print(z)\n",
    "print(a)"
   ],
   "outputs": [
    {
     "name": "stdout",
     "output_type": "stream",
     "text": [
      "tensor([3., 3., 3., 3., 3.], grad_fn=<MulBackward0>)\n",
      "tensor(3., grad_fn=<MeanBackward0>)\n"
     ]
    }
   ],
   "execution_count": 149
  },
  {
   "cell_type": "code",
   "metadata": {
    "ExecuteTime": {
     "end_time": "2025-03-04T21:06:50.669323Z",
     "start_time": "2025-03-04T21:06:50.665236Z"
    }
   },
   "source": [
    "from torchviz import make_dot"
   ],
   "outputs": [],
   "execution_count": 150
  },
  {
   "cell_type": "code",
   "metadata": {
    "ExecuteTime": {
     "end_time": "2025-03-04T21:06:50.927166Z",
     "start_time": "2025-03-04T21:06:50.747869Z"
    }
   },
   "source": [
    "make_dot(a)"
   ],
   "outputs": [
    {
     "ename": "ExecutableNotFound",
     "evalue": "failed to execute WindowsPath('dot'), make sure the Graphviz executables are on your systems' PATH",
     "output_type": "error",
     "traceback": [
      "\u001B[31m---------------------------------------------------------------------------\u001B[39m",
      "\u001B[31mFileNotFoundError\u001B[39m                         Traceback (most recent call last)",
      "\u001B[36mFile \u001B[39m\u001B[32m~\\studia\\SSNE\\zadania\\venv\\Lib\\site-packages\\graphviz\\backend\\execute.py:76\u001B[39m, in \u001B[36mrun_check\u001B[39m\u001B[34m(cmd, input_lines, encoding, quiet, **kwargs)\u001B[39m\n\u001B[32m     75\u001B[39m         kwargs[\u001B[33m'\u001B[39m\u001B[33mstdout\u001B[39m\u001B[33m'\u001B[39m] = kwargs[\u001B[33m'\u001B[39m\u001B[33mstderr\u001B[39m\u001B[33m'\u001B[39m] = subprocess.PIPE\n\u001B[32m---> \u001B[39m\u001B[32m76\u001B[39m     proc = \u001B[43m_run_input_lines\u001B[49m\u001B[43m(\u001B[49m\u001B[43mcmd\u001B[49m\u001B[43m,\u001B[49m\u001B[43m \u001B[49m\u001B[43minput_lines\u001B[49m\u001B[43m,\u001B[49m\u001B[43m \u001B[49m\u001B[43mkwargs\u001B[49m\u001B[43m=\u001B[49m\u001B[43mkwargs\u001B[49m\u001B[43m)\u001B[49m\n\u001B[32m     77\u001B[39m \u001B[38;5;28;01melse\u001B[39;00m:\n",
      "\u001B[36mFile \u001B[39m\u001B[32m~\\studia\\SSNE\\zadania\\venv\\Lib\\site-packages\\graphviz\\backend\\execute.py:96\u001B[39m, in \u001B[36m_run_input_lines\u001B[39m\u001B[34m(cmd, input_lines, kwargs)\u001B[39m\n\u001B[32m     95\u001B[39m \u001B[38;5;28;01mdef\u001B[39;00m\u001B[38;5;250m \u001B[39m\u001B[34m_run_input_lines\u001B[39m(cmd, input_lines, *, kwargs):\n\u001B[32m---> \u001B[39m\u001B[32m96\u001B[39m     popen = \u001B[43msubprocess\u001B[49m\u001B[43m.\u001B[49m\u001B[43mPopen\u001B[49m\u001B[43m(\u001B[49m\u001B[43mcmd\u001B[49m\u001B[43m,\u001B[49m\u001B[43m \u001B[49m\u001B[43mstdin\u001B[49m\u001B[43m=\u001B[49m\u001B[43msubprocess\u001B[49m\u001B[43m.\u001B[49m\u001B[43mPIPE\u001B[49m\u001B[43m,\u001B[49m\u001B[43m \u001B[49m\u001B[43m*\u001B[49m\u001B[43m*\u001B[49m\u001B[43mkwargs\u001B[49m\u001B[43m)\u001B[49m\n\u001B[32m     98\u001B[39m     stdin_write = popen.stdin.write\n",
      "\u001B[36mFile \u001B[39m\u001B[32mC:\\Program Files\\Python312\\Lib\\subprocess.py:1028\u001B[39m, in \u001B[36mPopen.__init__\u001B[39m\u001B[34m(self, args, bufsize, executable, stdin, stdout, stderr, preexec_fn, close_fds, shell, cwd, env, universal_newlines, startupinfo, creationflags, restore_signals, start_new_session, pass_fds, user, group, extra_groups, encoding, errors, text, umask, pipesize, process_group)\u001B[39m\n\u001B[32m   1025\u001B[39m             \u001B[38;5;28mself\u001B[39m.stderr = io.TextIOWrapper(\u001B[38;5;28mself\u001B[39m.stderr,\n\u001B[32m   1026\u001B[39m                     encoding=encoding, errors=errors)\n\u001B[32m-> \u001B[39m\u001B[32m1028\u001B[39m     \u001B[38;5;28;43mself\u001B[39;49m\u001B[43m.\u001B[49m\u001B[43m_execute_child\u001B[49m\u001B[43m(\u001B[49m\u001B[43margs\u001B[49m\u001B[43m,\u001B[49m\u001B[43m \u001B[49m\u001B[43mexecutable\u001B[49m\u001B[43m,\u001B[49m\u001B[43m \u001B[49m\u001B[43mpreexec_fn\u001B[49m\u001B[43m,\u001B[49m\u001B[43m \u001B[49m\u001B[43mclose_fds\u001B[49m\u001B[43m,\u001B[49m\n\u001B[32m   1029\u001B[39m \u001B[43m                        \u001B[49m\u001B[43mpass_fds\u001B[49m\u001B[43m,\u001B[49m\u001B[43m \u001B[49m\u001B[43mcwd\u001B[49m\u001B[43m,\u001B[49m\u001B[43m \u001B[49m\u001B[43menv\u001B[49m\u001B[43m,\u001B[49m\n\u001B[32m   1030\u001B[39m \u001B[43m                        \u001B[49m\u001B[43mstartupinfo\u001B[49m\u001B[43m,\u001B[49m\u001B[43m \u001B[49m\u001B[43mcreationflags\u001B[49m\u001B[43m,\u001B[49m\u001B[43m \u001B[49m\u001B[43mshell\u001B[49m\u001B[43m,\u001B[49m\n\u001B[32m   1031\u001B[39m \u001B[43m                        \u001B[49m\u001B[43mp2cread\u001B[49m\u001B[43m,\u001B[49m\u001B[43m \u001B[49m\u001B[43mp2cwrite\u001B[49m\u001B[43m,\u001B[49m\n\u001B[32m   1032\u001B[39m \u001B[43m                        \u001B[49m\u001B[43mc2pread\u001B[49m\u001B[43m,\u001B[49m\u001B[43m \u001B[49m\u001B[43mc2pwrite\u001B[49m\u001B[43m,\u001B[49m\n\u001B[32m   1033\u001B[39m \u001B[43m                        \u001B[49m\u001B[43merrread\u001B[49m\u001B[43m,\u001B[49m\u001B[43m \u001B[49m\u001B[43merrwrite\u001B[49m\u001B[43m,\u001B[49m\n\u001B[32m   1034\u001B[39m \u001B[43m                        \u001B[49m\u001B[43mrestore_signals\u001B[49m\u001B[43m,\u001B[49m\n\u001B[32m   1035\u001B[39m \u001B[43m                        \u001B[49m\u001B[43mgid\u001B[49m\u001B[43m,\u001B[49m\u001B[43m \u001B[49m\u001B[43mgids\u001B[49m\u001B[43m,\u001B[49m\u001B[43m \u001B[49m\u001B[43muid\u001B[49m\u001B[43m,\u001B[49m\u001B[43m \u001B[49m\u001B[43mumask\u001B[49m\u001B[43m,\u001B[49m\n\u001B[32m   1036\u001B[39m \u001B[43m                        \u001B[49m\u001B[43mstart_new_session\u001B[49m\u001B[43m,\u001B[49m\u001B[43m \u001B[49m\u001B[43mprocess_group\u001B[49m\u001B[43m)\u001B[49m\n\u001B[32m   1037\u001B[39m \u001B[38;5;28;01mexcept\u001B[39;00m:\n\u001B[32m   1038\u001B[39m     \u001B[38;5;66;03m# Cleanup if the child failed starting.\u001B[39;00m\n",
      "\u001B[36mFile \u001B[39m\u001B[32mC:\\Program Files\\Python312\\Lib\\subprocess.py:1540\u001B[39m, in \u001B[36mPopen._execute_child\u001B[39m\u001B[34m(self, args, executable, preexec_fn, close_fds, pass_fds, cwd, env, startupinfo, creationflags, shell, p2cread, p2cwrite, c2pread, c2pwrite, errread, errwrite, unused_restore_signals, unused_gid, unused_gids, unused_uid, unused_umask, unused_start_new_session, unused_process_group)\u001B[39m\n\u001B[32m   1539\u001B[39m \u001B[38;5;28;01mtry\u001B[39;00m:\n\u001B[32m-> \u001B[39m\u001B[32m1540\u001B[39m     hp, ht, pid, tid = \u001B[43m_winapi\u001B[49m\u001B[43m.\u001B[49m\u001B[43mCreateProcess\u001B[49m\u001B[43m(\u001B[49m\u001B[43mexecutable\u001B[49m\u001B[43m,\u001B[49m\u001B[43m \u001B[49m\u001B[43margs\u001B[49m\u001B[43m,\u001B[49m\n\u001B[32m   1541\u001B[39m \u001B[43m                             \u001B[49m\u001B[38;5;66;43;03m# no special security\u001B[39;49;00m\n\u001B[32m   1542\u001B[39m \u001B[43m                             \u001B[49m\u001B[38;5;28;43;01mNone\u001B[39;49;00m\u001B[43m,\u001B[49m\u001B[43m \u001B[49m\u001B[38;5;28;43;01mNone\u001B[39;49;00m\u001B[43m,\u001B[49m\n\u001B[32m   1543\u001B[39m \u001B[43m                             \u001B[49m\u001B[38;5;28;43mint\u001B[39;49m\u001B[43m(\u001B[49m\u001B[38;5;129;43;01mnot\u001B[39;49;00m\u001B[43m \u001B[49m\u001B[43mclose_fds\u001B[49m\u001B[43m)\u001B[49m\u001B[43m,\u001B[49m\n\u001B[32m   1544\u001B[39m \u001B[43m                             \u001B[49m\u001B[43mcreationflags\u001B[49m\u001B[43m,\u001B[49m\n\u001B[32m   1545\u001B[39m \u001B[43m                             \u001B[49m\u001B[43menv\u001B[49m\u001B[43m,\u001B[49m\n\u001B[32m   1546\u001B[39m \u001B[43m                             \u001B[49m\u001B[43mcwd\u001B[49m\u001B[43m,\u001B[49m\n\u001B[32m   1547\u001B[39m \u001B[43m                             \u001B[49m\u001B[43mstartupinfo\u001B[49m\u001B[43m)\u001B[49m\n\u001B[32m   1548\u001B[39m \u001B[38;5;28;01mfinally\u001B[39;00m:\n\u001B[32m   1549\u001B[39m     \u001B[38;5;66;03m# Child is launched. Close the parent's copy of those pipe\u001B[39;00m\n\u001B[32m   1550\u001B[39m     \u001B[38;5;66;03m# handles that only the child should have open.  You need\u001B[39;00m\n\u001B[32m   (...)\u001B[39m\u001B[32m   1553\u001B[39m     \u001B[38;5;66;03m# pipe will not close when the child process exits and the\u001B[39;00m\n\u001B[32m   1554\u001B[39m     \u001B[38;5;66;03m# ReadFile will hang.\u001B[39;00m\n",
      "\u001B[31mFileNotFoundError\u001B[39m: [WinError 2] The system cannot find the file specified",
      "\nThe above exception was the direct cause of the following exception:\n",
      "\u001B[31mExecutableNotFound\u001B[39m                        Traceback (most recent call last)",
      "\u001B[36mFile \u001B[39m\u001B[32m~\\studia\\SSNE\\zadania\\venv\\Lib\\site-packages\\IPython\\core\\formatters.py:1036\u001B[39m, in \u001B[36mMimeBundleFormatter.__call__\u001B[39m\u001B[34m(self, obj, include, exclude)\u001B[39m\n\u001B[32m   1033\u001B[39m     method = get_real_method(obj, \u001B[38;5;28mself\u001B[39m.print_method)\n\u001B[32m   1035\u001B[39m     \u001B[38;5;28;01mif\u001B[39;00m method \u001B[38;5;129;01mis\u001B[39;00m \u001B[38;5;129;01mnot\u001B[39;00m \u001B[38;5;28;01mNone\u001B[39;00m:\n\u001B[32m-> \u001B[39m\u001B[32m1036\u001B[39m         \u001B[38;5;28;01mreturn\u001B[39;00m \u001B[43mmethod\u001B[49m\u001B[43m(\u001B[49m\u001B[43minclude\u001B[49m\u001B[43m=\u001B[49m\u001B[43minclude\u001B[49m\u001B[43m,\u001B[49m\u001B[43m \u001B[49m\u001B[43mexclude\u001B[49m\u001B[43m=\u001B[49m\u001B[43mexclude\u001B[49m\u001B[43m)\u001B[49m\n\u001B[32m   1037\u001B[39m     \u001B[38;5;28;01mreturn\u001B[39;00m \u001B[38;5;28;01mNone\u001B[39;00m\n\u001B[32m   1038\u001B[39m \u001B[38;5;28;01melse\u001B[39;00m:\n",
      "\u001B[36mFile \u001B[39m\u001B[32m~\\studia\\SSNE\\zadania\\venv\\Lib\\site-packages\\graphviz\\jupyter_integration.py:98\u001B[39m, in \u001B[36mJupyterIntegration._repr_mimebundle_\u001B[39m\u001B[34m(self, include, exclude, **_)\u001B[39m\n\u001B[32m     96\u001B[39m include = \u001B[38;5;28mset\u001B[39m(include) \u001B[38;5;28;01mif\u001B[39;00m include \u001B[38;5;129;01mis\u001B[39;00m \u001B[38;5;129;01mnot\u001B[39;00m \u001B[38;5;28;01mNone\u001B[39;00m \u001B[38;5;28;01melse\u001B[39;00m {\u001B[38;5;28mself\u001B[39m._jupyter_mimetype}\n\u001B[32m     97\u001B[39m include -= \u001B[38;5;28mset\u001B[39m(exclude \u001B[38;5;129;01mor\u001B[39;00m [])\n\u001B[32m---> \u001B[39m\u001B[32m98\u001B[39m \u001B[38;5;28;01mreturn\u001B[39;00m {mimetype: \u001B[38;5;28;43mgetattr\u001B[39;49m\u001B[43m(\u001B[49m\u001B[38;5;28;43mself\u001B[39;49m\u001B[43m,\u001B[49m\u001B[43m \u001B[49m\u001B[43mmethod_name\u001B[49m\u001B[43m)\u001B[49m\u001B[43m(\u001B[49m\u001B[43m)\u001B[49m\n\u001B[32m     99\u001B[39m         \u001B[38;5;28;01mfor\u001B[39;00m mimetype, method_name \u001B[38;5;129;01min\u001B[39;00m MIME_TYPES.items()\n\u001B[32m    100\u001B[39m         \u001B[38;5;28;01mif\u001B[39;00m mimetype \u001B[38;5;129;01min\u001B[39;00m include}\n",
      "\u001B[36mFile \u001B[39m\u001B[32m~\\studia\\SSNE\\zadania\\venv\\Lib\\site-packages\\graphviz\\jupyter_integration.py:112\u001B[39m, in \u001B[36mJupyterIntegration._repr_image_svg_xml\u001B[39m\u001B[34m(self)\u001B[39m\n\u001B[32m    110\u001B[39m \u001B[38;5;28;01mdef\u001B[39;00m\u001B[38;5;250m \u001B[39m\u001B[34m_repr_image_svg_xml\u001B[39m(\u001B[38;5;28mself\u001B[39m) -> \u001B[38;5;28mstr\u001B[39m:\n\u001B[32m    111\u001B[39m \u001B[38;5;250m    \u001B[39m\u001B[33;03m\"\"\"Return the rendered graph as SVG string.\"\"\"\u001B[39;00m\n\u001B[32m--> \u001B[39m\u001B[32m112\u001B[39m     \u001B[38;5;28;01mreturn\u001B[39;00m \u001B[38;5;28;43mself\u001B[39;49m\u001B[43m.\u001B[49m\u001B[43mpipe\u001B[49m\u001B[43m(\u001B[49m\u001B[38;5;28;43mformat\u001B[39;49m\u001B[43m=\u001B[49m\u001B[33;43m'\u001B[39;49m\u001B[33;43msvg\u001B[39;49m\u001B[33;43m'\u001B[39;49m\u001B[43m,\u001B[49m\u001B[43m \u001B[49m\u001B[43mencoding\u001B[49m\u001B[43m=\u001B[49m\u001B[43mSVG_ENCODING\u001B[49m\u001B[43m)\u001B[49m\n",
      "\u001B[36mFile \u001B[39m\u001B[32m~\\studia\\SSNE\\zadania\\venv\\Lib\\site-packages\\graphviz\\piping.py:104\u001B[39m, in \u001B[36mPipe.pipe\u001B[39m\u001B[34m(self, format, renderer, formatter, neato_no_op, quiet, engine, encoding)\u001B[39m\n\u001B[32m     55\u001B[39m \u001B[38;5;28;01mdef\u001B[39;00m\u001B[38;5;250m \u001B[39m\u001B[34mpipe\u001B[39m(\u001B[38;5;28mself\u001B[39m,\n\u001B[32m     56\u001B[39m          \u001B[38;5;28mformat\u001B[39m: typing.Optional[\u001B[38;5;28mstr\u001B[39m] = \u001B[38;5;28;01mNone\u001B[39;00m,\n\u001B[32m     57\u001B[39m          renderer: typing.Optional[\u001B[38;5;28mstr\u001B[39m] = \u001B[38;5;28;01mNone\u001B[39;00m,\n\u001B[32m   (...)\u001B[39m\u001B[32m     61\u001B[39m          engine: typing.Optional[\u001B[38;5;28mstr\u001B[39m] = \u001B[38;5;28;01mNone\u001B[39;00m,\n\u001B[32m     62\u001B[39m          encoding: typing.Optional[\u001B[38;5;28mstr\u001B[39m] = \u001B[38;5;28;01mNone\u001B[39;00m) -> typing.Union[\u001B[38;5;28mbytes\u001B[39m, \u001B[38;5;28mstr\u001B[39m]:\n\u001B[32m     63\u001B[39m \u001B[38;5;250m    \u001B[39m\u001B[33;03m\"\"\"Return the source piped through the Graphviz layout command.\u001B[39;00m\n\u001B[32m     64\u001B[39m \n\u001B[32m     65\u001B[39m \u001B[33;03m    Args:\u001B[39;00m\n\u001B[32m   (...)\u001B[39m\u001B[32m    102\u001B[39m \u001B[33;03m        '<?xml version='\u001B[39;00m\n\u001B[32m    103\u001B[39m \u001B[33;03m    \"\"\"\u001B[39;00m\n\u001B[32m--> \u001B[39m\u001B[32m104\u001B[39m     \u001B[38;5;28;01mreturn\u001B[39;00m \u001B[38;5;28;43mself\u001B[39;49m\u001B[43m.\u001B[49m\u001B[43m_pipe_legacy\u001B[49m\u001B[43m(\u001B[49m\u001B[38;5;28;43mformat\u001B[39;49m\u001B[43m,\u001B[49m\n\u001B[32m    105\u001B[39m \u001B[43m                             \u001B[49m\u001B[43mrenderer\u001B[49m\u001B[43m=\u001B[49m\u001B[43mrenderer\u001B[49m\u001B[43m,\u001B[49m\n\u001B[32m    106\u001B[39m \u001B[43m                             \u001B[49m\u001B[43mformatter\u001B[49m\u001B[43m=\u001B[49m\u001B[43mformatter\u001B[49m\u001B[43m,\u001B[49m\n\u001B[32m    107\u001B[39m \u001B[43m                             \u001B[49m\u001B[43mneato_no_op\u001B[49m\u001B[43m=\u001B[49m\u001B[43mneato_no_op\u001B[49m\u001B[43m,\u001B[49m\n\u001B[32m    108\u001B[39m \u001B[43m                             \u001B[49m\u001B[43mquiet\u001B[49m\u001B[43m=\u001B[49m\u001B[43mquiet\u001B[49m\u001B[43m,\u001B[49m\n\u001B[32m    109\u001B[39m \u001B[43m                             \u001B[49m\u001B[43mengine\u001B[49m\u001B[43m=\u001B[49m\u001B[43mengine\u001B[49m\u001B[43m,\u001B[49m\n\u001B[32m    110\u001B[39m \u001B[43m                             \u001B[49m\u001B[43mencoding\u001B[49m\u001B[43m=\u001B[49m\u001B[43mencoding\u001B[49m\u001B[43m)\u001B[49m\n",
      "\u001B[36mFile \u001B[39m\u001B[32m~\\studia\\SSNE\\zadania\\venv\\Lib\\site-packages\\graphviz\\_tools.py:171\u001B[39m, in \u001B[36mdeprecate_positional_args.<locals>.decorator.<locals>.wrapper\u001B[39m\u001B[34m(*args, **kwargs)\u001B[39m\n\u001B[32m    162\u001B[39m     wanted = \u001B[33m'\u001B[39m\u001B[33m, \u001B[39m\u001B[33m'\u001B[39m.join(\u001B[33mf\u001B[39m\u001B[33m'\u001B[39m\u001B[38;5;132;01m{\u001B[39;00mname\u001B[38;5;132;01m}\u001B[39;00m\u001B[33m=\u001B[39m\u001B[38;5;132;01m{\u001B[39;00mvalue\u001B[38;5;132;01m!r}\u001B[39;00m\u001B[33m'\u001B[39m\n\u001B[32m    163\u001B[39m                        \u001B[38;5;28;01mfor\u001B[39;00m name, value \u001B[38;5;129;01min\u001B[39;00m deprecated.items())\n\u001B[32m    164\u001B[39m     warnings.warn(\u001B[33mf\u001B[39m\u001B[33m'\u001B[39m\u001B[33mThe signature of \u001B[39m\u001B[38;5;132;01m{\u001B[39;00mfunc.\u001B[34m__name__\u001B[39m\u001B[38;5;132;01m}\u001B[39;00m\u001B[33m will be reduced\u001B[39m\u001B[33m'\u001B[39m\n\u001B[32m    165\u001B[39m                   \u001B[33mf\u001B[39m\u001B[33m'\u001B[39m\u001B[33m to \u001B[39m\u001B[38;5;132;01m{\u001B[39;00msupported_number\u001B[38;5;132;01m}\u001B[39;00m\u001B[33m positional args\u001B[39m\u001B[33m'\u001B[39m\n\u001B[32m    166\u001B[39m                   \u001B[33mf\u001B[39m\u001B[33m'\u001B[39m\u001B[33m \u001B[39m\u001B[38;5;132;01m{\u001B[39;00m\u001B[38;5;28mlist\u001B[39m(supported)\u001B[38;5;132;01m}\u001B[39;00m\u001B[33m: pass \u001B[39m\u001B[38;5;132;01m{\u001B[39;00mwanted\u001B[38;5;132;01m}\u001B[39;00m\u001B[33m'\u001B[39m\n\u001B[32m    167\u001B[39m                   \u001B[33m'\u001B[39m\u001B[33m as keyword arg(s)\u001B[39m\u001B[33m'\u001B[39m,\n\u001B[32m    168\u001B[39m                   stacklevel=stacklevel,\n\u001B[32m    169\u001B[39m                   category=category)\n\u001B[32m--> \u001B[39m\u001B[32m171\u001B[39m \u001B[38;5;28;01mreturn\u001B[39;00m \u001B[43mfunc\u001B[49m\u001B[43m(\u001B[49m\u001B[43m*\u001B[49m\u001B[43margs\u001B[49m\u001B[43m,\u001B[49m\u001B[43m \u001B[49m\u001B[43m*\u001B[49m\u001B[43m*\u001B[49m\u001B[43mkwargs\u001B[49m\u001B[43m)\u001B[49m\n",
      "\u001B[36mFile \u001B[39m\u001B[32m~\\studia\\SSNE\\zadania\\venv\\Lib\\site-packages\\graphviz\\piping.py:121\u001B[39m, in \u001B[36mPipe._pipe_legacy\u001B[39m\u001B[34m(self, format, renderer, formatter, neato_no_op, quiet, engine, encoding)\u001B[39m\n\u001B[32m    112\u001B[39m \u001B[38;5;129m@_tools\u001B[39m.deprecate_positional_args(supported_number=\u001B[32m2\u001B[39m)\n\u001B[32m    113\u001B[39m \u001B[38;5;28;01mdef\u001B[39;00m\u001B[38;5;250m \u001B[39m\u001B[34m_pipe_legacy\u001B[39m(\u001B[38;5;28mself\u001B[39m,\n\u001B[32m    114\u001B[39m                  \u001B[38;5;28mformat\u001B[39m: typing.Optional[\u001B[38;5;28mstr\u001B[39m] = \u001B[38;5;28;01mNone\u001B[39;00m,\n\u001B[32m   (...)\u001B[39m\u001B[32m    119\u001B[39m                  engine: typing.Optional[\u001B[38;5;28mstr\u001B[39m] = \u001B[38;5;28;01mNone\u001B[39;00m,\n\u001B[32m    120\u001B[39m                  encoding: typing.Optional[\u001B[38;5;28mstr\u001B[39m] = \u001B[38;5;28;01mNone\u001B[39;00m) -> typing.Union[\u001B[38;5;28mbytes\u001B[39m, \u001B[38;5;28mstr\u001B[39m]:\n\u001B[32m--> \u001B[39m\u001B[32m121\u001B[39m     \u001B[38;5;28;01mreturn\u001B[39;00m \u001B[38;5;28;43mself\u001B[39;49m\u001B[43m.\u001B[49m\u001B[43m_pipe_future\u001B[49m\u001B[43m(\u001B[49m\u001B[38;5;28;43mformat\u001B[39;49m\u001B[43m,\u001B[49m\n\u001B[32m    122\u001B[39m \u001B[43m                             \u001B[49m\u001B[43mrenderer\u001B[49m\u001B[43m=\u001B[49m\u001B[43mrenderer\u001B[49m\u001B[43m,\u001B[49m\n\u001B[32m    123\u001B[39m \u001B[43m                             \u001B[49m\u001B[43mformatter\u001B[49m\u001B[43m=\u001B[49m\u001B[43mformatter\u001B[49m\u001B[43m,\u001B[49m\n\u001B[32m    124\u001B[39m \u001B[43m                             \u001B[49m\u001B[43mneato_no_op\u001B[49m\u001B[43m=\u001B[49m\u001B[43mneato_no_op\u001B[49m\u001B[43m,\u001B[49m\n\u001B[32m    125\u001B[39m \u001B[43m                             \u001B[49m\u001B[43mquiet\u001B[49m\u001B[43m=\u001B[49m\u001B[43mquiet\u001B[49m\u001B[43m,\u001B[49m\n\u001B[32m    126\u001B[39m \u001B[43m                             \u001B[49m\u001B[43mengine\u001B[49m\u001B[43m=\u001B[49m\u001B[43mengine\u001B[49m\u001B[43m,\u001B[49m\n\u001B[32m    127\u001B[39m \u001B[43m                             \u001B[49m\u001B[43mencoding\u001B[49m\u001B[43m=\u001B[49m\u001B[43mencoding\u001B[49m\u001B[43m)\u001B[49m\n",
      "\u001B[36mFile \u001B[39m\u001B[32m~\\studia\\SSNE\\zadania\\venv\\Lib\\site-packages\\graphviz\\piping.py:149\u001B[39m, in \u001B[36mPipe._pipe_future\u001B[39m\u001B[34m(self, format, renderer, formatter, neato_no_op, quiet, engine, encoding)\u001B[39m\n\u001B[32m    146\u001B[39m \u001B[38;5;28;01mif\u001B[39;00m encoding \u001B[38;5;129;01mis\u001B[39;00m \u001B[38;5;129;01mnot\u001B[39;00m \u001B[38;5;28;01mNone\u001B[39;00m:\n\u001B[32m    147\u001B[39m     \u001B[38;5;28;01mif\u001B[39;00m codecs.lookup(encoding) \u001B[38;5;129;01mis\u001B[39;00m codecs.lookup(\u001B[38;5;28mself\u001B[39m.encoding):\n\u001B[32m    148\u001B[39m         \u001B[38;5;66;03m# common case: both stdin and stdout need the same encoding\u001B[39;00m\n\u001B[32m--> \u001B[39m\u001B[32m149\u001B[39m         \u001B[38;5;28;01mreturn\u001B[39;00m \u001B[38;5;28;43mself\u001B[39;49m\u001B[43m.\u001B[49m\u001B[43m_pipe_lines_string\u001B[49m\u001B[43m(\u001B[49m\u001B[43m*\u001B[49m\u001B[43margs\u001B[49m\u001B[43m,\u001B[49m\u001B[43m \u001B[49m\u001B[43mencoding\u001B[49m\u001B[43m=\u001B[49m\u001B[43mencoding\u001B[49m\u001B[43m,\u001B[49m\u001B[43m \u001B[49m\u001B[43m*\u001B[49m\u001B[43m*\u001B[49m\u001B[43mkwargs\u001B[49m\u001B[43m)\u001B[49m\n\u001B[32m    150\u001B[39m     \u001B[38;5;28;01mtry\u001B[39;00m:\n\u001B[32m    151\u001B[39m         raw = \u001B[38;5;28mself\u001B[39m._pipe_lines(*args, input_encoding=\u001B[38;5;28mself\u001B[39m.encoding, **kwargs)\n",
      "\u001B[36mFile \u001B[39m\u001B[32m~\\studia\\SSNE\\zadania\\venv\\Lib\\site-packages\\graphviz\\backend\\piping.py:212\u001B[39m, in \u001B[36mpipe_lines_string\u001B[39m\u001B[34m(engine, format, input_lines, encoding, renderer, formatter, neato_no_op, quiet)\u001B[39m\n\u001B[32m    206\u001B[39m cmd = dot_command.command(engine, \u001B[38;5;28mformat\u001B[39m,\n\u001B[32m    207\u001B[39m                           renderer=renderer,\n\u001B[32m    208\u001B[39m                           formatter=formatter,\n\u001B[32m    209\u001B[39m                           neato_no_op=neato_no_op)\n\u001B[32m    210\u001B[39m kwargs = {\u001B[33m'\u001B[39m\u001B[33minput_lines\u001B[39m\u001B[33m'\u001B[39m: input_lines, \u001B[33m'\u001B[39m\u001B[33mencoding\u001B[39m\u001B[33m'\u001B[39m: encoding}\n\u001B[32m--> \u001B[39m\u001B[32m212\u001B[39m proc = \u001B[43mexecute\u001B[49m\u001B[43m.\u001B[49m\u001B[43mrun_check\u001B[49m\u001B[43m(\u001B[49m\u001B[43mcmd\u001B[49m\u001B[43m,\u001B[49m\u001B[43m \u001B[49m\u001B[43mcapture_output\u001B[49m\u001B[43m=\u001B[49m\u001B[38;5;28;43;01mTrue\u001B[39;49;00m\u001B[43m,\u001B[49m\u001B[43m \u001B[49m\u001B[43mquiet\u001B[49m\u001B[43m=\u001B[49m\u001B[43mquiet\u001B[49m\u001B[43m,\u001B[49m\u001B[43m \u001B[49m\u001B[43m*\u001B[49m\u001B[43m*\u001B[49m\u001B[43mkwargs\u001B[49m\u001B[43m)\u001B[49m\n\u001B[32m    213\u001B[39m \u001B[38;5;28;01mreturn\u001B[39;00m proc.stdout\n",
      "\u001B[36mFile \u001B[39m\u001B[32m~\\studia\\SSNE\\zadania\\venv\\Lib\\site-packages\\graphviz\\backend\\execute.py:81\u001B[39m, in \u001B[36mrun_check\u001B[39m\u001B[34m(cmd, input_lines, encoding, quiet, **kwargs)\u001B[39m\n\u001B[32m     79\u001B[39m \u001B[38;5;28;01mexcept\u001B[39;00m \u001B[38;5;167;01mOSError\u001B[39;00m \u001B[38;5;28;01mas\u001B[39;00m e:\n\u001B[32m     80\u001B[39m     \u001B[38;5;28;01mif\u001B[39;00m e.errno == errno.ENOENT:\n\u001B[32m---> \u001B[39m\u001B[32m81\u001B[39m         \u001B[38;5;28;01mraise\u001B[39;00m ExecutableNotFound(cmd) \u001B[38;5;28;01mfrom\u001B[39;00m\u001B[38;5;250m \u001B[39m\u001B[34;01me\u001B[39;00m\n\u001B[32m     82\u001B[39m     \u001B[38;5;28;01mraise\u001B[39;00m\n\u001B[32m     84\u001B[39m \u001B[38;5;28;01mif\u001B[39;00m \u001B[38;5;129;01mnot\u001B[39;00m quiet \u001B[38;5;129;01mand\u001B[39;00m proc.stderr:\n",
      "\u001B[31mExecutableNotFound\u001B[39m: failed to execute WindowsPath('dot'), make sure the Graphviz executables are on your systems' PATH"
     ]
    },
    {
     "data": {
      "text/plain": [
       "<graphviz.graphs.Digraph at 0x1a03243f590>"
      ]
     },
     "execution_count": 151,
     "metadata": {},
     "output_type": "execute_result"
    }
   ],
   "execution_count": 151
  },
  {
   "cell_type": "markdown",
   "metadata": {},
   "source": [
    "### Gradienty"
   ]
  },
  {
   "cell_type": "code",
   "metadata": {
    "ExecuteTime": {
     "end_time": "2025-03-04T21:06:50.944367Z",
     "start_time": "2025-03-04T21:06:50.938636Z"
    }
   },
   "source": [
    "x = torch.ones(1, requires_grad=True)\n",
    "print(x)\n",
    "y = (x+4)**3\n",
    "y"
   ],
   "outputs": [
    {
     "name": "stdout",
     "output_type": "stream",
     "text": [
      "tensor([1.], requires_grad=True)\n"
     ]
    },
    {
     "data": {
      "text/plain": [
       "tensor([125.], grad_fn=<PowBackward0>)"
      ]
     },
     "execution_count": 152,
     "metadata": {},
     "output_type": "execute_result"
    }
   ],
   "execution_count": 152
  },
  {
   "cell_type": "code",
   "metadata": {
    "ExecuteTime": {
     "end_time": "2025-03-04T21:06:51.165263Z",
     "start_time": "2025-03-04T21:06:50.990449Z"
    }
   },
   "source": [
    "make_dot(y)"
   ],
   "outputs": [
    {
     "ename": "ExecutableNotFound",
     "evalue": "failed to execute WindowsPath('dot'), make sure the Graphviz executables are on your systems' PATH",
     "output_type": "error",
     "traceback": [
      "\u001B[31m---------------------------------------------------------------------------\u001B[39m",
      "\u001B[31mFileNotFoundError\u001B[39m                         Traceback (most recent call last)",
      "\u001B[36mFile \u001B[39m\u001B[32m~\\studia\\SSNE\\zadania\\venv\\Lib\\site-packages\\graphviz\\backend\\execute.py:76\u001B[39m, in \u001B[36mrun_check\u001B[39m\u001B[34m(cmd, input_lines, encoding, quiet, **kwargs)\u001B[39m\n\u001B[32m     75\u001B[39m         kwargs[\u001B[33m'\u001B[39m\u001B[33mstdout\u001B[39m\u001B[33m'\u001B[39m] = kwargs[\u001B[33m'\u001B[39m\u001B[33mstderr\u001B[39m\u001B[33m'\u001B[39m] = subprocess.PIPE\n\u001B[32m---> \u001B[39m\u001B[32m76\u001B[39m     proc = \u001B[43m_run_input_lines\u001B[49m\u001B[43m(\u001B[49m\u001B[43mcmd\u001B[49m\u001B[43m,\u001B[49m\u001B[43m \u001B[49m\u001B[43minput_lines\u001B[49m\u001B[43m,\u001B[49m\u001B[43m \u001B[49m\u001B[43mkwargs\u001B[49m\u001B[43m=\u001B[49m\u001B[43mkwargs\u001B[49m\u001B[43m)\u001B[49m\n\u001B[32m     77\u001B[39m \u001B[38;5;28;01melse\u001B[39;00m:\n",
      "\u001B[36mFile \u001B[39m\u001B[32m~\\studia\\SSNE\\zadania\\venv\\Lib\\site-packages\\graphviz\\backend\\execute.py:96\u001B[39m, in \u001B[36m_run_input_lines\u001B[39m\u001B[34m(cmd, input_lines, kwargs)\u001B[39m\n\u001B[32m     95\u001B[39m \u001B[38;5;28;01mdef\u001B[39;00m\u001B[38;5;250m \u001B[39m\u001B[34m_run_input_lines\u001B[39m(cmd, input_lines, *, kwargs):\n\u001B[32m---> \u001B[39m\u001B[32m96\u001B[39m     popen = \u001B[43msubprocess\u001B[49m\u001B[43m.\u001B[49m\u001B[43mPopen\u001B[49m\u001B[43m(\u001B[49m\u001B[43mcmd\u001B[49m\u001B[43m,\u001B[49m\u001B[43m \u001B[49m\u001B[43mstdin\u001B[49m\u001B[43m=\u001B[49m\u001B[43msubprocess\u001B[49m\u001B[43m.\u001B[49m\u001B[43mPIPE\u001B[49m\u001B[43m,\u001B[49m\u001B[43m \u001B[49m\u001B[43m*\u001B[49m\u001B[43m*\u001B[49m\u001B[43mkwargs\u001B[49m\u001B[43m)\u001B[49m\n\u001B[32m     98\u001B[39m     stdin_write = popen.stdin.write\n",
      "\u001B[36mFile \u001B[39m\u001B[32mC:\\Program Files\\Python312\\Lib\\subprocess.py:1028\u001B[39m, in \u001B[36mPopen.__init__\u001B[39m\u001B[34m(self, args, bufsize, executable, stdin, stdout, stderr, preexec_fn, close_fds, shell, cwd, env, universal_newlines, startupinfo, creationflags, restore_signals, start_new_session, pass_fds, user, group, extra_groups, encoding, errors, text, umask, pipesize, process_group)\u001B[39m\n\u001B[32m   1025\u001B[39m             \u001B[38;5;28mself\u001B[39m.stderr = io.TextIOWrapper(\u001B[38;5;28mself\u001B[39m.stderr,\n\u001B[32m   1026\u001B[39m                     encoding=encoding, errors=errors)\n\u001B[32m-> \u001B[39m\u001B[32m1028\u001B[39m     \u001B[38;5;28;43mself\u001B[39;49m\u001B[43m.\u001B[49m\u001B[43m_execute_child\u001B[49m\u001B[43m(\u001B[49m\u001B[43margs\u001B[49m\u001B[43m,\u001B[49m\u001B[43m \u001B[49m\u001B[43mexecutable\u001B[49m\u001B[43m,\u001B[49m\u001B[43m \u001B[49m\u001B[43mpreexec_fn\u001B[49m\u001B[43m,\u001B[49m\u001B[43m \u001B[49m\u001B[43mclose_fds\u001B[49m\u001B[43m,\u001B[49m\n\u001B[32m   1029\u001B[39m \u001B[43m                        \u001B[49m\u001B[43mpass_fds\u001B[49m\u001B[43m,\u001B[49m\u001B[43m \u001B[49m\u001B[43mcwd\u001B[49m\u001B[43m,\u001B[49m\u001B[43m \u001B[49m\u001B[43menv\u001B[49m\u001B[43m,\u001B[49m\n\u001B[32m   1030\u001B[39m \u001B[43m                        \u001B[49m\u001B[43mstartupinfo\u001B[49m\u001B[43m,\u001B[49m\u001B[43m \u001B[49m\u001B[43mcreationflags\u001B[49m\u001B[43m,\u001B[49m\u001B[43m \u001B[49m\u001B[43mshell\u001B[49m\u001B[43m,\u001B[49m\n\u001B[32m   1031\u001B[39m \u001B[43m                        \u001B[49m\u001B[43mp2cread\u001B[49m\u001B[43m,\u001B[49m\u001B[43m \u001B[49m\u001B[43mp2cwrite\u001B[49m\u001B[43m,\u001B[49m\n\u001B[32m   1032\u001B[39m \u001B[43m                        \u001B[49m\u001B[43mc2pread\u001B[49m\u001B[43m,\u001B[49m\u001B[43m \u001B[49m\u001B[43mc2pwrite\u001B[49m\u001B[43m,\u001B[49m\n\u001B[32m   1033\u001B[39m \u001B[43m                        \u001B[49m\u001B[43merrread\u001B[49m\u001B[43m,\u001B[49m\u001B[43m \u001B[49m\u001B[43merrwrite\u001B[49m\u001B[43m,\u001B[49m\n\u001B[32m   1034\u001B[39m \u001B[43m                        \u001B[49m\u001B[43mrestore_signals\u001B[49m\u001B[43m,\u001B[49m\n\u001B[32m   1035\u001B[39m \u001B[43m                        \u001B[49m\u001B[43mgid\u001B[49m\u001B[43m,\u001B[49m\u001B[43m \u001B[49m\u001B[43mgids\u001B[49m\u001B[43m,\u001B[49m\u001B[43m \u001B[49m\u001B[43muid\u001B[49m\u001B[43m,\u001B[49m\u001B[43m \u001B[49m\u001B[43mumask\u001B[49m\u001B[43m,\u001B[49m\n\u001B[32m   1036\u001B[39m \u001B[43m                        \u001B[49m\u001B[43mstart_new_session\u001B[49m\u001B[43m,\u001B[49m\u001B[43m \u001B[49m\u001B[43mprocess_group\u001B[49m\u001B[43m)\u001B[49m\n\u001B[32m   1037\u001B[39m \u001B[38;5;28;01mexcept\u001B[39;00m:\n\u001B[32m   1038\u001B[39m     \u001B[38;5;66;03m# Cleanup if the child failed starting.\u001B[39;00m\n",
      "\u001B[36mFile \u001B[39m\u001B[32mC:\\Program Files\\Python312\\Lib\\subprocess.py:1540\u001B[39m, in \u001B[36mPopen._execute_child\u001B[39m\u001B[34m(self, args, executable, preexec_fn, close_fds, pass_fds, cwd, env, startupinfo, creationflags, shell, p2cread, p2cwrite, c2pread, c2pwrite, errread, errwrite, unused_restore_signals, unused_gid, unused_gids, unused_uid, unused_umask, unused_start_new_session, unused_process_group)\u001B[39m\n\u001B[32m   1539\u001B[39m \u001B[38;5;28;01mtry\u001B[39;00m:\n\u001B[32m-> \u001B[39m\u001B[32m1540\u001B[39m     hp, ht, pid, tid = \u001B[43m_winapi\u001B[49m\u001B[43m.\u001B[49m\u001B[43mCreateProcess\u001B[49m\u001B[43m(\u001B[49m\u001B[43mexecutable\u001B[49m\u001B[43m,\u001B[49m\u001B[43m \u001B[49m\u001B[43margs\u001B[49m\u001B[43m,\u001B[49m\n\u001B[32m   1541\u001B[39m \u001B[43m                             \u001B[49m\u001B[38;5;66;43;03m# no special security\u001B[39;49;00m\n\u001B[32m   1542\u001B[39m \u001B[43m                             \u001B[49m\u001B[38;5;28;43;01mNone\u001B[39;49;00m\u001B[43m,\u001B[49m\u001B[43m \u001B[49m\u001B[38;5;28;43;01mNone\u001B[39;49;00m\u001B[43m,\u001B[49m\n\u001B[32m   1543\u001B[39m \u001B[43m                             \u001B[49m\u001B[38;5;28;43mint\u001B[39;49m\u001B[43m(\u001B[49m\u001B[38;5;129;43;01mnot\u001B[39;49;00m\u001B[43m \u001B[49m\u001B[43mclose_fds\u001B[49m\u001B[43m)\u001B[49m\u001B[43m,\u001B[49m\n\u001B[32m   1544\u001B[39m \u001B[43m                             \u001B[49m\u001B[43mcreationflags\u001B[49m\u001B[43m,\u001B[49m\n\u001B[32m   1545\u001B[39m \u001B[43m                             \u001B[49m\u001B[43menv\u001B[49m\u001B[43m,\u001B[49m\n\u001B[32m   1546\u001B[39m \u001B[43m                             \u001B[49m\u001B[43mcwd\u001B[49m\u001B[43m,\u001B[49m\n\u001B[32m   1547\u001B[39m \u001B[43m                             \u001B[49m\u001B[43mstartupinfo\u001B[49m\u001B[43m)\u001B[49m\n\u001B[32m   1548\u001B[39m \u001B[38;5;28;01mfinally\u001B[39;00m:\n\u001B[32m   1549\u001B[39m     \u001B[38;5;66;03m# Child is launched. Close the parent's copy of those pipe\u001B[39;00m\n\u001B[32m   1550\u001B[39m     \u001B[38;5;66;03m# handles that only the child should have open.  You need\u001B[39;00m\n\u001B[32m   (...)\u001B[39m\u001B[32m   1553\u001B[39m     \u001B[38;5;66;03m# pipe will not close when the child process exits and the\u001B[39;00m\n\u001B[32m   1554\u001B[39m     \u001B[38;5;66;03m# ReadFile will hang.\u001B[39;00m\n",
      "\u001B[31mFileNotFoundError\u001B[39m: [WinError 2] The system cannot find the file specified",
      "\nThe above exception was the direct cause of the following exception:\n",
      "\u001B[31mExecutableNotFound\u001B[39m                        Traceback (most recent call last)",
      "\u001B[36mFile \u001B[39m\u001B[32m~\\studia\\SSNE\\zadania\\venv\\Lib\\site-packages\\IPython\\core\\formatters.py:1036\u001B[39m, in \u001B[36mMimeBundleFormatter.__call__\u001B[39m\u001B[34m(self, obj, include, exclude)\u001B[39m\n\u001B[32m   1033\u001B[39m     method = get_real_method(obj, \u001B[38;5;28mself\u001B[39m.print_method)\n\u001B[32m   1035\u001B[39m     \u001B[38;5;28;01mif\u001B[39;00m method \u001B[38;5;129;01mis\u001B[39;00m \u001B[38;5;129;01mnot\u001B[39;00m \u001B[38;5;28;01mNone\u001B[39;00m:\n\u001B[32m-> \u001B[39m\u001B[32m1036\u001B[39m         \u001B[38;5;28;01mreturn\u001B[39;00m \u001B[43mmethod\u001B[49m\u001B[43m(\u001B[49m\u001B[43minclude\u001B[49m\u001B[43m=\u001B[49m\u001B[43minclude\u001B[49m\u001B[43m,\u001B[49m\u001B[43m \u001B[49m\u001B[43mexclude\u001B[49m\u001B[43m=\u001B[49m\u001B[43mexclude\u001B[49m\u001B[43m)\u001B[49m\n\u001B[32m   1037\u001B[39m     \u001B[38;5;28;01mreturn\u001B[39;00m \u001B[38;5;28;01mNone\u001B[39;00m\n\u001B[32m   1038\u001B[39m \u001B[38;5;28;01melse\u001B[39;00m:\n",
      "\u001B[36mFile \u001B[39m\u001B[32m~\\studia\\SSNE\\zadania\\venv\\Lib\\site-packages\\graphviz\\jupyter_integration.py:98\u001B[39m, in \u001B[36mJupyterIntegration._repr_mimebundle_\u001B[39m\u001B[34m(self, include, exclude, **_)\u001B[39m\n\u001B[32m     96\u001B[39m include = \u001B[38;5;28mset\u001B[39m(include) \u001B[38;5;28;01mif\u001B[39;00m include \u001B[38;5;129;01mis\u001B[39;00m \u001B[38;5;129;01mnot\u001B[39;00m \u001B[38;5;28;01mNone\u001B[39;00m \u001B[38;5;28;01melse\u001B[39;00m {\u001B[38;5;28mself\u001B[39m._jupyter_mimetype}\n\u001B[32m     97\u001B[39m include -= \u001B[38;5;28mset\u001B[39m(exclude \u001B[38;5;129;01mor\u001B[39;00m [])\n\u001B[32m---> \u001B[39m\u001B[32m98\u001B[39m \u001B[38;5;28;01mreturn\u001B[39;00m {mimetype: \u001B[38;5;28;43mgetattr\u001B[39;49m\u001B[43m(\u001B[49m\u001B[38;5;28;43mself\u001B[39;49m\u001B[43m,\u001B[49m\u001B[43m \u001B[49m\u001B[43mmethod_name\u001B[49m\u001B[43m)\u001B[49m\u001B[43m(\u001B[49m\u001B[43m)\u001B[49m\n\u001B[32m     99\u001B[39m         \u001B[38;5;28;01mfor\u001B[39;00m mimetype, method_name \u001B[38;5;129;01min\u001B[39;00m MIME_TYPES.items()\n\u001B[32m    100\u001B[39m         \u001B[38;5;28;01mif\u001B[39;00m mimetype \u001B[38;5;129;01min\u001B[39;00m include}\n",
      "\u001B[36mFile \u001B[39m\u001B[32m~\\studia\\SSNE\\zadania\\venv\\Lib\\site-packages\\graphviz\\jupyter_integration.py:112\u001B[39m, in \u001B[36mJupyterIntegration._repr_image_svg_xml\u001B[39m\u001B[34m(self)\u001B[39m\n\u001B[32m    110\u001B[39m \u001B[38;5;28;01mdef\u001B[39;00m\u001B[38;5;250m \u001B[39m\u001B[34m_repr_image_svg_xml\u001B[39m(\u001B[38;5;28mself\u001B[39m) -> \u001B[38;5;28mstr\u001B[39m:\n\u001B[32m    111\u001B[39m \u001B[38;5;250m    \u001B[39m\u001B[33;03m\"\"\"Return the rendered graph as SVG string.\"\"\"\u001B[39;00m\n\u001B[32m--> \u001B[39m\u001B[32m112\u001B[39m     \u001B[38;5;28;01mreturn\u001B[39;00m \u001B[38;5;28;43mself\u001B[39;49m\u001B[43m.\u001B[49m\u001B[43mpipe\u001B[49m\u001B[43m(\u001B[49m\u001B[38;5;28;43mformat\u001B[39;49m\u001B[43m=\u001B[49m\u001B[33;43m'\u001B[39;49m\u001B[33;43msvg\u001B[39;49m\u001B[33;43m'\u001B[39;49m\u001B[43m,\u001B[49m\u001B[43m \u001B[49m\u001B[43mencoding\u001B[49m\u001B[43m=\u001B[49m\u001B[43mSVG_ENCODING\u001B[49m\u001B[43m)\u001B[49m\n",
      "\u001B[36mFile \u001B[39m\u001B[32m~\\studia\\SSNE\\zadania\\venv\\Lib\\site-packages\\graphviz\\piping.py:104\u001B[39m, in \u001B[36mPipe.pipe\u001B[39m\u001B[34m(self, format, renderer, formatter, neato_no_op, quiet, engine, encoding)\u001B[39m\n\u001B[32m     55\u001B[39m \u001B[38;5;28;01mdef\u001B[39;00m\u001B[38;5;250m \u001B[39m\u001B[34mpipe\u001B[39m(\u001B[38;5;28mself\u001B[39m,\n\u001B[32m     56\u001B[39m          \u001B[38;5;28mformat\u001B[39m: typing.Optional[\u001B[38;5;28mstr\u001B[39m] = \u001B[38;5;28;01mNone\u001B[39;00m,\n\u001B[32m     57\u001B[39m          renderer: typing.Optional[\u001B[38;5;28mstr\u001B[39m] = \u001B[38;5;28;01mNone\u001B[39;00m,\n\u001B[32m   (...)\u001B[39m\u001B[32m     61\u001B[39m          engine: typing.Optional[\u001B[38;5;28mstr\u001B[39m] = \u001B[38;5;28;01mNone\u001B[39;00m,\n\u001B[32m     62\u001B[39m          encoding: typing.Optional[\u001B[38;5;28mstr\u001B[39m] = \u001B[38;5;28;01mNone\u001B[39;00m) -> typing.Union[\u001B[38;5;28mbytes\u001B[39m, \u001B[38;5;28mstr\u001B[39m]:\n\u001B[32m     63\u001B[39m \u001B[38;5;250m    \u001B[39m\u001B[33;03m\"\"\"Return the source piped through the Graphviz layout command.\u001B[39;00m\n\u001B[32m     64\u001B[39m \n\u001B[32m     65\u001B[39m \u001B[33;03m    Args:\u001B[39;00m\n\u001B[32m   (...)\u001B[39m\u001B[32m    102\u001B[39m \u001B[33;03m        '<?xml version='\u001B[39;00m\n\u001B[32m    103\u001B[39m \u001B[33;03m    \"\"\"\u001B[39;00m\n\u001B[32m--> \u001B[39m\u001B[32m104\u001B[39m     \u001B[38;5;28;01mreturn\u001B[39;00m \u001B[38;5;28;43mself\u001B[39;49m\u001B[43m.\u001B[49m\u001B[43m_pipe_legacy\u001B[49m\u001B[43m(\u001B[49m\u001B[38;5;28;43mformat\u001B[39;49m\u001B[43m,\u001B[49m\n\u001B[32m    105\u001B[39m \u001B[43m                             \u001B[49m\u001B[43mrenderer\u001B[49m\u001B[43m=\u001B[49m\u001B[43mrenderer\u001B[49m\u001B[43m,\u001B[49m\n\u001B[32m    106\u001B[39m \u001B[43m                             \u001B[49m\u001B[43mformatter\u001B[49m\u001B[43m=\u001B[49m\u001B[43mformatter\u001B[49m\u001B[43m,\u001B[49m\n\u001B[32m    107\u001B[39m \u001B[43m                             \u001B[49m\u001B[43mneato_no_op\u001B[49m\u001B[43m=\u001B[49m\u001B[43mneato_no_op\u001B[49m\u001B[43m,\u001B[49m\n\u001B[32m    108\u001B[39m \u001B[43m                             \u001B[49m\u001B[43mquiet\u001B[49m\u001B[43m=\u001B[49m\u001B[43mquiet\u001B[49m\u001B[43m,\u001B[49m\n\u001B[32m    109\u001B[39m \u001B[43m                             \u001B[49m\u001B[43mengine\u001B[49m\u001B[43m=\u001B[49m\u001B[43mengine\u001B[49m\u001B[43m,\u001B[49m\n\u001B[32m    110\u001B[39m \u001B[43m                             \u001B[49m\u001B[43mencoding\u001B[49m\u001B[43m=\u001B[49m\u001B[43mencoding\u001B[49m\u001B[43m)\u001B[49m\n",
      "\u001B[36mFile \u001B[39m\u001B[32m~\\studia\\SSNE\\zadania\\venv\\Lib\\site-packages\\graphviz\\_tools.py:171\u001B[39m, in \u001B[36mdeprecate_positional_args.<locals>.decorator.<locals>.wrapper\u001B[39m\u001B[34m(*args, **kwargs)\u001B[39m\n\u001B[32m    162\u001B[39m     wanted = \u001B[33m'\u001B[39m\u001B[33m, \u001B[39m\u001B[33m'\u001B[39m.join(\u001B[33mf\u001B[39m\u001B[33m'\u001B[39m\u001B[38;5;132;01m{\u001B[39;00mname\u001B[38;5;132;01m}\u001B[39;00m\u001B[33m=\u001B[39m\u001B[38;5;132;01m{\u001B[39;00mvalue\u001B[38;5;132;01m!r}\u001B[39;00m\u001B[33m'\u001B[39m\n\u001B[32m    163\u001B[39m                        \u001B[38;5;28;01mfor\u001B[39;00m name, value \u001B[38;5;129;01min\u001B[39;00m deprecated.items())\n\u001B[32m    164\u001B[39m     warnings.warn(\u001B[33mf\u001B[39m\u001B[33m'\u001B[39m\u001B[33mThe signature of \u001B[39m\u001B[38;5;132;01m{\u001B[39;00mfunc.\u001B[34m__name__\u001B[39m\u001B[38;5;132;01m}\u001B[39;00m\u001B[33m will be reduced\u001B[39m\u001B[33m'\u001B[39m\n\u001B[32m    165\u001B[39m                   \u001B[33mf\u001B[39m\u001B[33m'\u001B[39m\u001B[33m to \u001B[39m\u001B[38;5;132;01m{\u001B[39;00msupported_number\u001B[38;5;132;01m}\u001B[39;00m\u001B[33m positional args\u001B[39m\u001B[33m'\u001B[39m\n\u001B[32m    166\u001B[39m                   \u001B[33mf\u001B[39m\u001B[33m'\u001B[39m\u001B[33m \u001B[39m\u001B[38;5;132;01m{\u001B[39;00m\u001B[38;5;28mlist\u001B[39m(supported)\u001B[38;5;132;01m}\u001B[39;00m\u001B[33m: pass \u001B[39m\u001B[38;5;132;01m{\u001B[39;00mwanted\u001B[38;5;132;01m}\u001B[39;00m\u001B[33m'\u001B[39m\n\u001B[32m    167\u001B[39m                   \u001B[33m'\u001B[39m\u001B[33m as keyword arg(s)\u001B[39m\u001B[33m'\u001B[39m,\n\u001B[32m    168\u001B[39m                   stacklevel=stacklevel,\n\u001B[32m    169\u001B[39m                   category=category)\n\u001B[32m--> \u001B[39m\u001B[32m171\u001B[39m \u001B[38;5;28;01mreturn\u001B[39;00m \u001B[43mfunc\u001B[49m\u001B[43m(\u001B[49m\u001B[43m*\u001B[49m\u001B[43margs\u001B[49m\u001B[43m,\u001B[49m\u001B[43m \u001B[49m\u001B[43m*\u001B[49m\u001B[43m*\u001B[49m\u001B[43mkwargs\u001B[49m\u001B[43m)\u001B[49m\n",
      "\u001B[36mFile \u001B[39m\u001B[32m~\\studia\\SSNE\\zadania\\venv\\Lib\\site-packages\\graphviz\\piping.py:121\u001B[39m, in \u001B[36mPipe._pipe_legacy\u001B[39m\u001B[34m(self, format, renderer, formatter, neato_no_op, quiet, engine, encoding)\u001B[39m\n\u001B[32m    112\u001B[39m \u001B[38;5;129m@_tools\u001B[39m.deprecate_positional_args(supported_number=\u001B[32m2\u001B[39m)\n\u001B[32m    113\u001B[39m \u001B[38;5;28;01mdef\u001B[39;00m\u001B[38;5;250m \u001B[39m\u001B[34m_pipe_legacy\u001B[39m(\u001B[38;5;28mself\u001B[39m,\n\u001B[32m    114\u001B[39m                  \u001B[38;5;28mformat\u001B[39m: typing.Optional[\u001B[38;5;28mstr\u001B[39m] = \u001B[38;5;28;01mNone\u001B[39;00m,\n\u001B[32m   (...)\u001B[39m\u001B[32m    119\u001B[39m                  engine: typing.Optional[\u001B[38;5;28mstr\u001B[39m] = \u001B[38;5;28;01mNone\u001B[39;00m,\n\u001B[32m    120\u001B[39m                  encoding: typing.Optional[\u001B[38;5;28mstr\u001B[39m] = \u001B[38;5;28;01mNone\u001B[39;00m) -> typing.Union[\u001B[38;5;28mbytes\u001B[39m, \u001B[38;5;28mstr\u001B[39m]:\n\u001B[32m--> \u001B[39m\u001B[32m121\u001B[39m     \u001B[38;5;28;01mreturn\u001B[39;00m \u001B[38;5;28;43mself\u001B[39;49m\u001B[43m.\u001B[49m\u001B[43m_pipe_future\u001B[49m\u001B[43m(\u001B[49m\u001B[38;5;28;43mformat\u001B[39;49m\u001B[43m,\u001B[49m\n\u001B[32m    122\u001B[39m \u001B[43m                             \u001B[49m\u001B[43mrenderer\u001B[49m\u001B[43m=\u001B[49m\u001B[43mrenderer\u001B[49m\u001B[43m,\u001B[49m\n\u001B[32m    123\u001B[39m \u001B[43m                             \u001B[49m\u001B[43mformatter\u001B[49m\u001B[43m=\u001B[49m\u001B[43mformatter\u001B[49m\u001B[43m,\u001B[49m\n\u001B[32m    124\u001B[39m \u001B[43m                             \u001B[49m\u001B[43mneato_no_op\u001B[49m\u001B[43m=\u001B[49m\u001B[43mneato_no_op\u001B[49m\u001B[43m,\u001B[49m\n\u001B[32m    125\u001B[39m \u001B[43m                             \u001B[49m\u001B[43mquiet\u001B[49m\u001B[43m=\u001B[49m\u001B[43mquiet\u001B[49m\u001B[43m,\u001B[49m\n\u001B[32m    126\u001B[39m \u001B[43m                             \u001B[49m\u001B[43mengine\u001B[49m\u001B[43m=\u001B[49m\u001B[43mengine\u001B[49m\u001B[43m,\u001B[49m\n\u001B[32m    127\u001B[39m \u001B[43m                             \u001B[49m\u001B[43mencoding\u001B[49m\u001B[43m=\u001B[49m\u001B[43mencoding\u001B[49m\u001B[43m)\u001B[49m\n",
      "\u001B[36mFile \u001B[39m\u001B[32m~\\studia\\SSNE\\zadania\\venv\\Lib\\site-packages\\graphviz\\piping.py:149\u001B[39m, in \u001B[36mPipe._pipe_future\u001B[39m\u001B[34m(self, format, renderer, formatter, neato_no_op, quiet, engine, encoding)\u001B[39m\n\u001B[32m    146\u001B[39m \u001B[38;5;28;01mif\u001B[39;00m encoding \u001B[38;5;129;01mis\u001B[39;00m \u001B[38;5;129;01mnot\u001B[39;00m \u001B[38;5;28;01mNone\u001B[39;00m:\n\u001B[32m    147\u001B[39m     \u001B[38;5;28;01mif\u001B[39;00m codecs.lookup(encoding) \u001B[38;5;129;01mis\u001B[39;00m codecs.lookup(\u001B[38;5;28mself\u001B[39m.encoding):\n\u001B[32m    148\u001B[39m         \u001B[38;5;66;03m# common case: both stdin and stdout need the same encoding\u001B[39;00m\n\u001B[32m--> \u001B[39m\u001B[32m149\u001B[39m         \u001B[38;5;28;01mreturn\u001B[39;00m \u001B[38;5;28;43mself\u001B[39;49m\u001B[43m.\u001B[49m\u001B[43m_pipe_lines_string\u001B[49m\u001B[43m(\u001B[49m\u001B[43m*\u001B[49m\u001B[43margs\u001B[49m\u001B[43m,\u001B[49m\u001B[43m \u001B[49m\u001B[43mencoding\u001B[49m\u001B[43m=\u001B[49m\u001B[43mencoding\u001B[49m\u001B[43m,\u001B[49m\u001B[43m \u001B[49m\u001B[43m*\u001B[49m\u001B[43m*\u001B[49m\u001B[43mkwargs\u001B[49m\u001B[43m)\u001B[49m\n\u001B[32m    150\u001B[39m     \u001B[38;5;28;01mtry\u001B[39;00m:\n\u001B[32m    151\u001B[39m         raw = \u001B[38;5;28mself\u001B[39m._pipe_lines(*args, input_encoding=\u001B[38;5;28mself\u001B[39m.encoding, **kwargs)\n",
      "\u001B[36mFile \u001B[39m\u001B[32m~\\studia\\SSNE\\zadania\\venv\\Lib\\site-packages\\graphviz\\backend\\piping.py:212\u001B[39m, in \u001B[36mpipe_lines_string\u001B[39m\u001B[34m(engine, format, input_lines, encoding, renderer, formatter, neato_no_op, quiet)\u001B[39m\n\u001B[32m    206\u001B[39m cmd = dot_command.command(engine, \u001B[38;5;28mformat\u001B[39m,\n\u001B[32m    207\u001B[39m                           renderer=renderer,\n\u001B[32m    208\u001B[39m                           formatter=formatter,\n\u001B[32m    209\u001B[39m                           neato_no_op=neato_no_op)\n\u001B[32m    210\u001B[39m kwargs = {\u001B[33m'\u001B[39m\u001B[33minput_lines\u001B[39m\u001B[33m'\u001B[39m: input_lines, \u001B[33m'\u001B[39m\u001B[33mencoding\u001B[39m\u001B[33m'\u001B[39m: encoding}\n\u001B[32m--> \u001B[39m\u001B[32m212\u001B[39m proc = \u001B[43mexecute\u001B[49m\u001B[43m.\u001B[49m\u001B[43mrun_check\u001B[49m\u001B[43m(\u001B[49m\u001B[43mcmd\u001B[49m\u001B[43m,\u001B[49m\u001B[43m \u001B[49m\u001B[43mcapture_output\u001B[49m\u001B[43m=\u001B[49m\u001B[38;5;28;43;01mTrue\u001B[39;49;00m\u001B[43m,\u001B[49m\u001B[43m \u001B[49m\u001B[43mquiet\u001B[49m\u001B[43m=\u001B[49m\u001B[43mquiet\u001B[49m\u001B[43m,\u001B[49m\u001B[43m \u001B[49m\u001B[43m*\u001B[49m\u001B[43m*\u001B[49m\u001B[43mkwargs\u001B[49m\u001B[43m)\u001B[49m\n\u001B[32m    213\u001B[39m \u001B[38;5;28;01mreturn\u001B[39;00m proc.stdout\n",
      "\u001B[36mFile \u001B[39m\u001B[32m~\\studia\\SSNE\\zadania\\venv\\Lib\\site-packages\\graphviz\\backend\\execute.py:81\u001B[39m, in \u001B[36mrun_check\u001B[39m\u001B[34m(cmd, input_lines, encoding, quiet, **kwargs)\u001B[39m\n\u001B[32m     79\u001B[39m \u001B[38;5;28;01mexcept\u001B[39;00m \u001B[38;5;167;01mOSError\u001B[39;00m \u001B[38;5;28;01mas\u001B[39;00m e:\n\u001B[32m     80\u001B[39m     \u001B[38;5;28;01mif\u001B[39;00m e.errno == errno.ENOENT:\n\u001B[32m---> \u001B[39m\u001B[32m81\u001B[39m         \u001B[38;5;28;01mraise\u001B[39;00m ExecutableNotFound(cmd) \u001B[38;5;28;01mfrom\u001B[39;00m\u001B[38;5;250m \u001B[39m\u001B[34;01me\u001B[39;00m\n\u001B[32m     82\u001B[39m     \u001B[38;5;28;01mraise\u001B[39;00m\n\u001B[32m     84\u001B[39m \u001B[38;5;28;01mif\u001B[39;00m \u001B[38;5;129;01mnot\u001B[39;00m quiet \u001B[38;5;129;01mand\u001B[39;00m proc.stderr:\n",
      "\u001B[31mExecutableNotFound\u001B[39m: failed to execute WindowsPath('dot'), make sure the Graphviz executables are on your systems' PATH"
     ]
    },
    {
     "data": {
      "text/plain": [
       "<graphviz.graphs.Digraph at 0x1a03235e540>"
      ]
     },
     "execution_count": 153,
     "metadata": {},
     "output_type": "execute_result"
    }
   ],
   "execution_count": 153
  },
  {
   "cell_type": "code",
   "metadata": {
    "scrolled": true,
    "ExecuteTime": {
     "end_time": "2025-03-04T21:06:51.200246Z",
     "start_time": "2025-03-04T21:06:51.194822Z"
    }
   },
   "source": [
    "y.backward()\n",
    "x.grad"
   ],
   "outputs": [
    {
     "data": {
      "text/plain": [
       "tensor([75.])"
      ]
     },
     "execution_count": 154,
     "metadata": {},
     "output_type": "execute_result"
    }
   ],
   "execution_count": 154
  },
  {
   "cell_type": "markdown",
   "metadata": {},
   "source": [
    "#### Obliczenia z pominięciem gradientów"
   ]
  },
  {
   "cell_type": "code",
   "metadata": {
    "ExecuteTime": {
     "end_time": "2025-03-04T21:06:51.265046Z",
     "start_time": "2025-03-04T21:06:51.258838Z"
    }
   },
   "source": [
    "t1 = torch.rand(3,4, requires_grad=True)\n",
    "t2 = torch.rand(4,3, requires_grad=True)\n",
    "with torch.no_grad():\n",
    "    y = t1@t2\n",
    "print(y)\n",
    "print(t1@t2)"
   ],
   "outputs": [
    {
     "name": "stdout",
     "output_type": "stream",
     "text": [
      "tensor([[0.2423, 1.0316, 1.2170],\n",
      "        [0.4165, 1.5770, 1.2979],\n",
      "        [0.4304, 1.7383, 1.7578]])\n",
      "tensor([[0.2423, 1.0316, 1.2170],\n",
      "        [0.4165, 1.5770, 1.2979],\n",
      "        [0.4304, 1.7383, 1.7578]], grad_fn=<MmBackward0>)\n"
     ]
    }
   ],
   "execution_count": 155
  },
  {
   "cell_type": "markdown",
   "metadata": {},
   "source": [
    "#### Funkcja backward pozwala nam policzyć pochodną cząstkową w punkcie dla wszystkich źródeł (liści w grafie obliczeń)"
   ]
  },
  {
   "cell_type": "code",
   "metadata": {
    "ExecuteTime": {
     "end_time": "2025-03-04T21:06:51.322248Z",
     "start_time": "2025-03-04T21:06:51.318671Z"
    }
   },
   "source": [
    "x = torch.ones(5)  # input tensor\n",
    "y = torch.zeros(3)  # expected output"
   ],
   "outputs": [],
   "execution_count": 156
  },
  {
   "cell_type": "code",
   "metadata": {
    "ExecuteTime": {
     "end_time": "2025-03-04T21:06:51.354254Z",
     "start_time": "2025-03-04T21:06:51.350005Z"
    }
   },
   "source": [
    "w = torch.randn(5, 3, requires_grad=True) #weights\n",
    "b = torch.randn(3, requires_grad=True) #bias"
   ],
   "outputs": [],
   "execution_count": 157
  },
  {
   "cell_type": "code",
   "metadata": {
    "ExecuteTime": {
     "end_time": "2025-03-04T21:06:51.384169Z",
     "start_time": "2025-03-04T21:06:51.380636Z"
    }
   },
   "source": [
    "z = torch.matmul(x, w)+b"
   ],
   "outputs": [],
   "execution_count": 158
  },
  {
   "cell_type": "code",
   "metadata": {
    "ExecuteTime": {
     "end_time": "2025-03-04T21:06:51.447063Z",
     "start_time": "2025-03-04T21:06:51.441623Z"
    }
   },
   "source": [
    "loss = torch.abs((z-y)).mean()\n",
    "loss"
   ],
   "outputs": [
    {
     "data": {
      "text/plain": [
       "tensor(0.8602, grad_fn=<MeanBackward0>)"
      ]
     },
     "execution_count": 159,
     "metadata": {},
     "output_type": "execute_result"
    }
   ],
   "execution_count": 159
  },
  {
   "cell_type": "code",
   "metadata": {
    "ExecuteTime": {
     "end_time": "2025-03-04T21:06:51.482371Z",
     "start_time": "2025-03-04T21:06:51.475983Z"
    }
   },
   "source": [
    "loss.backward()\n",
    "print(w.grad)\n",
    "print(b.grad)"
   ],
   "outputs": [
    {
     "name": "stdout",
     "output_type": "stream",
     "text": [
      "tensor([[0.3333, 0.3333, 0.3333],\n",
      "        [0.3333, 0.3333, 0.3333],\n",
      "        [0.3333, 0.3333, 0.3333],\n",
      "        [0.3333, 0.3333, 0.3333],\n",
      "        [0.3333, 0.3333, 0.3333]])\n",
      "tensor([0.3333, 0.3333, 0.3333])\n"
     ]
    }
   ],
   "execution_count": 160
  },
  {
   "cell_type": "markdown",
   "metadata": {},
   "source": [
    "# Regresja raz jeszcze"
   ]
  },
  {
   "cell_type": "code",
   "metadata": {
    "ExecuteTime": {
     "end_time": "2025-03-04T21:06:51.531489Z",
     "start_time": "2025-03-04T21:06:51.527242Z"
    }
   },
   "source": [
    "apples_kg_ordered = [2,4,7,3,13]\n",
    "plums_kg_ordered = [3,8,9,1,1]\n",
    "prices = [11.97 , 28.05, 38.98, 10.96, 41.1]"
   ],
   "outputs": [],
   "execution_count": 161
  },
  {
   "cell_type": "code",
   "metadata": {
    "ExecuteTime": {
     "end_time": "2025-03-04T21:06:51.568428Z",
     "start_time": "2025-03-04T21:06:51.561763Z"
    }
   },
   "source": [
    "X = torch.tensor([apples_kg_ordered,plums_kg_ordered])\n",
    "y = torch.tensor(prices)\n",
    "X = X.T.float()\n",
    "Y = Y.T\n",
    "print(X)\n",
    "print(Y)"
   ],
   "outputs": [
    {
     "name": "stdout",
     "output_type": "stream",
     "text": [
      "tensor([[ 2.,  3.],\n",
      "        [ 4.,  8.],\n",
      "        [ 7.,  9.],\n",
      "        [ 3.,  1.],\n",
      "        [13.,  1.]])\n",
      "tensor([11.9700, 28.0500, 38.9800, 10.9600, 41.1000])\n"
     ]
    }
   ],
   "execution_count": 162
  },
  {
   "cell_type": "code",
   "metadata": {
    "ExecuteTime": {
     "end_time": "2025-03-04T21:06:51.600630Z",
     "start_time": "2025-03-04T21:06:51.597613Z"
    }
   },
   "source": [
    "params = torch.rand(2,requires_grad=True)"
   ],
   "outputs": [],
   "execution_count": 163
  },
  {
   "cell_type": "code",
   "metadata": {
    "ExecuteTime": {
     "end_time": "2025-03-04T21:06:51.659527Z",
     "start_time": "2025-03-04T21:06:51.654830Z"
    }
   },
   "source": [
    "y_pred = X@params\n",
    "y_pred"
   ],
   "outputs": [
    {
     "data": {
      "text/plain": [
       "tensor([ 2.6922,  6.0770,  8.9032,  2.8262, 11.0925], grad_fn=<MvBackward0>)"
      ]
     },
     "execution_count": 164,
     "metadata": {},
     "output_type": "execute_result"
    }
   ],
   "execution_count": 164
  },
  {
   "cell_type": "code",
   "metadata": {
    "ExecuteTime": {
     "end_time": "2025-03-04T21:06:51.703767Z",
     "start_time": "2025-03-04T21:06:51.698089Z"
    }
   },
   "source": [
    "loss = (torch.square(Y-y_pred)).mean()\n",
    "loss"
   ],
   "outputs": [
    {
     "data": {
      "text/plain": [
       "tensor(488.0235, grad_fn=<MeanBackward0>)"
      ]
     },
     "execution_count": 165,
     "metadata": {},
     "output_type": "execute_result"
    }
   ],
   "execution_count": 165
  },
  {
   "cell_type": "code",
   "metadata": {
    "ExecuteTime": {
     "end_time": "2025-03-04T21:06:51.742057Z",
     "start_time": "2025-03-04T21:06:51.738551Z"
    }
   },
   "source": [
    "loss.backward()"
   ],
   "outputs": [],
   "execution_count": 166
  },
  {
   "cell_type": "code",
   "metadata": {
    "scrolled": true,
    "ExecuteTime": {
     "end_time": "2025-03-04T21:06:51.785568Z",
     "start_time": "2025-03-04T21:06:51.780265Z"
    }
   },
   "source": [
    "params.grad"
   ],
   "outputs": [
    {
     "data": {
      "text/plain": [
       "tensor([-292.5938, -204.9803])"
      ]
     },
     "execution_count": 167,
     "metadata": {},
     "output_type": "execute_result"
    }
   ],
   "execution_count": 167
  },
  {
   "cell_type": "code",
   "metadata": {
    "ExecuteTime": {
     "end_time": "2025-03-04T21:06:51.825620Z",
     "start_time": "2025-03-04T21:06:51.820963Z"
    }
   },
   "source": [
    "lr = 0.001"
   ],
   "outputs": [],
   "execution_count": 168
  },
  {
   "cell_type": "code",
   "metadata": {
    "ExecuteTime": {
     "end_time": "2025-03-04T21:06:51.866462Z",
     "start_time": "2025-03-04T21:06:51.861417Z"
    }
   },
   "source": [
    "print(params)\n",
    "params - lr *params.grad"
   ],
   "outputs": [
    {
     "name": "stdout",
     "output_type": "stream",
     "text": [
      "tensor([0.8266, 0.3463], requires_grad=True)\n"
     ]
    },
    {
     "data": {
      "text/plain": [
       "tensor([1.1192, 0.5513], grad_fn=<SubBackward0>)"
      ]
     },
     "execution_count": 169,
     "metadata": {},
     "output_type": "execute_result"
    }
   ],
   "execution_count": 169
  },
  {
   "cell_type": "code",
   "metadata": {
    "ExecuteTime": {
     "end_time": "2025-03-04T21:06:51.900271Z",
     "start_time": "2025-03-04T21:06:51.897175Z"
    }
   },
   "source": [
    "params = torch.rand(2,requires_grad=True)"
   ],
   "outputs": [],
   "execution_count": 170
  },
  {
   "cell_type": "code",
   "metadata": {
    "scrolled": true,
    "ExecuteTime": {
     "end_time": "2025-03-04T21:06:52.029628Z",
     "start_time": "2025-03-04T21:06:51.985103Z"
    }
   },
   "source": [
    "for epoch in range(50):\n",
    "    y_pred = X@params\n",
    "    loss = (torch.square(Y-y_pred)).mean()\n",
    "    loss.backward()\n",
    "    with torch.no_grad():\n",
    "        params.copy_(params - lr *params.grad)\n",
    "    print(params)\n",
    "    print(params.grad)\n",
    "    params.grad.zero_()"
   ],
   "outputs": [
    {
     "name": "stdout",
     "output_type": "stream",
     "text": [
      "tensor([0.7791, 0.6380], requires_grad=True)\n",
      "tensor([-326.0522, -217.8581])\n",
      "tensor([1.0627, 0.8270], requires_grad=True)\n",
      "tensor([-283.6425, -189.0045])\n",
      "tensor([1.3095, 0.9909], requires_grad=True)\n",
      "tensor([-246.7732, -163.9361])\n",
      "tensor([1.5242, 1.1331], requires_grad=True)\n",
      "tensor([-214.7198, -142.1575])\n",
      "tensor([1.7110, 1.2563], requires_grad=True)\n",
      "tensor([-186.8525, -123.2380])\n",
      "tensor([1.8737, 1.3631], requires_grad=True)\n",
      "tensor([-162.6239, -106.8033])\n",
      "tensor([2.0152, 1.4557], requires_grad=True)\n",
      "tensor([-141.5583,  -92.5279])\n",
      "tensor([2.1385, 1.5358], requires_grad=True)\n",
      "tensor([-123.2421,  -80.1293])\n",
      "tensor([2.2458, 1.6052], requires_grad=True)\n",
      "tensor([-107.3157,  -69.3615])\n",
      "tensor([2.3393, 1.6652], requires_grad=True)\n",
      "tensor([-93.4668, -60.0109])\n",
      "tensor([2.4207, 1.7171], requires_grad=True)\n",
      "tensor([-81.4237, -51.8920])\n",
      "tensor([2.4916, 1.7619], requires_grad=True)\n",
      "tensor([-70.9505, -44.8433])\n",
      "tensor([2.5535, 1.8006], requires_grad=True)\n",
      "tensor([-61.8419, -38.7246])\n",
      "tensor([2.6074, 1.8341], requires_grad=True)\n",
      "tensor([-53.9196, -33.4140])\n",
      "tensor([2.6544, 1.8629], requires_grad=True)\n",
      "tensor([-47.0286, -28.8055])\n",
      "tensor([2.6954, 1.8877], requires_grad=True)\n",
      "tensor([-41.0341, -24.8071])\n",
      "tensor([2.7313, 1.9090], requires_grad=True)\n",
      "tensor([-35.8189, -21.3388])\n",
      "tensor([2.7625, 1.9273], requires_grad=True)\n",
      "tensor([-31.2814, -18.3309])\n",
      "tensor([2.7899, 1.9431], requires_grad=True)\n",
      "tensor([-27.3329, -15.7231])\n",
      "tensor([2.8138, 1.9565], requires_grad=True)\n",
      "tensor([-23.8966, -13.4628])\n",
      "tensor([2.8347, 1.9680], requires_grad=True)\n",
      "tensor([-20.9055, -11.5043])\n",
      "tensor([2.8530, 1.9778], requires_grad=True)\n",
      "tensor([-18.3016,  -9.8081])\n",
      "tensor([2.8690, 1.9862], requires_grad=True)\n",
      "tensor([-16.0344,  -8.3395])\n",
      "tensor([2.8831, 1.9932], requires_grad=True)\n",
      "tensor([-14.0600,  -7.0687])\n",
      "tensor([2.8954, 1.9992], requires_grad=True)\n",
      "tensor([-12.3400,  -5.9697])\n",
      "tensor([2.9063, 2.0042], requires_grad=True)\n",
      "tensor([-10.8414,  -5.0196])\n",
      "tensor([2.9158, 2.0084], requires_grad=True)\n",
      "tensor([-9.5354, -4.1990])\n",
      "tensor([2.9242, 2.0119], requires_grad=True)\n",
      "tensor([-8.3968, -3.4908])\n",
      "tensor([2.9316, 2.0148], requires_grad=True)\n",
      "tensor([-7.4038, -2.8800])\n",
      "tensor([2.9381, 2.0172], requires_grad=True)\n",
      "tensor([-6.5375, -2.3538])\n",
      "tensor([2.9439, 2.0191], requires_grad=True)\n",
      "tensor([-5.7815, -1.9009])\n",
      "tensor([2.9490, 2.0206], requires_grad=True)\n",
      "tensor([-5.1213, -1.5117])\n",
      "tensor([2.9536, 2.0217], requires_grad=True)\n",
      "tensor([-4.5446, -1.1777])\n",
      "tensor([2.9576, 2.0226], requires_grad=True)\n",
      "tensor([-4.0405, -0.8916])\n",
      "tensor([2.9612, 2.0233], requires_grad=True)\n",
      "tensor([-3.5995, -0.6468])\n",
      "tensor([2.9644, 2.0237], requires_grad=True)\n",
      "tensor([-3.2136, -0.4380])\n",
      "tensor([2.9673, 2.0240], requires_grad=True)\n",
      "tensor([-2.8756, -0.2603])\n",
      "tensor([2.9699, 2.0241], requires_grad=True)\n",
      "tensor([-2.5794, -0.1095])\n",
      "tensor([2.9722, 2.0241], requires_grad=True)\n",
      "tensor([-2.3194,  0.0181])\n",
      "tensor([2.9743, 2.0239], requires_grad=True)\n",
      "tensor([-2.0911,  0.1255])\n",
      "tensor([2.9762, 2.0237], requires_grad=True)\n",
      "tensor([-1.8903,  0.2155])\n",
      "tensor([2.9779, 2.0234], requires_grad=True)\n",
      "tensor([-1.7136,  0.2906])\n",
      "tensor([2.9795, 2.0231], requires_grad=True)\n",
      "tensor([-1.5579,  0.3526])\n",
      "tensor([2.9809, 2.0227], requires_grad=True)\n",
      "tensor([-1.4205,  0.4035])\n",
      "tensor([2.9822, 2.0222], requires_grad=True)\n",
      "tensor([-1.2991,  0.4448])\n",
      "tensor([2.9834, 2.0218], requires_grad=True)\n",
      "tensor([-1.1915,  0.4779])\n",
      "tensor([2.9845, 2.0213], requires_grad=True)\n",
      "tensor([-1.0961,  0.5038])\n",
      "tensor([2.9855, 2.0207], requires_grad=True)\n",
      "tensor([-1.0114,  0.5237])\n",
      "tensor([2.9864, 2.0202], requires_grad=True)\n",
      "tensor([-0.9360,  0.5383])\n",
      "tensor([2.9873, 2.0196], requires_grad=True)\n",
      "tensor([-0.8687,  0.5486])\n"
     ]
    }
   ],
   "execution_count": 171
  },
  {
   "cell_type": "markdown",
   "metadata": {},
   "source": [
    "### Mini zadanie na plusa, mozna wyslać po zajęciach.\n",
    "Tym razem na innym targu do ceny owoców doliczany jest stały koszt reklamówki. Napisz model regresji liniowej który oszacuje cenę kg ziemniaków, pomidorów i reklamówki"
   ]
  },
  {
   "cell_type": "code",
   "metadata": {
    "ExecuteTime": {
     "end_time": "2025-03-04T21:06:52.048218Z",
     "start_time": "2025-03-04T21:06:52.043665Z"
    }
   },
   "source": [
    "potatoes_kg_ordered = [1,3,7,3,10,6,8,4,3,1,2,0]\n",
    "tomatoes_kg_ordered = [5,2,3,1,2,3,6,7,3,2,3,1]\n",
    "prices = [22.37 , 14.45, 26.6, 10.44, 28.49, 24.52, 40.38, 36.51, 18.50, 10.46, 16.51, 4.58]"
   ],
   "outputs": [],
   "execution_count": 172
  },
  {
   "cell_type": "code",
   "metadata": {
    "ExecuteTime": {
     "end_time": "2025-03-04T21:06:52.110270Z",
     "start_time": "2025-03-04T21:06:52.103507Z"
    }
   },
   "source": [
    "X = torch.tensor([potatoes_kg_ordered,tomatoes_kg_ordered])\n",
    "Y = torch.tensor(prices)\n",
    "X = X.T.float()\n",
    "Y = Y.T\n",
    "print(X)\n",
    "print(Y)"
   ],
   "outputs": [
    {
     "name": "stdout",
     "output_type": "stream",
     "text": [
      "tensor([[ 1.,  5.],\n",
      "        [ 3.,  2.],\n",
      "        [ 7.,  3.],\n",
      "        [ 3.,  1.],\n",
      "        [10.,  2.],\n",
      "        [ 6.,  3.],\n",
      "        [ 8.,  6.],\n",
      "        [ 4.,  7.],\n",
      "        [ 3.,  3.],\n",
      "        [ 1.,  2.],\n",
      "        [ 2.,  3.],\n",
      "        [ 0.,  1.]])\n",
      "tensor([22.3700, 14.4500, 26.6000, 10.4400, 28.4900, 24.5200, 40.3800, 36.5100,\n",
      "        18.5000, 10.4600, 16.5100,  4.5800])\n"
     ]
    }
   ],
   "execution_count": 173
  },
  {
   "cell_type": "markdown",
   "metadata": {
    "jp-MarkdownHeadingCollapsed": true
   },
   "source": [
    "#### Końcowy wynik:"
   ]
  },
  {
   "cell_type": "code",
   "metadata": {
    "ExecuteTime": {
     "end_time": "2025-03-04T21:06:52.135408Z",
     "start_time": "2025-03-04T21:06:52.129742Z"
    }
   },
   "source": [
    "#GT Rozwiazanie - jak je znaleźć?\n",
    "np.array(potatoes_kg_ordered)*2 + np.array(tomatoes_kg_ordered)*4 + 0.5"
   ],
   "outputs": [
    {
     "data": {
      "text/plain": [
       "array([22.5, 14.5, 26.5, 10.5, 28.5, 24.5, 40.5, 36.5, 18.5, 10.5, 16.5,\n",
       "        4.5])"
      ]
     },
     "execution_count": 174,
     "metadata": {},
     "output_type": "execute_result"
    }
   ],
   "execution_count": 174
  },
  {
   "cell_type": "markdown",
   "metadata": {},
   "source": [
    "# LAB 2 - Tworzenie architektury i przygotowanie danych"
   ]
  },
  {
   "cell_type": "code",
   "metadata": {
    "ExecuteTime": {
     "end_time": "2025-03-04T21:06:52.180365Z",
     "start_time": "2025-03-04T21:06:52.175988Z"
    }
   },
   "source": [
    "import torch\n",
    "import numpy as np\n",
    "import time\n",
    "import math\n",
    "import matplotlib.pyplot as plt"
   ],
   "outputs": [],
   "execution_count": 175
  },
  {
   "cell_type": "markdown",
   "metadata": {},
   "source": [
    "## GPU"
   ]
  },
  {
   "cell_type": "markdown",
   "metadata": {},
   "source": [
    "Jednym z kluczowych udogodnień pytorcha jest możliwość szybkiego i prostego przenoszenia obliczeń między CPU a GPU"
   ]
  },
  {
   "cell_type": "code",
   "metadata": {
    "ExecuteTime": {
     "end_time": "2025-03-04T21:06:52.214033Z",
     "start_time": "2025-03-04T21:06:52.207774Z"
    }
   },
   "source": [
    "torch.cuda.is_available()"
   ],
   "outputs": [
    {
     "data": {
      "text/plain": [
       "True"
      ]
     },
     "execution_count": 176,
     "metadata": {},
     "output_type": "execute_result"
    }
   ],
   "execution_count": 176
  },
  {
   "cell_type": "code",
   "metadata": {
    "ExecuteTime": {
     "end_time": "2025-03-04T21:06:52.253830Z",
     "start_time": "2025-03-04T21:06:52.249150Z"
    }
   },
   "source": [
    "device = torch.device(\"cuda\") \n",
    "device"
   ],
   "outputs": [
    {
     "data": {
      "text/plain": [
       "device(type='cuda')"
      ]
     },
     "execution_count": 177,
     "metadata": {},
     "output_type": "execute_result"
    }
   ],
   "execution_count": 177
  },
  {
   "cell_type": "code",
   "metadata": {
    "ExecuteTime": {
     "end_time": "2025-03-04T21:06:52.290810Z",
     "start_time": "2025-03-04T21:06:52.285702Z"
    }
   },
   "source": [
    "x = torch.zeros(2, 3)\n",
    "print(\"X\", x)\n",
    "x = x.to(device)\n",
    "print(\"X\", x)"
   ],
   "outputs": [
    {
     "name": "stdout",
     "output_type": "stream",
     "text": [
      "X tensor([[0., 0., 0.],\n",
      "        [0., 0., 0.]])\n",
      "X tensor([[0., 0., 0.],\n",
      "        [0., 0., 0.]], device='cuda:0')\n"
     ]
    }
   ],
   "execution_count": 178
  },
  {
   "cell_type": "markdown",
   "metadata": {},
   "source": [
    "#### Co nam to daje?"
   ]
  },
  {
   "cell_type": "code",
   "metadata": {
    "ExecuteTime": {
     "end_time": "2025-03-04T21:06:53.240266Z",
     "start_time": "2025-03-04T21:06:52.324104Z"
    }
   },
   "source": [
    "x = torch.randn(5000, 5000)\n",
    "\n",
    "## CPU version\n",
    "start_time = time.time()\n",
    "_ = torch.matmul(x, x)\n",
    "end_time = time.time()\n",
    "print(f\"CPU time: {(end_time - start_time):6.5f}s\")\n",
    "\n",
    "## GPU version\n",
    "x = x.to(device)\n",
    "# The first operation on a CUDA device can be slow as it has to establish a CPU-GPU communication first. \n",
    "# Hence, we run an arbitrary command first without timing it for a fair comparison.\n",
    "_ = torch.matmul(x*0.0, x)\n",
    "start_time = time.time()\n",
    "_ = torch.matmul(x, x)\n",
    "end_time = time.time()\n",
    "print(f\"GPU time: {(end_time - start_time):6.5f}s\")"
   ],
   "outputs": [
    {
     "name": "stdout",
     "output_type": "stream",
     "text": [
      "CPU time: 0.71096s\n",
      "GPU time: 0.00000s\n"
     ]
    }
   ],
   "execution_count": 179
  },
  {
   "cell_type": "markdown",
   "metadata": {},
   "source": [
    "#### Ciąg komend do zapisania\n",
    "Losowość jest bardzo ważnym elementem trenowania sieci neuronowych (o czym się wkrótce przekonamy). Eksperymentując, chcielibyśmy jednak żeby przy każdym uruchomieniu programu, wynik był taki sam. Tylko w takim przypadku jesteśmy w stanie coś wnioskować. Do zapewnienia możliwości reprodukcji wyników na GPU za pomocą pytorcha służa poniższe komendy:"
   ]
  },
  {
   "cell_type": "code",
   "metadata": {
    "ExecuteTime": {
     "end_time": "2025-03-04T21:06:53.597395Z",
     "start_time": "2025-03-04T21:06:53.593900Z"
    }
   },
   "source": [
    "# GPU operations have a separate seed we also want to set\n",
    "if torch.cuda.is_available(): \n",
    "    torch.cuda.manual_seed(42)\n",
    "    torch.cuda.manual_seed_all(42)\n",
    "    \n",
    "# Additionally, some operations on a GPU are implemented stochastic for efficiency\n",
    "# We want to ensure that all operations are deterministic on GPU (if used) for reproducibility\n",
    "torch.backends.cudnn.determinstic = True\n",
    "torch.backends.cudnn.benchmark = False"
   ],
   "outputs": [],
   "execution_count": 180
  },
  {
   "cell_type": "markdown",
   "metadata": {},
   "source": [
    "## Tworzenie modeli\n",
    "Tworzymy tensory z parametrami, wagi i biasy, obliczamy gradienty, aktualizujemy parametry itd.\n",
    "lub\n",
    "wykorzystujemy torch.nn"
   ]
  },
  {
   "cell_type": "markdown",
   "metadata": {},
   "source": [
    "W torch.nn możemy znaleźć wiele przydatnych predefiniowanych klas jak wagi sieci, funkcje aktywacji, funkcje straty, optymalizacja itp. Jeszcze raz, dokumentacja jest fajna: https://pytorch.org/docs/stable/nn.html"
   ]
  },
  {
   "cell_type": "code",
   "metadata": {
    "ExecuteTime": {
     "end_time": "2025-03-04T21:06:53.625925Z",
     "start_time": "2025-03-04T21:06:53.623005Z"
    }
   },
   "source": [
    "import torch.nn as nn"
   ],
   "outputs": [],
   "execution_count": 181
  },
  {
   "cell_type": "markdown",
   "metadata": {},
   "source": [
    "Dodatkowo, funkcje wykorzystywane w budowaniu sieci znajdują się w module torch.nn.functionl"
   ]
  },
  {
   "cell_type": "code",
   "metadata": {
    "ExecuteTime": {
     "end_time": "2025-03-04T21:06:53.688962Z",
     "start_time": "2025-03-04T21:06:53.684894Z"
    }
   },
   "source": [
    "import torch.nn.functional as F"
   ],
   "outputs": [],
   "execution_count": 182
  },
  {
   "cell_type": "markdown",
   "metadata": {},
   "source": [
    "### nn.Module\n",
    "W PyTorchu, sieci neuronowe są zbudowane z modułów - obiektów klas dziedziczących po klasie nn.Module. Moduły mogą składać się z innych modułów, a sieć neuronowa w całości też zazwyczaj jest modułem.\n",
    "\n",
    "Podstawowy template dla modułu wygląda następująco"
   ]
  },
  {
   "cell_type": "code",
   "metadata": {
    "ExecuteTime": {
     "end_time": "2025-03-04T21:06:53.727383Z",
     "start_time": "2025-03-04T21:06:53.723883Z"
    }
   },
   "source": [
    "class MyModule(nn.Module):\n",
    "    \n",
    "    def __init__(self):\n",
    "        super().__init__()\n",
    "        # Some init for my module\n",
    "        \n",
    "    def forward(self, x):\n",
    "        # Function for performing the calculation of the module.\n",
    "        pass"
   ],
   "outputs": [],
   "execution_count": 183
  },
  {
   "cell_type": "markdown",
   "metadata": {},
   "source": [
    "W konstruktorze modułu zazwyczaj inicjowane są wszystkie parametry, lub wewnętrzne moduły (np. warstwy sieci)\n",
    "\n",
    "W funkcji forward zapisane są wszystkie obliczenia które są wykonywane kiedy wywołujemy dany moduł. Przykładowo: (nn = MyModule(); nn(x)). \n",
    "\n",
    "Kalkulacja wstecz (backwards) jest tworzona automatycznie, ale w razie potrzeby można ją też nadpisywać "
   ]
  },
  {
   "cell_type": "markdown",
   "metadata": {},
   "source": [
    "# Stwórzmy pierwsza sieć neuronową "
   ]
  },
  {
   "cell_type": "code",
   "metadata": {
    "ExecuteTime": {
     "end_time": "2025-03-04T21:06:53.762910Z",
     "start_time": "2025-03-04T21:06:53.758744Z"
    }
   },
   "source": [
    "class SimpleClassifier(nn.Module):\n",
    "\n",
    "    def __init__(self, num_inputs, num_hidden, num_outputs):\n",
    "        super().__init__()\n",
    "        # Initialize the modules we need to build the network\n",
    "        self.linear1 = nn.Linear(num_inputs, num_hidden)\n",
    "        self.act_fn = nn.Tanh()\n",
    "        self.linear2 = nn.Linear(num_hidden, num_outputs)\n",
    "#         self.linear3 = nn.Linear(num_hidden, num_outputs)\n",
    "\n",
    "    def forward(self, x):\n",
    "        # Perform the calculation of the model to determine the prediction\n",
    "        x = self.linear1(x)\n",
    "        x = self.act_fn(x)\n",
    "        x = self.linear2(x)\n",
    "#         x = self.act_fn(x)\n",
    "#         x = self.linear3(x)\n",
    "        return x"
   ],
   "outputs": [],
   "execution_count": 184
  },
  {
   "cell_type": "markdown",
   "metadata": {},
   "source": [
    "Wypisywanie zawartości modelu"
   ]
  },
  {
   "cell_type": "code",
   "metadata": {
    "ExecuteTime": {
     "end_time": "2025-03-04T21:06:53.778007Z",
     "start_time": "2025-03-04T21:06:53.773577Z"
    }
   },
   "source": [
    "model = SimpleClassifier(num_inputs=2, num_hidden=4, num_outputs=1)\n",
    "model.cuda()\n",
    "# Printing a module shows all its submodules\n",
    "print(model)"
   ],
   "outputs": [
    {
     "name": "stdout",
     "output_type": "stream",
     "text": [
      "SimpleClassifier(\n",
      "  (linear1): Linear(in_features=2, out_features=4, bias=True)\n",
      "  (act_fn): Tanh()\n",
      "  (linear2): Linear(in_features=4, out_features=1, bias=True)\n",
      ")\n"
     ]
    }
   ],
   "execution_count": 185
  },
  {
   "cell_type": "code",
   "metadata": {
    "ExecuteTime": {
     "end_time": "2025-03-04T21:06:53.819787Z",
     "start_time": "2025-03-04T21:06:53.814825Z"
    }
   },
   "source": [
    "x = torch.Tensor(2).cuda()"
   ],
   "outputs": [],
   "execution_count": 186
  },
  {
   "cell_type": "code",
   "metadata": {
    "ExecuteTime": {
     "end_time": "2025-03-04T21:06:53.887519Z",
     "start_time": "2025-03-04T21:06:53.880389Z"
    }
   },
   "source": [
    "model.forward(x)\n",
    "model(x)"
   ],
   "outputs": [
    {
     "data": {
      "text/plain": [
       "tensor([1.0757], device='cuda:0', grad_fn=<ViewBackward0>)"
      ]
     },
     "execution_count": 187,
     "metadata": {},
     "output_type": "execute_result"
    }
   ],
   "execution_count": 187
  },
  {
   "cell_type": "markdown",
   "metadata": {},
   "source": [
    "Co tak właściwie mamy w środku?"
   ]
  },
  {
   "cell_type": "code",
   "metadata": {
    "ExecuteTime": {
     "end_time": "2025-03-04T21:06:53.922977Z",
     "start_time": "2025-03-04T21:06:53.919216Z"
    }
   },
   "source": [
    "for name, param in model.named_parameters():\n",
    "    print(f\"Parameter {name}, shape {param.shape}\")"
   ],
   "outputs": [
    {
     "name": "stdout",
     "output_type": "stream",
     "text": [
      "Parameter linear1.weight, shape torch.Size([4, 2])\n",
      "Parameter linear1.bias, shape torch.Size([4])\n",
      "Parameter linear2.weight, shape torch.Size([1, 4])\n",
      "Parameter linear2.bias, shape torch.Size([1])\n"
     ]
    }
   ],
   "execution_count": 188
  },
  {
   "cell_type": "markdown",
   "metadata": {},
   "source": [
    "## Activation functions"
   ]
  },
  {
   "cell_type": "code",
   "metadata": {
    "ExecuteTime": {
     "end_time": "2025-03-04T21:06:53.968584Z",
     "start_time": "2025-03-04T21:06:53.965013Z"
    }
   },
   "source": [
    "act_fn_by_name = {\n",
    "    \"sigmoid\": torch.sigmoid,\n",
    "    \"tanh\": torch.tanh,\n",
    "    \"relu\": F.relu,\n",
    "    \"leakyrelu\": F.leaky_relu\n",
    "}"
   ],
   "outputs": [],
   "execution_count": 189
  },
  {
   "cell_type": "code",
   "metadata": {
    "ExecuteTime": {
     "end_time": "2025-03-04T21:06:54.000326Z",
     "start_time": "2025-03-04T21:06:53.996717Z"
    }
   },
   "source": [
    "def get_grads(act_fn, x):\n",
    "    x = x.clone().requires_grad_() # Mark the input as tensor for which we want to store gradients\n",
    "    out = act_fn(x)\n",
    "    out.sum().backward() # Summing results in an equal gradient flow to each element in x\n",
    "    return x.grad # Accessing the gradients of x by \"x.grad\""
   ],
   "outputs": [],
   "execution_count": 190
  },
  {
   "cell_type": "code",
   "metadata": {
    "ExecuteTime": {
     "end_time": "2025-03-04T21:06:54.346620Z",
     "start_time": "2025-03-04T21:06:54.028128Z"
    }
   },
   "source": [
    "%matplotlib inline\n",
    "def vis_act_fn(act_fn, name, ax, x):\n",
    "    # Run activation function\n",
    "    y = act_fn(x)\n",
    "    y_grads = get_grads(act_fn, x)\n",
    "    # Push x, y and gradients back to cpu for plotting\n",
    "    x, y, y_grads = x.cpu().numpy(), y.cpu().numpy(), y_grads.cpu().numpy()\n",
    "    ## Plotting\n",
    "    ax.plot(x, y, linewidth=2, label=\"ActFn\")\n",
    "    ax.plot(x, y_grads, linewidth=2, label=\"Gradient\")\n",
    "    ax.set_title(name)\n",
    "    ax.legend()\n",
    "    ax.set_ylim(-1.5, x.max())\n",
    "\n",
    "x = torch.linspace(-5, 5, 1000) # Range on which we want to visualize the activation functions\n",
    "## Plotting\n",
    "rows = math.ceil(len(act_fn_by_name)/2.0)\n",
    "fig, ax = plt.subplots(rows, 2, figsize=(8, rows*4))\n",
    "for i, name in enumerate(act_fn_by_name.keys()):\n",
    "    vis_act_fn(act_fn_by_name[name], name, ax[divmod(i,2)], x)\n",
    "fig.subplots_adjust(hspace=0.3)\n",
    "plt.show()\n",
    "plt.close()"
   ],
   "outputs": [
    {
     "data": {
      "text/plain": [
       "<Figure size 800x800 with 4 Axes>"
      ],
      "image/png": "[encoded data removed]"
     },
     "metadata": {},
     "output_type": "display_data"
    }
   ],
   "execution_count": 191
  },
  {
   "cell_type": "markdown",
   "metadata": {},
   "source": [
    "# Dane\n",
    "PyTorch posiada zaimplementowanych kilka funkcjonalności które pozwalają wczytywać i manipulować danymi. Znajdują się one w pakiecie torch.utils.data"
   ]
  },
  {
   "cell_type": "code",
   "metadata": {
    "ExecuteTime": {
     "end_time": "2025-03-04T21:06:54.410395Z",
     "start_time": "2025-03-04T21:06:54.406609Z"
    }
   },
   "source": [
    "import torch.utils.data as data"
   ],
   "outputs": [],
   "execution_count": 192
  },
  {
   "cell_type": "markdown",
   "metadata": {},
   "source": [
    "Główną strukturą w ramach której przechowywane (lub niekoniecznie) są dane jest klasa Dataset. Stwórzmy sobie przykładowy zbiór danych - tzw. ciągły XOR. Przykład zaczerpnięty z https://uvadlc-notebooks.readthedocs.io/en/latest/tutorial_notebooks/tutorial2/Introduction_to_PyTorch.html#Learning-by-example:-Continuous-XOR"
   ]
  },
  {
   "cell_type": "code",
   "metadata": {
    "ExecuteTime": {
     "end_time": "2025-03-04T21:06:54.425175Z",
     "start_time": "2025-03-04T21:06:54.416513Z"
    }
   },
   "source": [
    "class XORDataset(data.Dataset):\n",
    "\n",
    "    def __init__(self, size, std=0.1):\n",
    "        \"\"\"\n",
    "        Inputs:\n",
    "            size - Number of data points we want to generate\n",
    "            std - Standard deviation of the noise (see generate_continuous_xor function)\n",
    "        \"\"\"\n",
    "        super().__init__()\n",
    "        self.size = size\n",
    "        self.std = std\n",
    "        self.generate_continuous_xor()\n",
    "\n",
    "    def generate_continuous_xor(self):\n",
    "        # Each data point in the XOR dataset has two variables, x and y, that can be either 0 or 1\n",
    "        # The label is their XOR combination, i.e. 1 if only x or only y is 1 while the other is 0.\n",
    "        # If x=y, the label is 0.\n",
    "        data = torch.randint(low=0, high=2, size=(self.size, 2), dtype=torch.float32)\n",
    "        label = (data.sum(dim=1) == 1).to(torch.long)\n",
    "        # To make it slightly more challenging, we add a bit of gaussian noise to the data points.\n",
    "        data += self.std * torch.randn(data.shape)\n",
    "\n",
    "        self.data = data\n",
    "        self.label = label\n",
    "\n",
    "    def __len__(self):\n",
    "        # Number of data point we have. Alternatively self.data.shape[0], or self.label.shape[0]\n",
    "        return self.size\n",
    "\n",
    "    def __getitem__(self, idx):\n",
    "        # Return the idx-th data point of the dataset\n",
    "        # If we have multiple things to return (data point and label), we can return them as tuple\n",
    "        data_point = self.data[idx]\n",
    "        data_label = self.label[idx]\n",
    "        return data_point, data_label"
   ],
   "outputs": [],
   "execution_count": 193
  },
  {
   "cell_type": "code",
   "metadata": {
    "scrolled": true,
    "ExecuteTime": {
     "end_time": "2025-03-04T21:06:54.467307Z",
     "start_time": "2025-03-04T21:06:54.460060Z"
    }
   },
   "source": [
    "dataset = XORDataset(size=200)\n",
    "print(\"Size of dataset:\", len(dataset))\n",
    "print(\"Data point 0:\", dataset[0])"
   ],
   "outputs": [
    {
     "name": "stdout",
     "output_type": "stream",
     "text": [
      "Size of dataset: 200\n",
      "Data point 0: (tensor([ 1.1547, -0.1556]), tensor(1))\n"
     ]
    }
   ],
   "execution_count": 194
  },
  {
   "cell_type": "code",
   "metadata": {
    "ExecuteTime": {
     "end_time": "2025-03-04T21:06:54.632276Z",
     "start_time": "2025-03-04T21:06:54.504931Z"
    }
   },
   "source": [
    "examples = dataset.data\n",
    "labels = dataset.label\n",
    "data_0 = examples[labels == 0]\n",
    "data_1 = examples[labels == 1]\n",
    "\n",
    "plt.figure(figsize=(4,4))\n",
    "plt.scatter(data_0[:,0], data_0[:,1], edgecolor=\"#333\", label=\"Class 0\")\n",
    "plt.scatter(data_1[:,0], data_1[:,1], edgecolor=\"#333\", label=\"Class 1\")\n",
    "plt.title(\"Dataset samples\")\n",
    "plt.legend()\n",
    "plt.show()"
   ],
   "outputs": [
    {
     "data": {
      "text/plain": [
       "<Figure size 400x400 with 1 Axes>"
      ],
      "image/png": "[encoded data removed]"
     },
     "metadata": {},
     "output_type": "display_data"
    }
   ],
   "execution_count": 195
  },
  {
   "cell_type": "markdown",
   "metadata": {},
   "source": [
    "## Data loaders (Ładowacze danych?!)"
   ]
  },
  {
   "cell_type": "code",
   "metadata": {
    "ExecuteTime": {
     "end_time": "2025-03-04T21:06:54.702172Z",
     "start_time": "2025-03-04T21:06:54.696768Z"
    }
   },
   "source": [
    "data_loader = data.DataLoader(dataset, batch_size=8, shuffle=True)"
   ],
   "outputs": [],
   "execution_count": 196
  },
  {
   "cell_type": "code",
   "metadata": {
    "ExecuteTime": {
     "end_time": "2025-03-04T21:06:54.731382Z",
     "start_time": "2025-03-04T21:06:54.723485Z"
    }
   },
   "source": [
    "next(iter(data_loader))"
   ],
   "outputs": [
    {
     "data": {
      "text/plain": [
       "[tensor([[ 0.9489, -0.0052],\n",
       "         [ 0.9322,  0.0396],\n",
       "         [ 0.9391,  0.9748],\n",
       "         [-0.1317, -0.1100],\n",
       "         [ 0.0761, -0.0794],\n",
       "         [ 0.0127,  1.0987],\n",
       "         [ 0.8600,  1.0183],\n",
       "         [ 0.9244, -0.0737]]),\n",
       " tensor([1, 1, 0, 0, 0, 1, 0, 1])]"
      ]
     },
     "execution_count": 197,
     "metadata": {},
     "output_type": "execute_result"
    }
   ],
   "execution_count": 197
  },
  {
   "cell_type": "code",
   "metadata": {
    "ExecuteTime": {
     "end_time": "2025-03-04T21:06:54.782769Z",
     "start_time": "2025-03-04T21:06:54.778343Z"
    }
   },
   "source": [
    "len(data_loader)"
   ],
   "outputs": [
    {
     "data": {
      "text/plain": [
       "25"
      ]
     },
     "execution_count": 198,
     "metadata": {},
     "output_type": "execute_result"
    }
   ],
   "execution_count": 198
  },
  {
   "cell_type": "code",
   "metadata": {
    "ExecuteTime": {
     "end_time": "2025-03-04T21:06:54.846246Z",
     "start_time": "2025-03-04T21:06:54.841209Z"
    }
   },
   "source": [
    "next(iter(data_loader))[0].shape[0]*len(data_loader)"
   ],
   "outputs": [
    {
     "data": {
      "text/plain": [
       "200"
      ]
     },
     "execution_count": 199,
     "metadata": {},
     "output_type": "execute_result"
    }
   ],
   "execution_count": 199
  },
  {
   "cell_type": "code",
   "metadata": {
    "ExecuteTime": {
     "end_time": "2025-03-04T21:06:54.896190Z",
     "start_time": "2025-03-04T21:06:54.890110Z"
    }
   },
   "source": [
    "data_loader_2 = data.DataLoader(dataset, batch_size=7, shuffle=True)\n",
    "next(iter(data_loader_2))[0].shape[0]*len(data_loader_2)"
   ],
   "outputs": [
    {
     "data": {
      "text/plain": [
       "203"
      ]
     },
     "execution_count": 200,
     "metadata": {},
     "output_type": "execute_result"
    }
   ],
   "execution_count": 200
  },
  {
   "cell_type": "code",
   "metadata": {
    "ExecuteTime": {
     "end_time": "2025-03-04T21:06:54.941433Z",
     "start_time": "2025-03-04T21:06:54.932725Z"
    }
   },
   "source": [
    "list(iter(data_loader_2))[-1]"
   ],
   "outputs": [
    {
     "data": {
      "text/plain": [
       "[tensor([[ 1.1368, -0.0592],\n",
       "         [ 0.0330, -0.0826],\n",
       "         [ 0.0894,  1.0322],\n",
       "         [ 0.9929,  0.9712]]),\n",
       " tensor([1, 0, 1, 0])]"
      ]
     },
     "execution_count": 201,
     "metadata": {},
     "output_type": "execute_result"
    }
   ],
   "execution_count": 201
  },
  {
   "cell_type": "markdown",
   "metadata": {},
   "source": [
    "#### Drop last\n",
    "Parametr powodujący pominięcie ostatniego wsadu (batch)"
   ]
  },
  {
   "cell_type": "code",
   "metadata": {
    "scrolled": true,
    "ExecuteTime": {
     "end_time": "2025-03-04T21:06:54.991294Z",
     "start_time": "2025-03-04T21:06:54.985511Z"
    }
   },
   "source": [
    "data_loader_2 = data.DataLoader(dataset,batch_size=7, shuffle=True, drop_last=True)\n",
    "next(iter(data_loader_2))[0].shape[0]*len(data_loader_2)"
   ],
   "outputs": [
    {
     "data": {
      "text/plain": [
       "196"
      ]
     },
     "execution_count": 202,
     "metadata": {},
     "output_type": "execute_result"
    }
   ],
   "execution_count": 202
  },
  {
   "cell_type": "markdown",
   "metadata": {},
   "source": [
    "## Funkcje straty\n",
    "Na poprzednich zajęciach obliczaliśmy funkcję straty ręcznie wykonując operacje na tensorach. Jest to w pełni poprawne rozwiązanie, ale możemy też nie wymyślać koła na nowo, ale wykorzystać wbudowane moduły. Pełna lista dostępna tutaj: https://pytorch.org/docs/stable/nn.html#loss-functions"
   ]
  },
  {
   "cell_type": "code",
   "metadata": {
    "ExecuteTime": {
     "end_time": "2025-03-04T21:06:55.031054Z",
     "start_time": "2025-03-04T21:06:55.026281Z"
    }
   },
   "source": [
    "from mpl_toolkits.mplot3d import Axes3D\n",
    "import matplotlib.pyplot as plt\n",
    "%matplotlib inline"
   ],
   "outputs": [],
   "execution_count": 203
  },
  {
   "cell_type": "code",
   "metadata": {
    "ExecuteTime": {
     "end_time": "2025-03-04T21:06:55.109457Z",
     "start_time": "2025-03-04T21:06:55.103561Z"
    }
   },
   "source": [
    "tensor_1 = torch.arange(5)\n",
    "tensor_2 = torch.ones(5)\n",
    "print(tensor_1, tensor_2)"
   ],
   "outputs": [
    {
     "name": "stdout",
     "output_type": "stream",
     "text": [
      "tensor([0, 1, 2, 3, 4]) tensor([1., 1., 1., 1., 1.])\n"
     ]
    }
   ],
   "execution_count": 204
  },
  {
   "cell_type": "markdown",
   "metadata": {},
   "source": [
    "### Błąd średniokwadratowy (Mean Squared Error) lub L2Loss"
   ]
  },
  {
   "cell_type": "code",
   "metadata": {
    "ExecuteTime": {
     "end_time": "2025-03-04T21:06:55.140921Z",
     "start_time": "2025-03-04T21:06:55.135902Z"
    }
   },
   "source": [
    "loss = nn.MSELoss()\n",
    "loss(tensor_1,tensor_2)"
   ],
   "outputs": [
    {
     "data": {
      "text/plain": [
       "tensor(3.)"
      ]
     },
     "execution_count": 205,
     "metadata": {},
     "output_type": "execute_result"
    }
   ],
   "execution_count": 205
  },
  {
   "cell_type": "markdown",
   "metadata": {},
   "source": [
    "$ \\quad l_{n}=\\left(x_{n}-y_{n}\\right)^{2}$"
   ]
  },
  {
   "cell_type": "code",
   "metadata": {
    "ExecuteTime": {
     "end_time": "2025-03-04T21:06:55.186701Z",
     "start_time": "2025-03-04T21:06:55.180728Z"
    }
   },
   "source": [
    "loss = nn.MSELoss(reduction=\"none\")\n",
    "print(f\"No reduction: {loss(tensor_1,tensor_2)}\")\n",
    "loss = nn.MSELoss(reduction=\"mean\")\n",
    "print(f\"Mean: {loss(tensor_1,tensor_2)}\")\n",
    "loss = nn.MSELoss(reduction=\"sum\")\n",
    "print(f\"Sum: {loss(tensor_1,tensor_2)}\")"
   ],
   "outputs": [
    {
     "name": "stdout",
     "output_type": "stream",
     "text": [
      "No reduction: tensor([1., 0., 1., 4., 9.])\n",
      "Mean: 3.0\n",
      "Sum: 15.0\n"
     ]
    }
   ],
   "execution_count": 206
  },
  {
   "cell_type": "code",
   "metadata": {
    "scrolled": true,
    "ExecuteTime": {
     "end_time": "2025-03-04T21:06:55.261135Z",
     "start_time": "2025-03-04T21:06:55.254813Z"
    }
   },
   "source": [
    "F.mse_loss(tensor_1, tensor_2)"
   ],
   "outputs": [
    {
     "data": {
      "text/plain": [
       "tensor(3.)"
      ]
     },
     "execution_count": 207,
     "metadata": {},
     "output_type": "execute_result"
    }
   ],
   "execution_count": 207
  },
  {
   "cell_type": "code",
   "metadata": {
    "ExecuteTime": {
     "end_time": "2025-03-04T21:06:57.966984Z",
     "start_time": "2025-03-04T21:06:55.280024Z"
    }
   },
   "source": [
    "loss = nn.MSELoss(reduction=\"none\")\n",
    "x, y = torch.meshgrid(torch.linspace(0,10,100),torch.linspace(0,10,100), indexing='ij')\n",
    "z = loss(x,y)\n",
    "\n",
    "fig = plt.figure()\n",
    "ax = fig.add_subplot(projection = '3d')\n",
    "\n",
    "ax.plot_trisurf(x.numpy().flatten(), y.numpy().flatten(), z.numpy().flatten(), linewidth=0.2, antialiased=True)\n",
    "\n",
    "plt.show()"
   ],
   "outputs": [
    {
     "data": {
      "text/plain": [
       "<Figure size 640x480 with 1 Axes>"
      ],
      "image/png": "[encoded data removed]"
     },
     "metadata": {},
     "output_type": "display_data"
    }
   ],
   "execution_count": 208
  },
  {
   "cell_type": "markdown",
   "metadata": {},
   "source": [
    "### Błąd bezwzględny (Mean absolute Error) lub L1Loss"
   ]
  },
  {
   "cell_type": "markdown",
   "metadata": {
    "ExecuteTime": {
     "end_time": "2021-10-08T20:04:21.482653Z",
     "start_time": "2021-10-08T20:04:21.475776Z"
    }
   },
   "source": [
    "$ \\quad l_{n}=\\left|x_{n}-y_{n}\\right|$"
   ]
  },
  {
   "cell_type": "code",
   "metadata": {
    "ExecuteTime": {
     "end_time": "2025-03-04T21:06:58.004199Z",
     "start_time": "2025-03-04T21:06:57.997238Z"
    }
   },
   "source": [
    "print(tensor_1, tensor_2)\n",
    "loss = nn.L1Loss()\n",
    "loss(tensor_1,tensor_2)"
   ],
   "outputs": [
    {
     "name": "stdout",
     "output_type": "stream",
     "text": [
      "tensor([0, 1, 2, 3, 4]) tensor([1., 1., 1., 1., 1.])\n"
     ]
    },
    {
     "data": {
      "text/plain": [
       "tensor(1.4000)"
      ]
     },
     "execution_count": 209,
     "metadata": {},
     "output_type": "execute_result"
    }
   ],
   "execution_count": 209
  },
  {
   "cell_type": "code",
   "metadata": {
    "ExecuteTime": {
     "end_time": "2025-03-04T21:06:58.057160Z",
     "start_time": "2025-03-04T21:06:58.050280Z"
    }
   },
   "source": [
    "loss = nn.L1Loss(reduction=\"none\")\n",
    "print(f\"No reduction: {loss(tensor_1,tensor_2)}\")\n",
    "loss = nn.L1Loss(reduction=\"mean\")\n",
    "print(f\"Mean: {loss(tensor_1,tensor_2)}\")\n",
    "loss = nn.L1Loss(reduction=\"sum\")\n",
    "print(f\"Sum: {loss(tensor_1,tensor_2)}\")"
   ],
   "outputs": [
    {
     "name": "stdout",
     "output_type": "stream",
     "text": [
      "No reduction: tensor([1., 0., 1., 2., 3.])\n",
      "Mean: 1.399999976158142\n",
      "Sum: 7.0\n"
     ]
    }
   ],
   "execution_count": 210
  },
  {
   "cell_type": "code",
   "metadata": {
    "ExecuteTime": {
     "end_time": "2025-03-04T21:07:00.665164Z",
     "start_time": "2025-03-04T21:06:58.106509Z"
    }
   },
   "source": [
    "loss = nn.L1Loss(reduction=\"none\")\n",
    "x, y = torch.meshgrid(torch.linspace(0,10,100),torch.linspace(0,10,100), indexing='ij')\n",
    "z = loss(x,y)\n",
    "\n",
    "fig = plt.figure()\n",
    "ax = fig.add_subplot(projection = '3d')\n",
    "\n",
    "ax.plot_trisurf(x.numpy().flatten(), y.numpy().flatten(), z.numpy().flatten(), linewidth=0.2, antialiased=True)\n",
    "    \n",
    "plt.show()"
   ],
   "outputs": [
    {
     "data": {
      "text/plain": [
       "<Figure size 640x480 with 1 Axes>"
      ],
      "image/png": "[encoded data removed]"
     },
     "metadata": {},
     "output_type": "display_data"
    }
   ],
   "execution_count": 211
  },
  {
   "cell_type": "markdown",
   "metadata": {},
   "source": [
    "### Entropia krzyżowa:\n",
    "$l_{n}=\\left[y_{n} \\cdot \\log x_{n}+\\left(1-y_{n}\\right) \\cdot \\log \\left(1-x_{n}\\right)\\right]$"
   ]
  },
  {
   "cell_type": "code",
   "metadata": {
    "ExecuteTime": {
     "end_time": "2025-03-04T21:07:00.701218Z",
     "start_time": "2025-03-04T21:07:00.693402Z"
    }
   },
   "source": [
    "tensor_1 = torch.rand(5)\n",
    "tensor_2 = torch.ones(5)\n",
    "print(tensor_1, tensor_2)\n",
    "loss = nn.BCELoss(reduction=\"none\")\n",
    "loss(tensor_1,tensor_2)"
   ],
   "outputs": [
    {
     "name": "stdout",
     "output_type": "stream",
     "text": [
      "tensor([0.5487, 0.5457, 0.1246, 0.7929, 0.9450]) tensor([1., 1., 1., 1., 1.])\n"
     ]
    },
    {
     "data": {
      "text/plain": [
       "tensor([0.6002, 0.6057, 2.0825, 0.2321, 0.0566])"
      ]
     },
     "execution_count": 212,
     "metadata": {},
     "output_type": "execute_result"
    }
   ],
   "execution_count": 212
  },
  {
   "cell_type": "code",
   "metadata": {
    "ExecuteTime": {
     "end_time": "2025-03-04T21:07:00.809065Z",
     "start_time": "2025-03-04T21:07:00.805007Z"
    }
   },
   "source": "# loss(tensor_1*10,tensor_2)",
   "outputs": [],
   "execution_count": 213
  },
  {
   "cell_type": "code",
   "metadata": {
    "ExecuteTime": {
     "end_time": "2025-03-04T21:07:00.911911Z",
     "start_time": "2025-03-04T21:07:00.905674Z"
    }
   },
   "source": [
    "loss = nn.BCEWithLogitsLoss(reduction=\"none\")\n",
    "loss(tensor_1*100,tensor_2)"
   ],
   "outputs": [
    {
     "data": {
      "text/plain": [
       "tensor([1.4834e-24, 1.9963e-24, 3.8702e-06, 3.6768e-35, 9.1000e-42])"
      ]
     },
     "execution_count": 214,
     "metadata": {},
     "output_type": "execute_result"
    }
   ],
   "execution_count": 214
  },
  {
   "cell_type": "code",
   "metadata": {
    "ExecuteTime": {
     "end_time": "2025-03-04T21:07:03.636664Z",
     "start_time": "2025-03-04T21:07:00.941837Z"
    }
   },
   "source": [
    "loss = nn.BCEWithLogitsLoss(reduction=\"none\")\n",
    "x, y = torch.meshgrid(torch.linspace(-10,10,100),torch.linspace(-10,10,100))\n",
    "z = loss(x,y)\n",
    "\n",
    "fig = plt.figure()\n",
    "ax = fig.add_subplot(projection = '3d')\n",
    "#ax = fig.gca(projection='3d') - for older matplotlib\n",
    "\n",
    "ax.plot_trisurf(x.numpy().flatten(), y.numpy().flatten(), z.numpy().flatten(), linewidth=0.2, antialiased=True)\n",
    "\n",
    "plt.show()"
   ],
   "outputs": [
    {
     "name": "stderr",
     "output_type": "stream",
     "text": [
      "C:\\Users\\Damian\\studia\\SSNE\\zadania\\venv\\Lib\\site-packages\\torch\\functional.py:539: UserWarning: torch.meshgrid: in an upcoming release, it will be required to pass the indexing argument. (Triggered internally at C:\\actions-runner\\_work\\pytorch\\pytorch\\pytorch\\aten\\src\\ATen\\native\\TensorShape.cpp:3638.)\n",
      "  return _VF.meshgrid(tensors, **kwargs)  # type: ignore[attr-defined]\n"
     ]
    },
    {
     "data": {
      "text/plain": [
       "<Figure size 640x480 with 1 Axes>"
      ],
      "image/png": "[encoded data removed]"
     },
     "metadata": {},
     "output_type": "display_data"
    }
   ],
   "execution_count": 215
  },
  {
   "cell_type": "markdown",
   "metadata": {},
   "source": [
    "# Optymalizacja parametrów\n",
    "W przykładowym problemie optymalizacji parametrów regresji, ręcznie aktualizowaliśmy gradienty. W torch są do tego narzędzia zwane optymalizatorami, znajdują się one w pakiecie torch.optim\n",
    "\n",
    "Najprostszym optymalizaotrem jest algorytm stochastycznego spadku gradientu (Stochastic Gradient Descent) - SGD"
   ]
  },
  {
   "cell_type": "code",
   "metadata": {
    "ExecuteTime": {
     "end_time": "2025-03-04T21:07:03.672295Z",
     "start_time": "2025-03-04T21:07:03.667102Z"
    }
   },
   "source": [
    "model = SimpleClassifier(num_inputs=2, num_hidden=4, num_outputs=1)\n",
    "print(model)"
   ],
   "outputs": [
    {
     "name": "stdout",
     "output_type": "stream",
     "text": [
      "SimpleClassifier(\n",
      "  (linear1): Linear(in_features=2, out_features=4, bias=True)\n",
      "  (act_fn): Tanh()\n",
      "  (linear2): Linear(in_features=4, out_features=1, bias=True)\n",
      ")\n"
     ]
    }
   ],
   "execution_count": 216
  },
  {
   "cell_type": "code",
   "metadata": {
    "ExecuteTime": {
     "end_time": "2025-03-04T21:07:04.971367Z",
     "start_time": "2025-03-04T21:07:03.713399Z"
    }
   },
   "source": [
    "optimizer = torch.optim.SGD(model.parameters(), lr = 0.1)"
   ],
   "outputs": [],
   "execution_count": 217
  },
  {
   "cell_type": "markdown",
   "metadata": {},
   "source": [
    "## Połączmy to wszystko razem"
   ]
  },
  {
   "cell_type": "code",
   "metadata": {
    "ExecuteTime": {
     "end_time": "2025-03-04T21:07:05.004288Z",
     "start_time": "2025-03-04T21:07:04.999828Z"
    }
   },
   "source": [
    "train_dataset = XORDataset(size=1000)\n",
    "train_data_loader = data.DataLoader(train_dataset, batch_size=128, shuffle=True)"
   ],
   "outputs": [],
   "execution_count": 218
  },
  {
   "cell_type": "code",
   "metadata": {
    "ExecuteTime": {
     "end_time": "2025-03-04T21:07:05.041180Z",
     "start_time": "2025-03-04T21:07:05.033594Z"
    }
   },
   "source": [
    "model = SimpleClassifier(num_inputs=2, num_hidden=4, num_outputs=1)\n",
    "model.to(device)"
   ],
   "outputs": [
    {
     "data": {
      "text/plain": [
       "SimpleClassifier(\n",
       "  (linear1): Linear(in_features=2, out_features=4, bias=True)\n",
       "  (act_fn): Tanh()\n",
       "  (linear2): Linear(in_features=4, out_features=1, bias=True)\n",
       ")"
      ]
     },
     "execution_count": 219,
     "metadata": {},
     "output_type": "execute_result"
    }
   ],
   "execution_count": 219
  },
  {
   "cell_type": "code",
   "metadata": {
    "ExecuteTime": {
     "end_time": "2025-03-04T21:07:05.100349Z",
     "start_time": "2025-03-04T21:07:05.096937Z"
    }
   },
   "source": [
    "optimizer = torch.optim.SGD(model.parameters(), lr = 0.1)"
   ],
   "outputs": [],
   "execution_count": 220
  },
  {
   "cell_type": "code",
   "metadata": {
    "ExecuteTime": {
     "end_time": "2025-03-04T21:07:05.140643Z",
     "start_time": "2025-03-04T21:07:05.137520Z"
    }
   },
   "source": [
    "loss_module = nn.BCEWithLogitsLoss()"
   ],
   "outputs": [],
   "execution_count": 221
  },
  {
   "cell_type": "code",
   "metadata": {
    "scrolled": true,
    "ExecuteTime": {
     "end_time": "2025-03-04T21:07:07.198602Z",
     "start_time": "2025-03-04T21:07:05.174868Z"
    }
   },
   "source": [
    "model.train() \n",
    "\n",
    "# Training loop\n",
    "for epoch in range(100):\n",
    "    for data_inputs, data_labels in train_data_loader:\n",
    "\n",
    "        ## Step 1: Move input data to device (only strictly necessary if we use GPU)\n",
    "        data_inputs = data_inputs.to(device)\n",
    "        data_labels = data_labels.to(device)\n",
    "\n",
    "        ## Step 2: Run the model on the input data\n",
    "        preds = model(data_inputs)\n",
    "        preds = preds.squeeze(dim=1) # Output is [Batch size, 1], but we want [Batch size]\n",
    "\n",
    "        ## Step 3: Calculate the loss\n",
    "        loss = loss_module(preds, data_labels.float())\n",
    "\n",
    "        ## Step 4: Perform backpropagation\n",
    "        # Before calculating the gradients, we need to ensure that they are all zero. \n",
    "        # The gradients would not be overwritten, but actually added to the existing ones.\n",
    "        optimizer.zero_grad() \n",
    "        # Perform backpropagation\n",
    "        loss.backward()\n",
    "\n",
    "        ## Step 5: Update the parameters\n",
    "        optimizer.step()\n",
    "    print(f\"Epoch: {epoch}, loss: {loss.item():.3}\")"
   ],
   "outputs": [
    {
     "name": "stdout",
     "output_type": "stream",
     "text": [
      "Epoch: 0, loss: 0.705\n",
      "Epoch: 1, loss: 0.693\n",
      "Epoch: 2, loss: 0.698\n",
      "Epoch: 3, loss: 0.693\n",
      "Epoch: 4, loss: 0.694\n",
      "Epoch: 5, loss: 0.693\n",
      "Epoch: 6, loss: 0.69\n",
      "Epoch: 7, loss: 0.694\n",
      "Epoch: 8, loss: 0.691\n",
      "Epoch: 9, loss: 0.693\n",
      "Epoch: 10, loss: 0.694\n",
      "Epoch: 11, loss: 0.687\n",
      "Epoch: 12, loss: 0.692\n",
      "Epoch: 13, loss: 0.693\n",
      "Epoch: 14, loss: 0.688\n",
      "Epoch: 15, loss: 0.688\n",
      "Epoch: 16, loss: 0.689\n",
      "Epoch: 17, loss: 0.692\n",
      "Epoch: 18, loss: 0.691\n",
      "Epoch: 19, loss: 0.692\n",
      "Epoch: 20, loss: 0.684\n",
      "Epoch: 21, loss: 0.686\n",
      "Epoch: 22, loss: 0.691\n",
      "Epoch: 23, loss: 0.69\n",
      "Epoch: 24, loss: 0.689\n",
      "Epoch: 25, loss: 0.686\n",
      "Epoch: 26, loss: 0.692\n",
      "Epoch: 27, loss: 0.693\n",
      "Epoch: 28, loss: 0.688\n",
      "Epoch: 29, loss: 0.689\n",
      "Epoch: 30, loss: 0.688\n",
      "Epoch: 31, loss: 0.689\n",
      "Epoch: 32, loss: 0.69\n",
      "Epoch: 33, loss: 0.689\n",
      "Epoch: 34, loss: 0.699\n",
      "Epoch: 35, loss: 0.685\n",
      "Epoch: 36, loss: 0.674\n",
      "Epoch: 37, loss: 0.684\n",
      "Epoch: 38, loss: 0.676\n",
      "Epoch: 39, loss: 0.689\n",
      "Epoch: 40, loss: 0.691\n",
      "Epoch: 41, loss: 0.684\n",
      "Epoch: 42, loss: 0.692\n",
      "Epoch: 43, loss: 0.683\n",
      "Epoch: 44, loss: 0.68\n",
      "Epoch: 45, loss: 0.69\n",
      "Epoch: 46, loss: 0.68\n",
      "Epoch: 47, loss: 0.679\n",
      "Epoch: 48, loss: 0.671\n",
      "Epoch: 49, loss: 0.67\n",
      "Epoch: 50, loss: 0.667\n",
      "Epoch: 51, loss: 0.688\n",
      "Epoch: 52, loss: 0.661\n",
      "Epoch: 53, loss: 0.676\n",
      "Epoch: 54, loss: 0.67\n",
      "Epoch: 55, loss: 0.666\n",
      "Epoch: 56, loss: 0.658\n",
      "Epoch: 57, loss: 0.668\n",
      "Epoch: 58, loss: 0.673\n",
      "Epoch: 59, loss: 0.657\n",
      "Epoch: 60, loss: 0.651\n",
      "Epoch: 61, loss: 0.666\n",
      "Epoch: 62, loss: 0.641\n",
      "Epoch: 63, loss: 0.634\n",
      "Epoch: 64, loss: 0.65\n",
      "Epoch: 65, loss: 0.662\n",
      "Epoch: 66, loss: 0.623\n",
      "Epoch: 67, loss: 0.631\n",
      "Epoch: 68, loss: 0.631\n",
      "Epoch: 69, loss: 0.629\n",
      "Epoch: 70, loss: 0.63\n",
      "Epoch: 71, loss: 0.652\n",
      "Epoch: 72, loss: 0.619\n",
      "Epoch: 73, loss: 0.626\n",
      "Epoch: 74, loss: 0.604\n",
      "Epoch: 75, loss: 0.63\n",
      "Epoch: 76, loss: 0.61\n",
      "Epoch: 77, loss: 0.61\n",
      "Epoch: 78, loss: 0.595\n",
      "Epoch: 79, loss: 0.598\n",
      "Epoch: 80, loss: 0.604\n",
      "Epoch: 81, loss: 0.589\n",
      "Epoch: 82, loss: 0.578\n",
      "Epoch: 83, loss: 0.571\n",
      "Epoch: 84, loss: 0.572\n",
      "Epoch: 85, loss: 0.554\n",
      "Epoch: 86, loss: 0.553\n",
      "Epoch: 87, loss: 0.609\n",
      "Epoch: 88, loss: 0.529\n",
      "Epoch: 89, loss: 0.555\n",
      "Epoch: 90, loss: 0.556\n",
      "Epoch: 91, loss: 0.563\n",
      "Epoch: 92, loss: 0.523\n",
      "Epoch: 93, loss: 0.533\n",
      "Epoch: 94, loss: 0.532\n",
      "Epoch: 95, loss: 0.502\n",
      "Epoch: 96, loss: 0.514\n",
      "Epoch: 97, loss: 0.494\n",
      "Epoch: 98, loss: 0.473\n",
      "Epoch: 99, loss: 0.497\n"
     ]
    }
   ],
   "execution_count": 222
  },
  {
   "cell_type": "markdown",
   "metadata": {},
   "source": [
    "### Ewaluacja"
   ]
  },
  {
   "cell_type": "code",
   "metadata": {
    "ExecuteTime": {
     "end_time": "2025-03-04T21:07:07.244813Z",
     "start_time": "2025-03-04T21:07:07.240469Z"
    }
   },
   "source": [
    "test_dataset = XORDataset(size=500)\n",
    "# drop_last -> Don't drop the last batch although it is smaller than 128\n",
    "test_data_loader = data.DataLoader(test_dataset, batch_size=128, shuffle=False, drop_last=False)"
   ],
   "outputs": [],
   "execution_count": 223
  },
  {
   "cell_type": "code",
   "metadata": {
    "ExecuteTime": {
     "end_time": "2025-03-04T21:07:07.297198Z",
     "start_time": "2025-03-04T21:07:07.284817Z"
    }
   },
   "source": [
    "model.eval() # Set model to eval mode\n",
    "true_preds, num_preds = 0., 0.\n",
    "\n",
    "with torch.no_grad(): # Deactivate gradients for the following code\n",
    "    for data_inputs, data_labels in test_data_loader:\n",
    "\n",
    "        # Determine prediction of model on dev set\n",
    "        data_inputs, data_labels = data_inputs.to(device), data_labels.to(device)\n",
    "        preds = model(data_inputs)\n",
    "        preds = preds.squeeze(dim=1)\n",
    "        preds = torch.sigmoid(preds) # Sigmoid to map predictions between 0 and 1\n",
    "        pred_labels = (preds >= 0.5).long() # Binarize predictions to 0 and 1\n",
    "\n",
    "        # Keep records of predictions for the accuracy metric (true_preds=TP+TN, num_preds=TP+TN+FP+FN)\n",
    "        true_preds += (pred_labels == data_labels).sum()\n",
    "        num_preds += data_labels.shape[0]\n",
    "\n",
    "acc = true_preds / num_preds\n",
    "print(f\"Accuracy of the model: {100.0*acc:4.2f}%\")"
   ],
   "outputs": [
    {
     "name": "stdout",
     "output_type": "stream",
     "text": [
      "Accuracy of the model: 73.20%\n"
     ]
    }
   ],
   "execution_count": 224
  },
  {
   "cell_type": "code",
   "metadata": {
    "ExecuteTime": {
     "end_time": "2025-03-04T21:07:07.349394Z",
     "start_time": "2025-03-04T21:07:07.346525Z"
    }
   },
   "source": [
    "from matplotlib.colors import to_rgba"
   ],
   "outputs": [],
   "execution_count": 225
  },
  {
   "cell_type": "code",
   "metadata": {
    "ExecuteTime": {
     "end_time": "2025-03-04T21:07:07.780468Z",
     "start_time": "2025-03-04T21:07:07.482032Z"
    }
   },
   "source": [
    "%matplotlib inline\n",
    "with torch.no_grad():\n",
    "    data = test_dataset.data.cpu().numpy()\n",
    "    label = test_dataset.label.cpu().numpy()\n",
    "    data_0 = data[label == 0]\n",
    "    data_1 = data[label == 1]\n",
    "\n",
    "    plt.figure(figsize=(4,4))\n",
    "    plt.scatter(data_0[:,0], data_0[:,1], edgecolor=\"#333\", label=\"Class 0\")\n",
    "    plt.scatter(data_1[:,0], data_1[:,1], edgecolor=\"#333\", label=\"Class 1\")\n",
    "    plt.title(\"Dataset samples\")\n",
    "    plt.ylabel(r\"$x_2$\")\n",
    "    plt.xlabel(r\"$x_1$\")\n",
    "    plt.legend()\n",
    "\n",
    "    # Let's make use of a lot of operations we have learned above\n",
    "    model.to(device)\n",
    "    c0 = torch.Tensor(to_rgba(\"C0\")).to(device)\n",
    "    c1 = torch.Tensor(to_rgba(\"C1\")).to(device)\n",
    "    x1 = torch.arange(-0.5, 1.5, step=0.01, device=device)\n",
    "    x2 = torch.arange(-0.5, 1.5, step=0.01, device=device)\n",
    "    xx1, xx2 = torch.meshgrid(x1, x2) # Meshgrid function as in numpy\n",
    "    model_inputs = torch.stack([xx1, xx2], dim=-1)\n",
    "    preds = model(model_inputs)\n",
    "    preds = torch.sigmoid(preds)\n",
    "    output_image = preds * c0[None,None] + (1 - preds) * c1[None,None] # Specifying \"None\" in a dimension creates a new one\n",
    "    output_image = output_image.cpu().numpy() # Convert to numpy array. This only works for tensors on CPU, hence first push to CPU\n",
    "    plt.imshow(output_image, origin='upper', extent=(-0.5, 1.5, -0.5, 1.5))\n",
    "    plt.grid(False)"
   ],
   "outputs": [
    {
     "data": {
      "text/plain": [
       "<Figure size 400x400 with 1 Axes>"
      ],
      "image/png": "[encoded data removed]"
     },
     "metadata": {},
     "output_type": "display_data"
    }
   ],
   "execution_count": 226
  },
  {
   "cell_type": "markdown",
   "metadata": {},
   "source": [
    "## Zapisywanie i wczytywanie modelu"
   ]
  },
  {
   "cell_type": "code",
   "metadata": {
    "ExecuteTime": {
     "end_time": "2025-03-04T21:07:07.796411Z",
     "start_time": "2025-03-04T21:07:07.786115Z"
    }
   },
   "source": [
    "state_dict = model.state_dict()\n",
    "print(state_dict)"
   ],
   "outputs": [
    {
     "name": "stdout",
     "output_type": "stream",
     "text": [
      "OrderedDict({'linear1.weight': tensor([[-0.8390, -0.0642],\n",
      "        [ 1.8835,  1.8443],\n",
      "        [ 0.0393, -0.3545],\n",
      "        [-0.3709, -0.3860]], device='cuda:0'), 'linear1.bias': tensor([ 0.1356, -0.3810, -0.6762,  0.3577], device='cuda:0'), 'linear2.weight': tensor([[0.6064, 1.9884, 0.4361, 0.5298]], device='cuda:0'), 'linear2.bias': tensor([-0.7796], device='cuda:0')})\n"
     ]
    }
   ],
   "execution_count": 227
  },
  {
   "cell_type": "code",
   "metadata": {
    "ExecuteTime": {
     "end_time": "2025-03-04T21:07:07.889240Z",
     "start_time": "2025-03-04T21:07:07.883456Z"
    }
   },
   "source": [
    "torch.save(state_dict, \"simple_model.tar\")"
   ],
   "outputs": [],
   "execution_count": 228
  },
  {
   "cell_type": "code",
   "metadata": {
    "ExecuteTime": {
     "end_time": "2025-03-04T21:07:08.083215Z",
     "start_time": "2025-03-04T21:07:08.052462Z"
    }
   },
   "source": [
    "# Load state dict from the disk (make sure it is the same name as above)\n",
    "state_dict = torch.load(\"simple_model.tar\")\n",
    "\n",
    "# Create a new model and load the state\n",
    "new_model = SimpleClassifier(num_inputs=2, num_hidden=4, num_outputs=1).to(device)\n",
    "new_model.load_state_dict(state_dict)\n",
    "# Verify that the parameters are the same\n",
    "print(\"Original model\\n\", model.state_dict())\n",
    "print(\"\\nLoaded model\\n\", new_model.state_dict())"
   ],
   "outputs": [
    {
     "name": "stdout",
     "output_type": "stream",
     "text": [
      "Original model\n",
      " OrderedDict({'linear1.weight': tensor([[-0.8390, -0.0642],\n",
      "        [ 1.8835,  1.8443],\n",
      "        [ 0.0393, -0.3545],\n",
      "        [-0.3709, -0.3860]], device='cuda:0'), 'linear1.bias': tensor([ 0.1356, -0.3810, -0.6762,  0.3577], device='cuda:0'), 'linear2.weight': tensor([[0.6064, 1.9884, 0.4361, 0.5298]], device='cuda:0'), 'linear2.bias': tensor([-0.7796], device='cuda:0')})\n",
      "\n",
      "Loaded model\n",
      " OrderedDict({'linear1.weight': tensor([[-0.8390, -0.0642],\n",
      "        [ 1.8835,  1.8443],\n",
      "        [ 0.0393, -0.3545],\n",
      "        [-0.3709, -0.3860]], device='cuda:0'), 'linear1.bias': tensor([ 0.1356, -0.3810, -0.6762,  0.3577], device='cuda:0'), 'linear2.weight': tensor([[0.6064, 1.9884, 0.4361, 0.5298]], device='cuda:0'), 'linear2.bias': tensor([-0.7796], device='cuda:0')})\n"
     ]
    }
   ],
   "execution_count": 229
  },
  {
   "cell_type": "markdown",
   "metadata": {},
   "source": [
    "## Zrób to sam. Polecane przećwiczyć przed kolejnymi ćwiczeniami.\n",
    "\n",
    "Spróbujmy przewidzieć ocenę wina na podstawie jego parametrów"
   ]
  },
  {
   "cell_type": "code",
   "metadata": {
    "ExecuteTime": {
     "end_time": "2025-03-04T21:07:09.773917Z",
     "start_time": "2025-03-04T21:07:08.116338Z"
    }
   },
   "source": [
    "import pandas as pd\n",
    "df = pd.read_csv('https://archive.ics.uci.edu/ml/machine-learning-databases/wine-quality/winequality-white.csv', delimiter=\";\")"
   ],
   "outputs": [],
   "execution_count": 230
  },
  {
   "cell_type": "markdown",
   "metadata": {},
   "source": [
    "#### ... Jakieś wstępne przetwarzanie danych?"
   ]
  },
  {
   "cell_type": "code",
   "metadata": {
    "ExecuteTime": {
     "end_time": "2025-03-04T21:07:09.872502Z",
     "start_time": "2025-03-04T21:07:09.867497Z"
    }
   },
   "source": [
    "train=df.sample(frac=0.8,random_state=200) #random state is a seed value\n",
    "test=df.drop(train.index)"
   ],
   "outputs": [],
   "execution_count": 231
  },
  {
   "cell_type": "code",
   "metadata": {
    "ExecuteTime": {
     "end_time": "2025-03-04T21:07:09.977038Z",
     "start_time": "2025-03-04T21:07:09.973511Z"
    }
   },
   "source": [
    "import torch.utils.data as data"
   ],
   "outputs": [],
   "execution_count": 232
  },
  {
   "cell_type": "code",
   "metadata": {
    "ExecuteTime": {
     "end_time": "2025-03-04T21:07:10.079070Z",
     "start_time": "2025-03-04T21:07:10.072385Z"
    }
   },
   "source": [
    "train_dataset = data.TensorDataset(torch.from_numpy(train.values[:,:-1]),torch.from_numpy(train.values[:,-1]))\n",
    "next(iter(train_dataset))"
   ],
   "outputs": [
    {
     "data": {
      "text/plain": [
       "(tensor([7.6000e+00, 3.0000e-01, 3.7000e-01, 1.6000e+00, 8.7000e-02, 2.7000e+01,\n",
       "         1.7700e+02, 9.9438e-01, 3.0900e+00, 5.0000e-01, 9.8000e+00],\n",
       "        dtype=torch.float64),\n",
       " tensor(5., dtype=torch.float64))"
      ]
     },
     "execution_count": 233,
     "metadata": {},
     "output_type": "execute_result"
    }
   ],
   "execution_count": 233
  }
 ],
 "metadata": {
  "kernelspec": {
   "display_name": "Python 3 (ipykernel)",
   "language": "python",
   "name": "python3"
  },
  "language_info": {
   "codemirror_mode": {
    "name": "ipython",
    "version": 3
   },
   "file_extension": ".py",
   "mimetype": "text/x-python",
   "name": "python",
   "nbconvert_exporter": "python",
   "pygments_lexer": "ipython3",
   "version": "3.10.12"
  },
  "varInspector": {
   "cols": {
    "lenName": 16,
    "lenType": 16,
    "lenVar": 40
   },
   "kernels_config": {
    "python": {
     "delete_cmd_postfix": "",
     "delete_cmd_prefix": "del ",
     "library": "var_list.py",
     "varRefreshCmd": "print(var_dic_list())"
    },
    "r": {
     "delete_cmd_postfix": ") ",
     "delete_cmd_prefix": "rm(",
     "library": "var_list.r",
     "varRefreshCmd": "cat(var_dic_list()) "
    }
   },
   "types_to_exclude": [
    "module",
    "function",
    "builtin_function_or_method",
    "instance",
    "_Feature"
   ],
   "window_display": false
  }
 },
 "nbformat": 4,
 "nbformat_minor": 4
}
