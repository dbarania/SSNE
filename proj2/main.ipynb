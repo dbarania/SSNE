{
 "cells": [
  {
   "metadata": {},
   "cell_type": "markdown",
   "source": [
    "# Mini projekt 2\n",
    "- Damian Baraniak\n",
    "- Michał Kaniecki"
   ],
   "id": "ab2a4a6465e9d5dc"
  },
  {
   "cell_type": "code",
   "id": "initial_id",
   "metadata": {
    "collapsed": true,
    "ExecuteTime": {
     "end_time": "2025-03-28T16:49:33.036135Z",
     "start_time": "2025-03-28T16:49:33.031625Z"
    }
   },
   "source": [
    "import pandas as pd\n",
    "from sklearn.preprocessing import MinMaxScaler\n",
    "import torch\n",
    "import torch.nn as nn\n",
    "from torch.utils.data import TensorDataset, DataLoader, WeightedRandomSampler\n",
    "import numpy as np\n",
    "from sklearn.metrics import ConfusionMatrixDisplay, confusion_matrix\n"
   ],
   "outputs": [],
   "execution_count": 695
  },
  {
   "metadata": {
    "ExecuteTime": {
     "end_time": "2025-03-28T16:49:33.135267Z",
     "start_time": "2025-03-28T16:49:33.130329Z"
    }
   },
   "cell_type": "code",
   "source": [
    "RANDOM_SEED = 202\n",
    "np.random.seed(RANDOM_SEED)\n",
    "torch.manual_seed(RANDOM_SEED)\n",
    "torch.cuda.manual_seed(RANDOM_SEED)\n",
    "\n",
    "torch.backends.cudnn.deterministic = True\n",
    "torch.backends.cudnn.benchmark = False"
   ],
   "id": "c36294e6fa589ff0",
   "outputs": [],
   "execution_count": 696
  },
  {
   "metadata": {},
   "cell_type": "markdown",
   "source": "## Data processing",
   "id": "b1a1d7d7ac236c78"
  },
  {
   "metadata": {
    "ExecuteTime": {
     "end_time": "2025-03-28T16:49:33.247330Z",
     "start_time": "2025-03-28T16:49:33.226356Z"
    }
   },
   "cell_type": "code",
   "source": [
    "data_prices = pd.read_csv(\"train_data.csv\")\n",
    "data_prices.head(5)"
   ],
   "id": "b39268af52ca4956",
   "outputs": [
    {
     "data": {
      "text/plain": [
       "   SalePrice  YearBuilt  Size(sqf)  Floor HallwayType         HeatingType  \\\n",
       "0     141592       2006        814      3    terraced  individual_heating   \n",
       "1      51327       1985        587      8    corridor  individual_heating   \n",
       "2      48672       1985        587      6    corridor  individual_heating   \n",
       "3     380530       2006       2056      8    terraced  individual_heating   \n",
       "4      78318       1992        644      2       mixed  individual_heating   \n",
       "\n",
       "         AptManageType  N_Parkinglot(Ground)  N_Parkinglot(Basement)  \\\n",
       "0  management_in_trust                 111.0                   184.0   \n",
       "1      self_management                  80.0                    76.0   \n",
       "2      self_management                  80.0                    76.0   \n",
       "3  management_in_trust                 249.0                   536.0   \n",
       "4      self_management                 142.0                    79.0   \n",
       "\n",
       "  TimeToBusStop TimeToSubway  N_manager  N_elevators          SubwayStation  \\\n",
       "0    5min~10min  10min~15min        3.0          0.0  Kyungbuk_uni_hospital   \n",
       "1        0~5min   5min~10min        2.0          2.0                  Daegu   \n",
       "2        0~5min   5min~10min        2.0          2.0                  Daegu   \n",
       "3        0~5min       0-5min        5.0         11.0                Sin-nam   \n",
       "4    5min~10min  15min~20min        4.0          8.0              Myung-duk   \n",
       "\n",
       "   N_FacilitiesInApt  N_FacilitiesNearBy(Total)  N_SchoolNearBy(Total)  \n",
       "0                  5                        6.0                    9.0  \n",
       "1                  3                       12.0                    4.0  \n",
       "2                  3                       12.0                    4.0  \n",
       "3                  5                        3.0                    7.0  \n",
       "4                  3                        9.0                   14.0  "
      ],
      "text/html": [
       "<div>\n",
       "<style scoped>\n",
       "    .dataframe tbody tr th:only-of-type {\n",
       "        vertical-align: middle;\n",
       "    }\n",
       "\n",
       "    .dataframe tbody tr th {\n",
       "        vertical-align: top;\n",
       "    }\n",
       "\n",
       "    .dataframe thead th {\n",
       "        text-align: right;\n",
       "    }\n",
       "</style>\n",
       "<table border=\"1\" class=\"dataframe\">\n",
       "  <thead>\n",
       "    <tr style=\"text-align: right;\">\n",
       "      <th></th>\n",
       "      <th>SalePrice</th>\n",
       "      <th>YearBuilt</th>\n",
       "      <th>Size(sqf)</th>\n",
       "      <th>Floor</th>\n",
       "      <th>HallwayType</th>\n",
       "      <th>HeatingType</th>\n",
       "      <th>AptManageType</th>\n",
       "      <th>N_Parkinglot(Ground)</th>\n",
       "      <th>N_Parkinglot(Basement)</th>\n",
       "      <th>TimeToBusStop</th>\n",
       "      <th>TimeToSubway</th>\n",
       "      <th>N_manager</th>\n",
       "      <th>N_elevators</th>\n",
       "      <th>SubwayStation</th>\n",
       "      <th>N_FacilitiesInApt</th>\n",
       "      <th>N_FacilitiesNearBy(Total)</th>\n",
       "      <th>N_SchoolNearBy(Total)</th>\n",
       "    </tr>\n",
       "  </thead>\n",
       "  <tbody>\n",
       "    <tr>\n",
       "      <th>0</th>\n",
       "      <td>141592</td>\n",
       "      <td>2006</td>\n",
       "      <td>814</td>\n",
       "      <td>3</td>\n",
       "      <td>terraced</td>\n",
       "      <td>individual_heating</td>\n",
       "      <td>management_in_trust</td>\n",
       "      <td>111.0</td>\n",
       "      <td>184.0</td>\n",
       "      <td>5min~10min</td>\n",
       "      <td>10min~15min</td>\n",
       "      <td>3.0</td>\n",
       "      <td>0.0</td>\n",
       "      <td>Kyungbuk_uni_hospital</td>\n",
       "      <td>5</td>\n",
       "      <td>6.0</td>\n",
       "      <td>9.0</td>\n",
       "    </tr>\n",
       "    <tr>\n",
       "      <th>1</th>\n",
       "      <td>51327</td>\n",
       "      <td>1985</td>\n",
       "      <td>587</td>\n",
       "      <td>8</td>\n",
       "      <td>corridor</td>\n",
       "      <td>individual_heating</td>\n",
       "      <td>self_management</td>\n",
       "      <td>80.0</td>\n",
       "      <td>76.0</td>\n",
       "      <td>0~5min</td>\n",
       "      <td>5min~10min</td>\n",
       "      <td>2.0</td>\n",
       "      <td>2.0</td>\n",
       "      <td>Daegu</td>\n",
       "      <td>3</td>\n",
       "      <td>12.0</td>\n",
       "      <td>4.0</td>\n",
       "    </tr>\n",
       "    <tr>\n",
       "      <th>2</th>\n",
       "      <td>48672</td>\n",
       "      <td>1985</td>\n",
       "      <td>587</td>\n",
       "      <td>6</td>\n",
       "      <td>corridor</td>\n",
       "      <td>individual_heating</td>\n",
       "      <td>self_management</td>\n",
       "      <td>80.0</td>\n",
       "      <td>76.0</td>\n",
       "      <td>0~5min</td>\n",
       "      <td>5min~10min</td>\n",
       "      <td>2.0</td>\n",
       "      <td>2.0</td>\n",
       "      <td>Daegu</td>\n",
       "      <td>3</td>\n",
       "      <td>12.0</td>\n",
       "      <td>4.0</td>\n",
       "    </tr>\n",
       "    <tr>\n",
       "      <th>3</th>\n",
       "      <td>380530</td>\n",
       "      <td>2006</td>\n",
       "      <td>2056</td>\n",
       "      <td>8</td>\n",
       "      <td>terraced</td>\n",
       "      <td>individual_heating</td>\n",
       "      <td>management_in_trust</td>\n",
       "      <td>249.0</td>\n",
       "      <td>536.0</td>\n",
       "      <td>0~5min</td>\n",
       "      <td>0-5min</td>\n",
       "      <td>5.0</td>\n",
       "      <td>11.0</td>\n",
       "      <td>Sin-nam</td>\n",
       "      <td>5</td>\n",
       "      <td>3.0</td>\n",
       "      <td>7.0</td>\n",
       "    </tr>\n",
       "    <tr>\n",
       "      <th>4</th>\n",
       "      <td>78318</td>\n",
       "      <td>1992</td>\n",
       "      <td>644</td>\n",
       "      <td>2</td>\n",
       "      <td>mixed</td>\n",
       "      <td>individual_heating</td>\n",
       "      <td>self_management</td>\n",
       "      <td>142.0</td>\n",
       "      <td>79.0</td>\n",
       "      <td>5min~10min</td>\n",
       "      <td>15min~20min</td>\n",
       "      <td>4.0</td>\n",
       "      <td>8.0</td>\n",
       "      <td>Myung-duk</td>\n",
       "      <td>3</td>\n",
       "      <td>9.0</td>\n",
       "      <td>14.0</td>\n",
       "    </tr>\n",
       "  </tbody>\n",
       "</table>\n",
       "</div>"
      ]
     },
     "execution_count": 697,
     "metadata": {},
     "output_type": "execute_result"
    }
   ],
   "execution_count": 697
  },
  {
   "metadata": {},
   "cell_type": "markdown",
   "source": "### Converting columns",
   "id": "38a5e04e0b0cfb36"
  },
  {
   "metadata": {
    "ExecuteTime": {
     "end_time": "2025-03-28T16:49:33.313902Z",
     "start_time": "2025-03-28T16:49:33.288343Z"
    }
   },
   "cell_type": "code",
   "source": [
    "def features_preprocess(data: pd.DataFrame | pd.Series) -> pd.DataFrame | pd.Series:\n",
    "    # Map TimeToBusStop and TimeToSubway\n",
    "    bus_stop_time_map = {\n",
    "        \"0~5min\": 5,\n",
    "        \"5min~10min\": 2,\n",
    "        \"10min~15min\": 0\n",
    "    }\n",
    "    subway_time_map = {\n",
    "        \"0-5min\": 5,\n",
    "        \"5min~10min\": 3,\n",
    "        \"10min~15min\": 2,\n",
    "        \"15min~20min\": 1,\n",
    "        \"no_bus_stop_nearby\": 0\n",
    "    }\n",
    "\n",
    "    data[\"TimeToBusStop\"] = data[\"TimeToBusStop\"].map(bus_stop_time_map)\n",
    "    data[\"TimeToSubway\"] = data[\"TimeToSubway\"].map(subway_time_map)\n",
    "\n",
    "    # One hot encoding for \"HallwayType\", \"HeatingType\", \"AptManageType\", \"SubwayStation\"\n",
    "    dummy_columns = [\"HallwayType\", \"HeatingType\", \"AptManageType\", \"SubwayStation\"]\n",
    "    drop_first = True\n",
    "    return pd.get_dummies(data, columns=dummy_columns, drop_first=drop_first)\n",
    "\n",
    "\n",
    "def label_preprocess(data):\n",
    "    # Classifies SalePrice to appropriate class\n",
    "    data['class'] = pd.cut(data['SalePrice'], bins=[-float('inf'), 10e4, 35e4, float('inf')], labels=[0, 1, 2])\n",
    "    return data.drop(columns=['SalePrice'])\n",
    "\n",
    "\n",
    "processed_data = features_preprocess(data_prices)\n",
    "processed_data = label_preprocess(processed_data)\n",
    "processed_data.head(5)"
   ],
   "id": "c81922dd9ef1c02d",
   "outputs": [
    {
     "data": {
      "text/plain": [
       "   YearBuilt  Size(sqf)  Floor  N_Parkinglot(Ground)  N_Parkinglot(Basement)  \\\n",
       "0       2006        814      3                 111.0                   184.0   \n",
       "1       1985        587      8                  80.0                    76.0   \n",
       "2       1985        587      6                  80.0                    76.0   \n",
       "3       2006       2056      8                 249.0                   536.0   \n",
       "4       1992        644      2                 142.0                    79.0   \n",
       "\n",
       "   TimeToBusStop  TimeToSubway  N_manager  N_elevators  N_FacilitiesInApt  \\\n",
       "0              2             2        3.0          0.0                  5   \n",
       "1              5             3        2.0          2.0                  3   \n",
       "2              5             3        2.0          2.0                  3   \n",
       "3              5             5        5.0         11.0                  5   \n",
       "4              2             1        4.0          8.0                  3   \n",
       "\n",
       "   ...  HeatingType_individual_heating  AptManageType_self_management  \\\n",
       "0  ...                            True                          False   \n",
       "1  ...                            True                           True   \n",
       "2  ...                            True                           True   \n",
       "3  ...                            True                          False   \n",
       "4  ...                            True                           True   \n",
       "\n",
       "   SubwayStation_Banwoldang  SubwayStation_Chil-sung-market  \\\n",
       "0                     False                           False   \n",
       "1                     False                           False   \n",
       "2                     False                           False   \n",
       "3                     False                           False   \n",
       "4                     False                           False   \n",
       "\n",
       "   SubwayStation_Daegu  SubwayStation_Kyungbuk_uni_hospital  \\\n",
       "0                False                                 True   \n",
       "1                 True                                False   \n",
       "2                 True                                False   \n",
       "3                False                                False   \n",
       "4                False                                False   \n",
       "\n",
       "   SubwayStation_Myung-duk  SubwayStation_Sin-nam  \\\n",
       "0                    False                  False   \n",
       "1                    False                  False   \n",
       "2                    False                  False   \n",
       "3                    False                   True   \n",
       "4                     True                  False   \n",
       "\n",
       "   SubwayStation_no_subway_nearby  class  \n",
       "0                           False      1  \n",
       "1                           False      0  \n",
       "2                           False      0  \n",
       "3                           False      2  \n",
       "4                           False      0  \n",
       "\n",
       "[5 rows x 24 columns]"
      ],
      "text/html": [
       "<div>\n",
       "<style scoped>\n",
       "    .dataframe tbody tr th:only-of-type {\n",
       "        vertical-align: middle;\n",
       "    }\n",
       "\n",
       "    .dataframe tbody tr th {\n",
       "        vertical-align: top;\n",
       "    }\n",
       "\n",
       "    .dataframe thead th {\n",
       "        text-align: right;\n",
       "    }\n",
       "</style>\n",
       "<table border=\"1\" class=\"dataframe\">\n",
       "  <thead>\n",
       "    <tr style=\"text-align: right;\">\n",
       "      <th></th>\n",
       "      <th>YearBuilt</th>\n",
       "      <th>Size(sqf)</th>\n",
       "      <th>Floor</th>\n",
       "      <th>N_Parkinglot(Ground)</th>\n",
       "      <th>N_Parkinglot(Basement)</th>\n",
       "      <th>TimeToBusStop</th>\n",
       "      <th>TimeToSubway</th>\n",
       "      <th>N_manager</th>\n",
       "      <th>N_elevators</th>\n",
       "      <th>N_FacilitiesInApt</th>\n",
       "      <th>...</th>\n",
       "      <th>HeatingType_individual_heating</th>\n",
       "      <th>AptManageType_self_management</th>\n",
       "      <th>SubwayStation_Banwoldang</th>\n",
       "      <th>SubwayStation_Chil-sung-market</th>\n",
       "      <th>SubwayStation_Daegu</th>\n",
       "      <th>SubwayStation_Kyungbuk_uni_hospital</th>\n",
       "      <th>SubwayStation_Myung-duk</th>\n",
       "      <th>SubwayStation_Sin-nam</th>\n",
       "      <th>SubwayStation_no_subway_nearby</th>\n",
       "      <th>class</th>\n",
       "    </tr>\n",
       "  </thead>\n",
       "  <tbody>\n",
       "    <tr>\n",
       "      <th>0</th>\n",
       "      <td>2006</td>\n",
       "      <td>814</td>\n",
       "      <td>3</td>\n",
       "      <td>111.0</td>\n",
       "      <td>184.0</td>\n",
       "      <td>2</td>\n",
       "      <td>2</td>\n",
       "      <td>3.0</td>\n",
       "      <td>0.0</td>\n",
       "      <td>5</td>\n",
       "      <td>...</td>\n",
       "      <td>True</td>\n",
       "      <td>False</td>\n",
       "      <td>False</td>\n",
       "      <td>False</td>\n",
       "      <td>False</td>\n",
       "      <td>True</td>\n",
       "      <td>False</td>\n",
       "      <td>False</td>\n",
       "      <td>False</td>\n",
       "      <td>1</td>\n",
       "    </tr>\n",
       "    <tr>\n",
       "      <th>1</th>\n",
       "      <td>1985</td>\n",
       "      <td>587</td>\n",
       "      <td>8</td>\n",
       "      <td>80.0</td>\n",
       "      <td>76.0</td>\n",
       "      <td>5</td>\n",
       "      <td>3</td>\n",
       "      <td>2.0</td>\n",
       "      <td>2.0</td>\n",
       "      <td>3</td>\n",
       "      <td>...</td>\n",
       "      <td>True</td>\n",
       "      <td>True</td>\n",
       "      <td>False</td>\n",
       "      <td>False</td>\n",
       "      <td>True</td>\n",
       "      <td>False</td>\n",
       "      <td>False</td>\n",
       "      <td>False</td>\n",
       "      <td>False</td>\n",
       "      <td>0</td>\n",
       "    </tr>\n",
       "    <tr>\n",
       "      <th>2</th>\n",
       "      <td>1985</td>\n",
       "      <td>587</td>\n",
       "      <td>6</td>\n",
       "      <td>80.0</td>\n",
       "      <td>76.0</td>\n",
       "      <td>5</td>\n",
       "      <td>3</td>\n",
       "      <td>2.0</td>\n",
       "      <td>2.0</td>\n",
       "      <td>3</td>\n",
       "      <td>...</td>\n",
       "      <td>True</td>\n",
       "      <td>True</td>\n",
       "      <td>False</td>\n",
       "      <td>False</td>\n",
       "      <td>True</td>\n",
       "      <td>False</td>\n",
       "      <td>False</td>\n",
       "      <td>False</td>\n",
       "      <td>False</td>\n",
       "      <td>0</td>\n",
       "    </tr>\n",
       "    <tr>\n",
       "      <th>3</th>\n",
       "      <td>2006</td>\n",
       "      <td>2056</td>\n",
       "      <td>8</td>\n",
       "      <td>249.0</td>\n",
       "      <td>536.0</td>\n",
       "      <td>5</td>\n",
       "      <td>5</td>\n",
       "      <td>5.0</td>\n",
       "      <td>11.0</td>\n",
       "      <td>5</td>\n",
       "      <td>...</td>\n",
       "      <td>True</td>\n",
       "      <td>False</td>\n",
       "      <td>False</td>\n",
       "      <td>False</td>\n",
       "      <td>False</td>\n",
       "      <td>False</td>\n",
       "      <td>False</td>\n",
       "      <td>True</td>\n",
       "      <td>False</td>\n",
       "      <td>2</td>\n",
       "    </tr>\n",
       "    <tr>\n",
       "      <th>4</th>\n",
       "      <td>1992</td>\n",
       "      <td>644</td>\n",
       "      <td>2</td>\n",
       "      <td>142.0</td>\n",
       "      <td>79.0</td>\n",
       "      <td>2</td>\n",
       "      <td>1</td>\n",
       "      <td>4.0</td>\n",
       "      <td>8.0</td>\n",
       "      <td>3</td>\n",
       "      <td>...</td>\n",
       "      <td>True</td>\n",
       "      <td>True</td>\n",
       "      <td>False</td>\n",
       "      <td>False</td>\n",
       "      <td>False</td>\n",
       "      <td>False</td>\n",
       "      <td>True</td>\n",
       "      <td>False</td>\n",
       "      <td>False</td>\n",
       "      <td>0</td>\n",
       "    </tr>\n",
       "  </tbody>\n",
       "</table>\n",
       "<p>5 rows × 24 columns</p>\n",
       "</div>"
      ]
     },
     "execution_count": 698,
     "metadata": {},
     "output_type": "execute_result"
    }
   ],
   "execution_count": 698
  },
  {
   "metadata": {
    "ExecuteTime": {
     "end_time": "2025-03-28T16:49:33.387022Z",
     "start_time": "2025-03-28T16:49:33.378421Z"
    }
   },
   "cell_type": "code",
   "source": [
    "print(processed_data.shape)\n",
    "train_data = processed_data.sample(frac=0.8, random_state=RANDOM_SEED)\n",
    "processed_data = processed_data.drop(train_data.index)\n",
    "val_data = processed_data.sample(frac=0.6, random_state=RANDOM_SEED)\n",
    "test_data = processed_data.drop(val_data.index)\n",
    "\n",
    "print(\"Dataset sizes\")\n",
    "\n",
    "print(f\"Train: {train_data.shape}\")\n",
    "print(f\"Val:   {val_data.shape} samples\")\n",
    "print(f\"Test:  {test_data.shape} samples\")"
   ],
   "id": "95fd99a73175db1c",
   "outputs": [
    {
     "name": "stdout",
     "output_type": "stream",
     "text": [
      "(4124, 24)\n",
      "Dataset sizes\n",
      "Train: (3299, 24)\n",
      "Val:   (495, 24) samples\n",
      "Test:  (330, 24) samples\n"
     ]
    }
   ],
   "execution_count": 699
  },
  {
   "metadata": {
    "ExecuteTime": {
     "end_time": "2025-03-28T16:49:33.457377Z",
     "start_time": "2025-03-28T16:49:33.450856Z"
    }
   },
   "cell_type": "code",
   "source": [
    "train_X, train_y = train_data.drop(columns='class'), train_data['class']\n",
    "val_X, val_y = val_data.drop(columns='class'), val_data['class']\n",
    "test_X, test_y = test_data.drop(columns='class'), test_data['class']\n"
   ],
   "id": "703249f0f23f6d43",
   "outputs": [],
   "execution_count": 700
  },
  {
   "metadata": {
    "ExecuteTime": {
     "end_time": "2025-03-28T16:49:33.646790Z",
     "start_time": "2025-03-28T16:49:33.632593Z"
    }
   },
   "cell_type": "code",
   "source": [
    "X_scaler = MinMaxScaler()\n",
    "\n",
    "train_X = X_scaler.fit_transform(train_X)\n",
    "val_X = X_scaler.transform(val_X)\n",
    "test_X = X_scaler.transform(test_X)\n",
    "\n",
    "train_y = train_y.to_numpy().astype(np.int32)\n",
    "val_y = val_y.to_numpy().astype(np.int32)\n",
    "test_y = test_y.to_numpy().astype(np.int32)"
   ],
   "id": "286819075a301718",
   "outputs": [],
   "execution_count": 701
  },
  {
   "metadata": {
    "ExecuteTime": {
     "end_time": "2025-03-28T16:49:33.657860Z",
     "start_time": "2025-03-28T16:49:33.651800Z"
    }
   },
   "cell_type": "code",
   "source": [
    "device = torch.device(\"cuda\" if torch.cuda.is_available() else \"cpu\")\n",
    "f\"Using device: {device}\""
   ],
   "id": "c0c5ffc232369c77",
   "outputs": [
    {
     "data": {
      "text/plain": [
       "'Using device: cuda'"
      ]
     },
     "execution_count": 702,
     "metadata": {},
     "output_type": "execute_result"
    }
   ],
   "execution_count": 702
  },
  {
   "metadata": {
    "ExecuteTime": {
     "end_time": "2025-03-28T16:49:33.845061Z",
     "start_time": "2025-03-28T16:49:33.838240Z"
    }
   },
   "cell_type": "code",
   "source": [
    "X_train_tensor = torch.tensor(train_X, dtype=torch.float32).to(device)\n",
    "y_train_tensor = torch.tensor(train_y, dtype=torch.long).to(device)\n",
    "\n",
    "X_val_tensor = torch.tensor(val_X, dtype=torch.float32).to(device)\n",
    "y_val_tensor = torch.tensor(val_y, dtype=torch.long).to(device)\n",
    "\n",
    "X_test_tensor = torch.tensor(test_X, dtype=torch.float32).to(device)\n",
    "y_test_tensor = torch.tensor(test_y, dtype=torch.long).to(device)"
   ],
   "id": "772ecc7e7438aef7",
   "outputs": [],
   "execution_count": 703
  },
  {
   "metadata": {
    "ExecuteTime": {
     "end_time": "2025-03-28T16:49:33.939056Z",
     "start_time": "2025-03-28T16:49:33.934782Z"
    }
   },
   "cell_type": "code",
   "source": [
    "train_dataset = TensorDataset(X_train_tensor, y_train_tensor)\n",
    "val_dataset = TensorDataset(X_val_tensor, y_val_tensor)\n",
    "test_dataset = TensorDataset(X_test_tensor, y_test_tensor)"
   ],
   "id": "b954bd312d44422a",
   "outputs": [],
   "execution_count": 704
  },
  {
   "metadata": {
    "ExecuteTime": {
     "end_time": "2025-03-28T16:49:33.953324Z",
     "start_time": "2025-03-28T16:49:33.947601Z"
    }
   },
   "cell_type": "code",
   "source": [
    "class_weights = [0.91, 0.77, 1.3]\n",
    "sample_weights = np.array([class_weights[label] for label in train_y])\n",
    "sample_weights = torch.FloatTensor(sample_weights)\n",
    "\n",
    "sampler = WeightedRandomSampler(weights=sample_weights, num_samples=len(sample_weights), replacement=True)"
   ],
   "id": "acd0a32073337760",
   "outputs": [],
   "execution_count": 705
  },
  {
   "metadata": {
    "ExecuteTime": {
     "end_time": "2025-03-28T16:49:34.042109Z",
     "start_time": "2025-03-28T16:49:34.037360Z"
    }
   },
   "cell_type": "code",
   "source": [
    "BATCH_SIZE = 256\n",
    "train_data_loader = DataLoader(train_dataset, batch_size=BATCH_SIZE, sampler=sampler)\n",
    "val_data_loader = DataLoader(val_dataset, batch_size=BATCH_SIZE, shuffle=False)\n",
    "test_data_loader = DataLoader(train_dataset, batch_size=BATCH_SIZE, shuffle=False)"
   ],
   "id": "c582e7c8dab04981",
   "outputs": [],
   "execution_count": 706
  },
  {
   "metadata": {
    "ExecuteTime": {
     "end_time": "2025-03-28T16:49:34.136048Z",
     "start_time": "2025-03-28T16:49:34.123450Z"
    }
   },
   "cell_type": "code",
   "source": [
    "class SalePricesModel(nn.Module):\n",
    "    def __init__(self, input_size: int):\n",
    "        super().__init__()\n",
    "        self.model = nn.Sequential(\n",
    "            nn.Linear(input_size, 1024),\n",
    "            nn.BatchNorm1d(1024),\n",
    "            nn.LeakyReLU(),\n",
    "            nn.Dropout(0.2),\n",
    "\n",
    "            nn.Linear(1024, 512),\n",
    "            nn.BatchNorm1d(512),\n",
    "            nn.LeakyReLU(),\n",
    "            nn.Dropout(0.2),\n",
    "\n",
    "            nn.Linear(512, 128),\n",
    "            nn.BatchNorm1d(128),\n",
    "            nn.LeakyReLU(),\n",
    "\n",
    "            nn.Linear(128, 3)\n",
    "        )\n",
    "\n",
    "    def forward(self, x):\n",
    "        return self.model(x)\n",
    "\n",
    "\n",
    "input_size = train_X.shape[1]\n",
    "price_model = SalePricesModel(input_size).to(device)"
   ],
   "id": "23240562ee50fd5d",
   "outputs": [],
   "execution_count": 707
  },
  {
   "metadata": {
    "ExecuteTime": {
     "end_time": "2025-03-28T16:49:34.219240Z",
     "start_time": "2025-03-28T16:49:34.215099Z"
    }
   },
   "cell_type": "code",
   "source": [
    "criterion = nn.CrossEntropyLoss()\n",
    "optimizer = torch.optim.Adam(price_model.parameters(), lr=0.001, weight_decay=1e-5)\n",
    "scheduler = torch.optim.lr_scheduler.StepLR(optimizer, step_size=100, gamma=0.8)"
   ],
   "id": "6cc91bf8716c4b49",
   "outputs": [],
   "execution_count": 708
  },
  {
   "metadata": {
    "ExecuteTime": {
     "end_time": "2025-03-28T16:49:34.423967Z",
     "start_time": "2025-03-28T16:49:34.419961Z"
    }
   },
   "cell_type": "code",
   "source": [
    "def predict_from_logits(logits, y_hat):\n",
    "    pred_probabilities = nn.Softmax(dim=1)(logits)\n",
    "    predictions = pred_probabilities.argmax(1)\n",
    "\n",
    "    correct = (predictions == y_hat).sum().item()\n",
    "    return predictions, correct"
   ],
   "id": "eb67f3d75382f040",
   "outputs": [],
   "execution_count": 709
  },
  {
   "metadata": {
    "ExecuteTime": {
     "end_time": "2025-03-28T16:49:34.515667Z",
     "start_time": "2025-03-28T16:49:34.508967Z"
    }
   },
   "cell_type": "code",
   "source": [
    "def train(model: nn.Module, epochs: int) -> np.ndarray:\n",
    "    train_losses = []\n",
    "    val_losses = []\n",
    "    train_acc = []\n",
    "    val_acc = []\n",
    "\n",
    "    for epoch in range(epochs):\n",
    "        total_train_loss = 0\n",
    "        total_val_loss = 0\n",
    "\n",
    "        train_correct = 0\n",
    "        train_total = 0\n",
    "\n",
    "        val_correct = 0\n",
    "        val_total = 0\n",
    "\n",
    "        model.train()\n",
    "        for data_inputs, data_labels in train_data_loader:\n",
    "            outputs = model(data_inputs)\n",
    "            loss = criterion(outputs, data_labels)\n",
    "            optimizer.zero_grad()\n",
    "            loss.backward()\n",
    "            optimizer.step()\n",
    "            total_train_loss += loss.item()\n",
    "\n",
    "            _, correct = predict_from_logits(outputs, data_labels)\n",
    "\n",
    "            train_correct += correct\n",
    "            train_total += data_labels.size(0)\n",
    "\n",
    "        train_accuracy = 100 * train_correct / train_total\n",
    "        avg_train_loss = total_train_loss / len(train_data_loader)\n",
    "        train_losses.append(avg_train_loss)\n",
    "        train_acc.append(train_accuracy)\n",
    "\n",
    "        model.eval()\n",
    "        with torch.no_grad():\n",
    "            for data_inputs, data_labels in val_data_loader:\n",
    "                data_inputs, data_labels = data_inputs.to(device), data_labels.to(device)\n",
    "\n",
    "                outputs = model(data_inputs)\n",
    "\n",
    "                loss = criterion(outputs.squeeze(dim=1), data_labels)\n",
    "                total_val_loss += loss.item()\n",
    "\n",
    "                _, correct = predict_from_logits(outputs, data_labels)\n",
    "\n",
    "                val_correct += correct\n",
    "                val_total += data_labels.size(0)\n",
    "\n",
    "        val_accuracy = 100 * val_correct / val_total\n",
    "        avg_val_loss = total_val_loss / len(val_data_loader)\n",
    "        val_losses.append(avg_val_loss)\n",
    "        val_acc.append(val_accuracy)\n",
    "\n",
    "        scheduler.step()\n",
    "        if (epoch + 1) % 10 == 0:\n",
    "            print(f\"Epoch {epoch + 1}| Train Loss = {avg_train_loss:.4f} Train acc = {train_accuracy:.4f}\"\n",
    "                  f\"| Val Loss = {avg_val_loss:.4f}| Val acc = {val_accuracy:.4f}\")\n",
    "\n",
    "    result = [train_losses, train_acc, val_losses, val_acc]\n",
    "    return np.array(result)"
   ],
   "id": "a7a929f93fc9a070",
   "outputs": [],
   "execution_count": 710
  },
  {
   "metadata": {
    "ExecuteTime": {
     "end_time": "2025-03-28T16:49:54.834485Z",
     "start_time": "2025-03-28T16:49:34.600249Z"
    }
   },
   "cell_type": "code",
   "source": "out = train(price_model, epochs=250)",
   "id": "d10baa91c45590e0",
   "outputs": [
    {
     "name": "stdout",
     "output_type": "stream",
     "text": [
      "Epoch 10| Train Loss = 0.3252 Train acc = 84.5408| Val Loss = 0.3672| Val acc = 81.6162\n",
      "Epoch 20| Train Loss = 0.2914 Train acc = 85.8745| Val Loss = 0.3287| Val acc = 83.4343\n",
      "Epoch 30| Train Loss = 0.3144 Train acc = 84.9348| Val Loss = 0.3272| Val acc = 82.6263\n",
      "Epoch 40| Train Loss = 0.2930 Train acc = 85.6017| Val Loss = 0.3294| Val acc = 82.8283\n",
      "Epoch 50| Train Loss = 0.2890 Train acc = 85.5411| Val Loss = 0.3227| Val acc = 81.8182\n",
      "Epoch 60| Train Loss = 0.2821 Train acc = 85.6320| Val Loss = 0.3302| Val acc = 85.0505\n",
      "Epoch 70| Train Loss = 0.2627 Train acc = 86.8445| Val Loss = 0.3253| Val acc = 82.6263\n",
      "Epoch 80| Train Loss = 0.2694 Train acc = 87.2689| Val Loss = 0.3269| Val acc = 83.8384\n",
      "Epoch 90| Train Loss = 0.2921 Train acc = 85.6623| Val Loss = 0.3172| Val acc = 84.8485\n",
      "Epoch 100| Train Loss = 0.2673 Train acc = 86.5717| Val Loss = 0.3243| Val acc = 84.6465\n",
      "Epoch 110| Train Loss = 0.2711 Train acc = 86.0867| Val Loss = 0.3182| Val acc = 85.0505\n",
      "Epoch 120| Train Loss = 0.2829 Train acc = 85.6320| Val Loss = 0.3329| Val acc = 83.0303\n",
      "Epoch 130| Train Loss = 0.2751 Train acc = 85.2076| Val Loss = 0.3356| Val acc = 84.2424\n",
      "Epoch 140| Train Loss = 0.2574 Train acc = 86.6323| Val Loss = 0.3333| Val acc = 84.0404\n",
      "Epoch 150| Train Loss = 0.2724 Train acc = 86.6929| Val Loss = 0.3256| Val acc = 83.8384\n",
      "Epoch 160| Train Loss = 0.2635 Train acc = 86.3595| Val Loss = 0.3407| Val acc = 83.2323\n",
      "Epoch 170| Train Loss = 0.2784 Train acc = 85.6926| Val Loss = 0.3340| Val acc = 84.0404\n",
      "Epoch 180| Train Loss = 0.2715 Train acc = 85.9048| Val Loss = 0.3429| Val acc = 84.0404\n",
      "Epoch 190| Train Loss = 0.2607 Train acc = 86.3292| Val Loss = 0.3271| Val acc = 84.0404\n",
      "Epoch 200| Train Loss = 0.2684 Train acc = 86.1776| Val Loss = 0.3387| Val acc = 83.8384\n",
      "Epoch 210| Train Loss = 0.2557 Train acc = 87.2082| Val Loss = 0.3403| Val acc = 83.4343\n",
      "Epoch 220| Train Loss = 0.2602 Train acc = 86.5414| Val Loss = 0.3329| Val acc = 85.2525\n",
      "Epoch 230| Train Loss = 0.2640 Train acc = 86.4808| Val Loss = 0.3390| Val acc = 85.0505\n",
      "Epoch 240| Train Loss = 0.2649 Train acc = 86.1473| Val Loss = 0.3467| Val acc = 84.8485\n",
      "Epoch 250| Train Loss = 0.2495 Train acc = 87.8751| Val Loss = 0.3376| Val acc = 84.0404\n"
     ]
    }
   ],
   "execution_count": 711
  },
  {
   "metadata": {
    "ExecuteTime": {
     "end_time": "2025-03-28T16:49:54.891022Z",
     "start_time": "2025-03-28T16:49:54.841679Z"
    }
   },
   "cell_type": "code",
   "source": [
    "price_model.eval()\n",
    "true_preds, num_preds = 0., 0.\n",
    "\n",
    "test_y_hat = []\n",
    "test_y = []\n",
    "with torch.no_grad():\n",
    "    for data_inputs, data_labels in test_data_loader:\n",
    "        data_inputs, data_labels = data_inputs.to(device), data_labels.to(device)\n",
    "\n",
    "        logits = price_model(data_inputs)\n",
    "        predictions, correct = predict_from_logits(logits, data_labels)\n",
    "\n",
    "        test_y_hat.append(predictions.to(\"cpu\").numpy())\n",
    "        test_y.append(data_labels.to(\"cpu\").numpy())\n",
    "\n",
    "        true_preds += correct\n",
    "        num_preds += data_labels.shape[0]\n",
    "\n",
    "test_accuracy = (true_preds / num_preds) * 100.0\n",
    "print(f\"Accuracy of the model: {test_accuracy:.2f}%\")"
   ],
   "id": "dcf22c756741b073",
   "outputs": [
    {
     "name": "stdout",
     "output_type": "stream",
     "text": [
      "Accuracy of the model: 87.81%\n"
     ]
    }
   ],
   "execution_count": 712
  },
  {
   "metadata": {
    "ExecuteTime": {
     "end_time": "2025-03-28T16:49:55.094210Z",
     "start_time": "2025-03-28T16:49:55.088961Z"
    }
   },
   "cell_type": "code",
   "source": [
    "def accuracies_for_classes(cm: np.array):\n",
    "    accs = []\n",
    "    for class_idx in range(cm.shape[0]):\n",
    "        acc = (cm[class_idx, class_idx] / np.sum(cm[class_idx, :])) * 100\n",
    "        accs.append(acc)\n",
    "\n",
    "    return accs"
   ],
   "id": "57604e48004b2951",
   "outputs": [],
   "execution_count": 713
  },
  {
   "metadata": {
    "ExecuteTime": {
     "end_time": "2025-03-28T16:49:55.110446Z",
     "start_time": "2025-03-28T16:49:55.103945Z"
    }
   },
   "cell_type": "code",
   "source": [
    "test_y = np.concatenate(test_y)\n",
    "test_y_hat = np.concatenate(test_y_hat)\n",
    "cm = confusion_matrix(test_y, test_y_hat)\n",
    "\n",
    "accuracies = accuracies_for_classes(cm)\n",
    "labels = [\"Cheap\", \"Average\", \"Expensive\"]\n",
    "for i, acc in enumerate(accuracies):\n",
    "    print(f\"Accuracy for class {labels[i]:<10} ({i}): {acc:.2f} %\")\n",
    "print()\n",
    "print(f\"Test accuracy: {test_accuracy:.2f} %\")"
   ],
   "id": "d14dd95e20462d7c",
   "outputs": [
    {
     "name": "stdout",
     "output_type": "stream",
     "text": [
      "Accuracy for class Cheap      (0): 77.06 %\n",
      "Accuracy for class Average    (1): 90.94 %\n",
      "Accuracy for class Expensive  (2): 81.94 %\n",
      "\n",
      "Test accuracy: 87.81 %\n"
     ]
    }
   ],
   "execution_count": 714
  },
  {
   "metadata": {},
   "cell_type": "markdown",
   "source": "## Predicting",
   "id": "a5d530677d07b7cd"
  },
  {
   "metadata": {
    "ExecuteTime": {
     "end_time": "2025-03-28T16:49:55.234879Z",
     "start_time": "2025-03-28T16:49:55.211783Z"
    }
   },
   "cell_type": "code",
   "source": [
    "data_test = pd.read_csv(\"test_data.csv\")\n",
    "print(data_test.shape)\n",
    "\n",
    "X_test = features_preprocess(data_test)\n",
    "\n",
    "price_model.eval()\n",
    "X_test = X_scaler.transform(X_test)  # Use transform, not fit_transform (avoid data leakage)\n",
    "X_test_tensor = torch.tensor(X_test, dtype=torch.float32).to(device)\n",
    "\n",
    "with torch.no_grad():\n",
    "    logits = price_model(X_test_tensor)\n",
    "    probabilities = torch.softmax(logits, dim=1)  # Convert logits to probabilities\n",
    "    predictions = probabilities.argmax(dim=1).cpu().numpy()  # Get predicted class indices\n",
    "\n",
    "# Create and save DataFrame\n",
    "output_df = pd.DataFrame(predictions, columns=[\"Prediction\"])\n",
    "output_df.to_csv(\"pred.csv\", index=False, header=False)"
   ],
   "id": "67223fae67c8f1f4",
   "outputs": [
    {
     "name": "stdout",
     "output_type": "stream",
     "text": [
      "(1767, 16)\n"
     ]
    }
   ],
   "execution_count": 715
  }
 ],
 "metadata": {
  "kernelspec": {
   "display_name": "Python 3",
   "language": "python",
   "name": "python3"
  },
  "language_info": {
   "codemirror_mode": {
    "name": "ipython",
    "version": 2
   },
   "file_extension": ".py",
   "mimetype": "text/x-python",
   "name": "python",
   "nbconvert_exporter": "python",
   "pygments_lexer": "ipython2",
   "version": "2.7.6"
  }
 },
 "nbformat": 4,
 "nbformat_minor": 5
}
